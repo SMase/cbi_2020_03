{
 "cells": [
  {
   "cell_type": "markdown",
   "metadata": {},
   "source": [
    "## GNN_DTI Based Learning"
   ]
  },
  {
   "cell_type": "code",
   "execution_count": 1,
   "metadata": {},
   "outputs": [],
   "source": [
    "%load_ext autoreload\n",
    "%autoreload 2"
   ]
  },
  {
   "cell_type": "code",
   "execution_count": 2,
   "metadata": {},
   "outputs": [],
   "source": [
    "%matplotlib inline\n",
    "\n",
    "import torch\n",
    "import torch.nn as nn\n",
    "from torch.utils.data import DataLoader                                     \n",
    "from gnn import gnn\n",
    "import numpy as np\n",
    "import pandas as pd\n",
    "from scipy import stats\n",
    "from sklearn import metrics\n",
    "import utils\n",
    "from train_tools import *\n",
    "import os, time, shutil, itertools, sys, random\n",
    "from IPython.display import clear_output"
   ]
  },
  {
   "cell_type": "code",
   "execution_count": 3,
   "metadata": {},
   "outputs": [],
   "source": [
    "class Opts: pass"
   ]
  },
  {
   "cell_type": "code",
   "execution_count": null,
   "metadata": {},
   "outputs": [],
   "source": []
  },
  {
   "cell_type": "markdown",
   "metadata": {},
   "source": [
    "### Options"
   ]
  },
  {
   "cell_type": "code",
   "execution_count": 4,
   "metadata": {},
   "outputs": [],
   "source": [
    "gnn_opts = Opts()\n",
    "gnn_opts.n_graph_layer = 4\n",
    "gnn_opts.d_graph_layer = 140\n",
    "gnn_opts.n_FC_layer = 4\n",
    "gnn_opts.d_FC_layer = 128\n",
    "gnn_opts.initial_mu = 4.0\n",
    "gnn_opts.initial_dev = 1.0\n",
    "gnn_opts.dropout_rate = 0.1"
   ]
  },
  {
   "cell_type": "code",
   "execution_count": 5,
   "metadata": {},
   "outputs": [],
   "source": [
    "learn_opts = Opts()\n",
    "learn_opts.num_epochs = 100\n",
    "learn_opts.lr = 0.001\n",
    "learn_opts.batch_size = 128"
   ]
  },
  {
   "cell_type": "code",
   "execution_count": 6,
   "metadata": {},
   "outputs": [],
   "source": [
    "myopts = Opts()\n",
    "myopts.data_fpath = 'cbidata'\n",
    "myopts.save_dir = 'save'\n",
    "#!Important: For production, random train and test may be preferred\n",
    "myopts.random_stratify = True\n",
    "myopts.cache_dir = '/tmp/moldata'\n",
    "#Important! If you repeat experiments within the same dataset version, set to False\n",
    "myopts.clear_cache = False\n",
    "myopts.train_keys = 'keys/keys_klifs'\n",
    "myopts.kinase_list = 'keys/kinase_list'\n",
    "#Important!: The newest version is 3, still 1 and 2 are acceptible, 4 for silly atom feature disabling setup\n",
    "myopts.dataset_version = 4\n",
    "myopts.cpu_count = 10"
   ]
  },
  {
   "cell_type": "code",
   "execution_count": 7,
   "metadata": {},
   "outputs": [
    {
     "name": "stderr",
     "output_type": "stream",
     "text": [
      "This is a silly setup, practically disabling atom features\n"
     ]
    }
   ],
   "source": [
    "__ver = myopts.dataset_version\n",
    "assert __ver in list(range(1, 5))\n",
    "if __ver == 1:\n",
    "    import dataset as ds\n",
    "elif __ver == 2:\n",
    "    import dataset2 as ds\n",
    "elif __ver ==  3:\n",
    "    import dataset3 as ds\n",
    "else:\n",
    "    print('This is a silly setup, practically disabling atom features', file=sys.stderr)\n",
    "    import dataset4 as ds"
   ]
  },
  {
   "cell_type": "code",
   "execution_count": null,
   "metadata": {},
   "outputs": [],
   "source": []
  },
  {
   "cell_type": "markdown",
   "metadata": {},
   "source": [
    "### Support functions for learning loop"
   ]
  },
  {
   "cell_type": "code",
   "execution_count": 8,
   "metadata": {},
   "outputs": [],
   "source": [
    "def learn(model, loader, train=True):\n",
    "    losses = []\n",
    "    for sample in loader:\n",
    "        model.zero_grad()\n",
    "        H, A1, A2, Y, V, keys, _ = sample\n",
    "        H, A1, A2, Y, V = H.to(device), A1.to(device), A2.to(device), Y.to(device), V.to(device)\n",
    "\n",
    "        pred = model.train_model((H, A1, A2, V))\n",
    "        loss = loss_fn(pred, Y)\n",
    "        if train:\n",
    "            loss.backward()\n",
    "            optimizer.step()\n",
    "        losses.append(loss.data.cpu().numpy())\n",
    "    mean_loss = np.mean(np.array(losses))\n",
    "    return mean_loss\n",
    "\n",
    "def test(model, loader):\n",
    "    test_true, test_pred, test_label = [], [], []\n",
    "\n",
    "    saliency_list = []\n",
    "    n_atom_list = []\n",
    "\n",
    "    model.eval()\n",
    "    for i_batch, sample in enumerate(loader):\n",
    "        model.zero_grad()\n",
    "        H, A1, A2, Y, V, keys, n_atom = sample\n",
    "        H, A1, A2, Y, V = H.to(device), A1.to(device), A2.to(device), Y.to(device), V.to(device)\n",
    "\n",
    "        embed = model.embede(H)\n",
    "        model.zero_grad()\n",
    "        pred = model.test_model((embed, A1, A2, V))\n",
    "\n",
    "        out = torch.sum(pred)\n",
    "        embed.retain_grad()\n",
    "        out.backward()\n",
    "        saliency = embed.grad.clone()\n",
    "        saliency *= embed.data.clone()\n",
    "\n",
    "        test_true.append(Y.data.cpu().numpy())\n",
    "        test_pred.append(pred.data.cpu().numpy())\n",
    "        test_label.append(keys)\n",
    "        saliency_list.append(saliency)\n",
    "        n_atom_list.append(n_atom)\n",
    "\n",
    "    test_pred = np.concatenate(test_pred, 0)\n",
    "    test_true = np.concatenate(test_true, 0)\n",
    "    test_pred = np.array(test_pred)\n",
    "    test_true = np.array(test_true)\n",
    "    return test_true, test_pred, test_label, saliency_list, n_atom_list\n",
    "\n",
    "def get_stats(X, y):\n",
    "    rmse = metrics.mean_squared_error(X, y)**0.5\n",
    "    mae = metrics.mean_absolute_error(X, y)\n",
    "    r2 = stats.pearsonr(X, y)\n",
    "    rho = stats.spearmanr(X, y)\n",
    "    return rmse, mae, r2[0], rho[0]\n",
    "\n",
    "def update_train_loss(train_loss, best_train_loss):\n",
    "    if train_loss < best_train_loss:\n",
    "        best_train_loss = train_loss\n",
    "    return best_train_loss\n",
    "\n",
    "def update_test_loss(model, opts, test_loss, best_val_loss, epoch):\n",
    "    output = False\n",
    "    if test_loss < best_val_loss:\n",
    "        best_val_loss = test_loss\n",
    "        output = True\n",
    "    if output:\n",
    "        torch.save(model.state_dict(), f'{opts.save_dir}/save_{epoch}.pt')\n",
    "        torch.save(model.state_dict(), f'{opts.save_dir}/model_weights.pt')\n",
    "    return best_val_loss, output"
   ]
  },
  {
   "cell_type": "code",
   "execution_count": null,
   "metadata": {},
   "outputs": [],
   "source": []
  },
  {
   "cell_type": "markdown",
   "metadata": {},
   "source": [
    "### Setup"
   ]
  },
  {
   "cell_type": "code",
   "execution_count": 9,
   "metadata": {},
   "outputs": [],
   "source": [
    "if myopts.clear_cache:\n",
    "    try:\n",
    "        shutil.rmtree(myopts.cache_dir)\n",
    "    except:\n",
    "        pass"
   ]
  },
  {
   "cell_type": "code",
   "execution_count": 10,
   "metadata": {
    "scrolled": true
   },
   "outputs": [
    {
     "name": "stdout",
     "output_type": "stream",
     "text": [
      "[('4XJ0', 1), ('3PXZ', 0), ('3DS6', 1), ('2GQG', 1), ('3LXK', 1), ('2EVA', 0), ('5AUZ', 0), ('4QP7', 0), ('2G2H', 1), ('5AV3', 0), ('2FO0', 1), ('4ZLZ', 0), ('3FMK', 1), ('1OVE', 1), ('4J1R', 0), ('5AUW', 0), ('5EOB', 1), ('5AUV', 0), ('3DKG', 1), ('4D2W', 0), ('2YEX', 1), ('1PMN', 1), ('3VBT', 0), ('4O0T', 0), ('5IPJ', 1), ('5IA2', 1), ('2BRG', 0), ('6C4D', 1), ('1H1P', 0), ('5VCX', 0), ('1OIT', 1), ('3A61', 1), ('4IDT', 0), ('3NW5', 0), ('3VHK', 0), ('3SXR', 1), ('5X27', 1), ('2RG5', 1), ('5XYX', 0), ('4V05', 1), ('1M7Q', 1), ('4AQC', 1), ('2XBJ', 1), ('4ZIM', 1), ('1YI3', 0), ('3R00', 0), ('5BUE', 1), ('6OPH', 1), ('3GFE', 1), ('3B8R', 1), ('3KRJ', 1), ('3IW4', 1), ('3NUS', 0), ('6BSD', 1), ('2W17', 1), ('3H30', 0), ('5VAM', 1), ('4ZZM', 0), ('5TX5', 1), ('1W0X', 0), ('4Q9S', 0), ('4N70', 1), ('4TYI', 0), ('6BQL', 1), ('4K18', 1), ('4ZZO', 0), ('3RIN', 1), ('2B7A', 1), ('3BPR', 0), ('5CSP', 0), ('3SKC', 1), ('4K8A', 0), ('2XEY', 0), ('2VTL', 0), ('2RKU', 1), ('4CV9', 0), ('4RLO', 1), ('4ERW', 1), ('2BPM', 1), ('2EXM', 0), ('4IAA', 0), ('4GU9', 0), ('3U8W', 1), ('3FLS', 1), ('1Y57', 0), ('5YU9', 1), ('2GDO', 1), ('3FPM', 0), ('5AUU', 0), ('2OFV', 1), ('5UIU', 1), ('2VTH', 0), ('4XG9', 1), ('6CK6', 1), ('5K76', 1), ('5AV2', 0), ('4MBL', 1), ('4J53', 1), ('4QP2', 0), ('3VBX', 0), ('4WRS', 1), ('4EZ7', 1), ('2C6I', 0), ('5JGA', 1), ('5HKM', 0), ('3PRF', 1), ('4ASE', 1), ('3FLN', 1), ('3JXW', 1), ('5VUC', 1), ('2ITT', 1), ('3PPK', 1), ('5EI2', 0), ('5NG2', 0), ('2BRB', 0), ('5UT6', 0), ('5EDR', 1), ('5HO7', 0), ('5V82', 1), ('2YIX', 1), ('3BZ3', 1), ('3WBL', 0), ('1E1V', 0), ('2XK4', 0), ('5UIQ', 0), ('5VD3', 0), ('5F94', 1), ('2VWV', 0), ('3V8T', 1), ('6FNM', 1), ('5XYY', 0), ('2UZO', 0), ('3F88', 1), ('5FEQ', 1), ('3UOH', 1), ('5W86', 1), ('2BR1', 0), ('2W05', 1), ('6GDQ', 0), ('3ZLX', 0), ('5EKO', 0), ('6G92', 0), ('4U43', 0), ('4HVD', 1), ('4FTO', 1), ('5HBJ', 1), ('6GE0', 1), ('2WMR', 0), ('4JXF', 1), ('6JQR', 1), ('5UT0', 1), ('3CGF', 1), ('3E62', 0), ('3LXP', 1), ('4XEY', 1), ('4FSU', 1), ('1AQ1', 1), ('5NHO', 0), ('5X2C', 1), ('4EK4', 0), ('6H3K', 1), ('2YAC', 1), ('5DIA', 1), ('2VTP', 1), ('3ZLY', 0), ('6NO9', 1), ('5BVW', 1), ('6O9D', 1), ('4LQM', 1), ('4J71', 0), ('5AUX', 0), ('3R01', 0), ('3ZZE', 1), ('5TA6', 1), ('2WEV', 1), ('5VO6', 1), ('2ITP', 1), ('3UOK', 1), ('4G31', 1), ('5WAL', 1), ('4FKL', 0), ('3DT1', 1), ('4CV8', 0), ('5BVE', 1), ('4JAJ', 0), ('5J79', 1), ('5K4I', 1), ('2JIU', 1), ('2J90', 1), ('5AX9', 0), ('4ZP5', 0), ('3LHJ', 1), ('3A2C', 0), ('4QP1', 0), ('4LL0', 1), ('4TY1', 1), ('5FRI', 1), ('3NZ0', 1), ('3OCG', 1), ('6JOK', 1), ('1OPL', 1), ('4ZZN', 0), ('2WMU', 0), ('3VBV', 0), ('4RIO', 1), ('6HK4', 1), ('1PXJ', 0), ('2C5O', 0), ('4RWJ', 1), ('5I0B', 0), ('5BVD', 1), ('3VO3', 1), ('4J52', 1), ('6JPJ', 1), ('6GU6', 1), ('5IH8', 0), ('5EDQ', 1), ('3NUU', 0), ('3OW4', 0), ('4AG8', 1), ('4RWK', 1), ('3K54', 1), ('4RFM', 1), ('5FGK', 1), ('5HBE', 1), ('2WGJ', 1), ('2J6M', 1), ('5HNG', 0), ('4YHT', 1), ('5KZI', 1), ('1W7H', 0), ('4LRM', 1), ('2FVD', 1), ('4E6D', 1), ('6C19', 1), ('1ZZ2', 0), ('1NVR', 1), ('3TKI', 1)]\n"
     ]
    },
    {
     "data": {
      "text/plain": [
       "(238, 58, 374)"
      ]
     },
     "execution_count": 10,
     "metadata": {},
     "output_type": "execute_result"
    }
   ],
   "source": [
    "os.makedirs(myopts.save_dir, exist_ok=True)\n",
    "\n",
    "train = read_keyfile(myopts.train_keys)\n",
    "train_keys, test_keys, test2_keys = filter_and_stratify(train, random_stratify=myopts.random_stratify, kinase_check=False)\n",
    "\n",
    "T = []\n",
    "for key, pkd in train_keys:\n",
    "    if 8.5 <= pkd:\n",
    "        T.append((key, 1))\n",
    "    elif pkd < 5.5:\n",
    "        T.append((key, 0))\n",
    "train_keys = T\n",
    "\n",
    "T = []\n",
    "for key, pkd in test_keys:\n",
    "    if 8.5 <= pkd:\n",
    "        T.append((key, 1))\n",
    "    elif pkd < 5.5:\n",
    "        T.append((key, 0))\n",
    "test_keys = T\n",
    "\n",
    "if False: # for testing with CPU\n",
    "    train_keys = train_keys[:200]\n",
    "    test_keys = test_keys[:50]\n",
    "\n",
    "print(train_keys)\n",
    "write_keys(train_keys, 'train.local.key')\n",
    "write_keys(test_keys, 'test.local.key')\n",
    "write_keys(test2_keys, 'test2.local.key')\n",
    "\n",
    "len(train_keys), len(test_keys), len(test2_keys)"
   ]
  },
  {
   "cell_type": "code",
   "execution_count": 11,
   "metadata": {},
   "outputs": [
    {
     "data": {
      "text/plain": [
       "device(type='cpu')"
      ]
     },
     "execution_count": 11,
     "metadata": {},
     "output_type": "execute_result"
    }
   ],
   "source": [
    "device = torch.device('cuda:0' if torch.cuda.is_available() else 'cpu')\n",
    "device"
   ]
  },
  {
   "cell_type": "code",
   "execution_count": 12,
   "metadata": {},
   "outputs": [
    {
     "data": {
      "text/plain": [
       "(238, 58)"
      ]
     },
     "execution_count": 12,
     "metadata": {},
     "output_type": "execute_result"
    }
   ],
   "source": [
    "train_dataset = ds.MolDataset([k for k, v in train_keys], [v for k, v in train_keys], myopts.data_fpath)\n",
    "test_dataset = ds.MolDataset([k for k, v in test_keys], [v for k, v in test_keys], myopts.data_fpath)\n",
    "len(train_dataset), len(test_dataset)"
   ]
  },
  {
   "cell_type": "code",
   "execution_count": 13,
   "metadata": {
    "scrolled": false
   },
   "outputs": [
    {
     "data": {
      "text/plain": [
       "1"
      ]
     },
     "execution_count": 13,
     "metadata": {},
     "output_type": "execute_result"
    }
   ],
   "source": [
    "gnn_opts.N_atom_features = train_dataset[0]['H'].shape[1]//2\n",
    "gnn_opts.N_atom_features"
   ]
  },
  {
   "cell_type": "code",
   "execution_count": 14,
   "metadata": {},
   "outputs": [],
   "source": [
    "train_dataloader = DataLoader(train_dataset, learn_opts.batch_size, shuffle=True, num_workers=myopts.cpu_count, collate_fn=ds.collate_fn)\n",
    "test_dataloader = DataLoader(test_dataset, learn_opts.batch_size, shuffle=True, num_workers=myopts.cpu_count, collate_fn=ds.collate_fn)"
   ]
  },
  {
   "cell_type": "code",
   "execution_count": null,
   "metadata": {},
   "outputs": [],
   "source": []
  },
  {
   "cell_type": "markdown",
   "metadata": {},
   "source": [
    "### Start Learning"
   ]
  },
  {
   "cell_type": "code",
   "execution_count": null,
   "metadata": {
    "scrolled": false
   },
   "outputs": [
    {
     "name": "stdout",
     "output_type": "stream",
     "text": [
      "Epoch: 8\tLapse: 5.4s\tLosses: (0.211, 0.214)\tBest: (0.210, 0.214)\n"
     ]
    },
    {
     "data": {
      "image/png": "[encoded data removed]",
      "text/plain": [
       "<Figure size 720x288 with 2 Axes>"
      ]
     },
     "metadata": {
      "needs_background": "light"
     },
     "output_type": "display_data"
    },
    {
     "name": "stdout",
     "output_type": "stream",
     "text": [
      "rmse: 0.462, mae: 0.430, r2: 0.739, rho: 0.753\n"
     ]
    }
   ],
   "source": [
    "CLEAR_OUTPUT_WHEN_UPDATE = True\n",
    "SHOW_VERY_BAD_MOLS = True\n",
    "\n",
    "model = utils.initialize_model(gnn(gnn_opts), device)\n",
    "print ('number of parameters : ', sum(p.numel() for p in model.parameters() if p.requires_grad))\n",
    "optimizer = torch.optim.Adam(model.parameters(), lr=learn_opts.lr)\n",
    "loss_fn = nn.MSELoss()\n",
    "best_train_loss, best_val_loss = np.inf, np.inf\n",
    "\n",
    "Los = []\n",
    "Lps = []\n",
    "\n",
    "for epoch in range(learn_opts.num_epochs):\n",
    "    st = time.time()\n",
    "    train_losses, test_losses = [], []\n",
    "\n",
    "    model.train()\n",
    "    train_loss = learn(model, train_dataloader)\n",
    "    Los.append(train_loss)\n",
    "\n",
    "    model.eval()\n",
    "    test_loss = learn(model, test_dataloader, train=False)\n",
    "    Lps.append(test_loss)\n",
    "\n",
    "    lapse = time.time() - st\n",
    "\n",
    "    best_train_loss = update_train_loss(train_loss, best_train_loss)\n",
    "    best_val_loss, output = update_test_loss(model, myopts, test_loss, best_val_loss, epoch)\n",
    "\n",
    "    output = output or epoch == learn_opts.num_epochs - 1\n",
    "\n",
    "    if output:\n",
    "        X, y, L, S, N = test(model, test_dataloader)\n",
    "        L = list(itertools.chain.from_iterable(L))\n",
    "        write_results_to_csv(L, X, y, np.abs(X-y), epoch)\n",
    "        rmse, mae, r2, rho = get_stats(X, y)\n",
    "        if CLEAR_OUTPUT_WHEN_UPDATE:\n",
    "            clear_output()\n",
    "\n",
    "    ls = [f'Epoch: {epoch}',\n",
    "          f'Lapse: {lapse:.1f}s',\n",
    "          f'Losses: ({train_loss:.3f}, {test_loss:.3f})',\n",
    "          f'Best: ({best_train_loss:.3f}, {best_val_loss:.3f})']\n",
    "    print('\\t'.join(ls))\n",
    "\n",
    "    if output:\n",
    "        myplot(X, y, Los, Lps)\n",
    "        print(f'rmse: {rmse:5.3f}, mae: {mae:5.3f}, r2: {r2:5.3f}, rho: {rho:5.3f}')\n",
    "        if SHOW_VERY_BAD_MOLS:\n",
    "            show_bad_molecules(L, X, y, np.abs(X-y), len(X))"
   ]
  },
  {
   "cell_type": "code",
   "execution_count": null,
   "metadata": {},
   "outputs": [],
   "source": []
  }
 ],
 "metadata": {
  "kernelspec": {
   "display_name": "Python 3",
   "language": "python",
   "name": "python3"
  },
  "language_info": {
   "codemirror_mode": {
    "name": "ipython",
    "version": 3
   },
   "file_extension": ".py",
   "mimetype": "text/x-python",
   "name": "python",
   "nbconvert_exporter": "python",
   "pygments_lexer": "ipython3",
   "version": "3.7.7"
  }
 },
 "nbformat": 4,
 "nbformat_minor": 4
}
