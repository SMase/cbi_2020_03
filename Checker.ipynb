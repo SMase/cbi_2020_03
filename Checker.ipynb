{
 "cells": [
  {
   "cell_type": "code",
   "execution_count": null,
   "metadata": {},
   "outputs": [],
   "source": [
    "import os\n",
    "from rdkit import Chem\n",
    "from rdkit.Chem import QED, Draw\n",
    "from rdkit.Chem.Draw import rdMolDraw2D\n",
    "from IPython.display import SVG\n",
    "import numpy as np\n",
    "import pandas as pd\n",
    "import matplotlib.pyplot as plt\n",
    "%matplotlib inline"
   ]
  },
  {
   "cell_type": "markdown",
   "metadata": {},
   "source": [
    "## Prep"
   ]
  },
  {
   "cell_type": "code",
   "execution_count": null,
   "metadata": {
    "scrolled": true
   },
   "outputs": [],
   "source": [
    "TRAIN_KEYS = 'keys/keys_select'\n",
    "TEST_KEYS = 'keys/keys_2018'"
   ]
  },
  {
   "cell_type": "code",
   "execution_count": null,
   "metadata": {},
   "outputs": [],
   "source": [
    "def get_ligand_mol(pdb_code):\n",
    "    sdf_found = False\n",
    "    for f in os.listdir(f'cbidata/{pdb_code}'):\n",
    "        if f.endswith('.sdf'):\n",
    "            sdf_found = True\n",
    "            sdf_fname = f'cbidata/{pdb_code}/{f}'\n",
    "            ligand_mol = Chem.MolFromMolFile(sdf_fname)\n",
    "            ligand_mol.SetProp('_Name', f[:3])\n",
    "            break\n",
    "    if not sdf_found:\n",
    "        return None\n",
    "    return ligand_mol"
   ]
  },
  {
   "cell_type": "code",
   "execution_count": null,
   "metadata": {},
   "outputs": [],
   "source": [
    "def molsvg(mol, width=150, height=100):\n",
    "    mol = Chem.MolFromSmiles(Chem.MolToSmiles(mol))\n",
    "    view = rdMolDraw2D.MolDraw2DSVG(width, height)\n",
    "    tm = rdMolDraw2D.PrepareMolForDrawing(mol)\n",
    "    option = view.drawOptions()\n",
    "    option.circleAtoms=False\n",
    "    view.DrawMolecule(tm)\n",
    "    view.FinishDrawing()\n",
    "    svg = view.GetDrawingText()\n",
    "    return SVG(svg)"
   ]
  },
  {
   "cell_type": "code",
   "execution_count": null,
   "metadata": {},
   "outputs": [],
   "source": [
    "keys = []\n",
    "pkds = []\n",
    "for keyfile in [TRAIN_KEYS, TEST_KEYS]:\n",
    "    for line in open(keyfile):\n",
    "        it = line.rstrip().split('\\t')\n",
    "        pdb_code, ligand_name, year, value = it[0], it[1], int(it[2]), float(it[3])\n",
    "        keys.append(pdb_code)\n",
    "        pkds.append(value)"
   ]
  },
  {
   "cell_type": "code",
   "execution_count": null,
   "metadata": {},
   "outputs": [],
   "source": [
    "ligand_mols = []\n",
    "\n",
    "for key, pkd in zip(keys, pkds):\n",
    "    if not os.path.exists(f'cbidata/{key}'):\n",
    "        continue\n",
    "    ligand_mol = get_ligand_mol(key)\n",
    "    if not ligand_mol:\n",
    "        continue\n",
    "\n",
    "    ligand_mol.SetProp('pkd', str(pkd))\n",
    "    ligand_mol.SetProp('key', key)\n",
    "    qed = round(QED.qed(ligand_mol), 3)\n",
    "    ligand_mol.SetProp('qed', str(qed))\n",
    "    #n_atoms = ligand_mol.GetNumAtoms()\n",
    "    ligand_mols.append(ligand_mol)"
   ]
  },
  {
   "cell_type": "markdown",
   "metadata": {},
   "source": [
    "## Customize your view"
   ]
  },
  {
   "cell_type": "markdown",
   "metadata": {},
   "source": [
    "### Sorting mols"
   ]
  },
  {
   "cell_type": "code",
   "execution_count": null,
   "metadata": {},
   "outputs": [],
   "source": [
    "ligand_mols.sort(key=lambda m: m.GetNumAtoms())"
   ]
  },
  {
   "cell_type": "code",
   "execution_count": null,
   "metadata": {},
   "outputs": [],
   "source": [
    "ligand_mols.sort(key=lambda m: float(m.GetProp('pkd')))"
   ]
  },
  {
   "cell_type": "markdown",
   "metadata": {},
   "source": [
    "### Histogram"
   ]
  },
  {
   "cell_type": "code",
   "execution_count": null,
   "metadata": {},
   "outputs": [],
   "source": [
    "pkds = np.array([float(mol.GetProp('pkd')) for mol in ligand_mols])\n",
    "plt.hist(pkds, bins=range(15))\n",
    "pkds.min(), pkds.max(), pkds.mean()"
   ]
  },
  {
   "cell_type": "code",
   "execution_count": null,
   "metadata": {},
   "outputs": [],
   "source": [
    "natoms = np.array([mol.GetNumAtoms() for mol in ligand_mols])\n",
    "plt.hist(natoms, bins=[5*i for i in range(14)])\n",
    "natoms.min(), natoms.max(), natoms.mean()"
   ]
  },
  {
   "cell_type": "code",
   "execution_count": null,
   "metadata": {
    "scrolled": true
   },
   "outputs": [],
   "source": [
    "qeds = np.array([float(mol.GetProp('qed')) for mol in ligand_mols])\n",
    "plt.hist(qeds, bins=[0.1*i for i in range(11)])\n",
    "qeds.min(), qeds.max(), qeds.mean()"
   ]
  },
  {
   "cell_type": "markdown",
   "metadata": {},
   "source": [
    "### Show molecules"
   ]
  },
  {
   "cell_type": "code",
   "execution_count": null,
   "metadata": {},
   "outputs": [],
   "source": [
    "def get_molinfo(mol):\n",
    "    class T: pass\n",
    "    t = T()\n",
    "    t.key = mol.GetProp('key')\n",
    "    t.name = mol.GetProp('_Name')\n",
    "    t.natoms = mol.GetNumAtoms()\n",
    "    t.pkd = float(mol.GetProp('pkd'))\n",
    "    t.qed = float(mol.GetProp('qed'))\n",
    "    return t"
   ]
  },
  {
   "cell_type": "code",
   "execution_count": null,
   "metadata": {
    "scrolled": true
   },
   "outputs": [],
   "source": [
    "for mol in ligand_mols:\n",
    "    t = get_molinfo(mol)\n",
    "    if t.pkd < 10:\n",
    "        continue\n",
    "    print(f'{t.key}\\t{t.name}\\t{t.natoms}\\t{t.pkd}\\t{t.qed}')\n",
    "    display(molsvg(mol, width=200, height=100))"
   ]
  },
  {
   "cell_type": "code",
   "execution_count": null,
   "metadata": {},
   "outputs": [],
   "source": [
    "for mol in ligand_mols:\n",
    "    t = get_molinfo(mol)\n",
    "    if 10 <= t.natoms <= 45:\n",
    "        continue\n",
    "    print(f'{t.key}\\t{t.name}\\t{t.natoms}\\t{t.pkd}\\t{t.qed}')\n",
    "    display(molsvg(mol, width=200, height=100))"
   ]
  },
  {
   "cell_type": "code",
   "execution_count": null,
   "metadata": {},
   "outputs": [],
   "source": []
  }
 ],
 "metadata": {
  "kernelspec": {
   "display_name": "Python 3",
   "language": "python",
   "name": "python3"
  },
  "language_info": {
   "codemirror_mode": {
    "name": "ipython",
    "version": 3
   },
   "file_extension": ".py",
   "mimetype": "text/x-python",
   "name": "python",
   "nbconvert_exporter": "python",
   "pygments_lexer": "ipython3",
   "version": "3.7.7"
  }
 },
 "nbformat": 4,
 "nbformat_minor": 4
}
