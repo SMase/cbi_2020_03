{
 "cells": [
  {
   "cell_type": "markdown",
   "metadata": {},
   "source": [
    "### 入力層データの説明"
   ]
  },
  {
   "cell_type": "markdown",
   "metadata": {},
   "source": [
    "```\n",
    "python train.py -l 0.001 -D 0.3 -E 1000 -g 0 -B 256 -v 2 -d cbidata -T keys/keys_select -t keys/keys_2018\n",
    "```\n",
    "のcachingを一度終えてから^Cで止める。/tmp/moldataの中に入力層のデータが出来上がっている。"
   ]
  },
  {
   "cell_type": "code",
   "execution_count": 89,
   "metadata": {},
   "outputs": [],
   "source": [
    "import numpy as np\n",
    "import pickle\n",
    "from rdkit import Chem\n",
    "\n",
    "class WidePrint:\n",
    "    def __enter__(self):\n",
    "        np.set_printoptions(edgeitems=1000000, linewidth=120)\n",
    "    def __exit__(self, exc_type, exc_value, traceback):\n",
    "        np.set_printoptions(edgeitems=3)"
   ]
  },
  {
   "cell_type": "code",
   "execution_count": 90,
   "metadata": {},
   "outputs": [
    {
     "name": "stdout",
     "output_type": "stream",
     "text": [
      "1mwt.pkl  3cj2.pkl  3m89.pkl  3wzn.pkl  4fcq.pkl  4mq6.pkl  4uyf.pkl  5cyv.pkl\r\n",
      "2jgs.pkl  3cj4.pkl  3m8u.pkl  3wzp.pkl  4fcr.pkl  4mr4.pkl  4v01.pkl  5czm.pkl\r\n",
      "2oz2.pkl  3cj5.pkl  3m94.pkl  3wzq.pkl  4ffs.pkl  4mr6.pkl  4v04.pkl  5d0c.pkl\r\n",
      "2p3i.pkl  3cow.pkl  3m96.pkl  3zcw.pkl  4fht.pkl  4mre.pkl  4w52.pkl  5d0r.pkl\r\n",
      "2p7a.pkl  3coy.pkl  3mam.pkl  3zhx.pkl  4fl1.pkl  4mrf.pkl  4w53.pkl  5d1r.pkl\r\n",
      "2p7g.pkl  3coz.pkl  3mf5.pkl  3zhz.pkl  4fl2.pkl  4mrg.pkl  4w54.pkl  5d21.pkl\r\n",
      "2pqb.pkl  3cr4.pkl  3mhi.pkl  3zi0.pkl  4fl3.pkl  4mrh.pkl  4w55.pkl  5d24.pkl\r\n",
      "2pqc.pkl  3cr5.pkl  3mhl.pkl  3zk6.pkl  4flp.pkl  4mue.pkl  4w57.pkl  5d25.pkl\r\n",
      "2pym.pkl  3ctr.pkl  3mhm.pkl  3zll.pkl  4fm7.pkl  4mul.pkl  4w9c.pkl  5d26.pkl\r\n",
      "2pyn.pkl  3cwk.pkl  3mho.pkl  3zln.pkl  4fm8.pkl  4muv.pkl  4w9d.pkl  5d3c.pkl\r\n",
      "2q2n.pkl  3cyz.pkl  3miy.pkl  3zlr.pkl  4fmu.pkl  4my6.pkl  4w9f.pkl  5d3h.pkl\r\n",
      "2q63.pkl  3cz1.pkl  3mo2.pkl  3zm9.pkl  4fnn.pkl  4n07.pkl  4w9h.pkl  5d3j.pkl\r\n",
      "2q88.pkl  3d0b.pkl  3mo5.pkl  3zos.pkl  4fqo.pkl  4n5d.pkl  4w9i.pkl  5d3l.pkl\r\n",
      "2q89.pkl  3d2t.pkl  3ms9.pkl  3zqe.pkl  4fxp.pkl  4n6h.pkl  4w9j.pkl  5d3n.pkl\r\n",
      "2qbu.pkl  3d4f.pkl  3mss.pkl  3zso.pkl  4fxq.pkl  4n7m.pkl  4w9k.pkl  5d3p.pkl\r\n",
      "2qfo.pkl  3d78.pkl  3muf.pkl  3zsq.pkl  4fzj.pkl  4n7u.pkl  4w9l.pkl  5d3t.pkl\r\n",
      "2qhm.pkl  3d7k.pkl  3mxf.pkl  3zsx.pkl  4g0p.pkl  4n9c.pkl  4w9w.pkl  5d3x.pkl\r\n",
      "2qpu.pkl  3da9.pkl  3myg.pkl  3zsy.pkl  4g0q.pkl  4nbk.pkl  4w9x.pkl  5d7x.pkl\r\n",
      "2qry.pkl  3dkj.pkl  3myq.pkl  3zt2.pkl  4g0z.pkl  4nbl.pkl  4wet.pkl  5d9p.pkl\r\n",
      "2qtn.pkl  3dp4.pkl  3n1c.pkl  3zt3.pkl  4g2r.pkl  4nbn.pkl  4wf2.pkl  5dbm.pkl\r\n",
      "2r75.pkl  3dp9.pkl  3n35.pkl  3zt4.pkl  4g5f.pkl  4ndu.pkl  4wf4.pkl  5dkn.pkl\r\n",
      "2rcb.pkl  3dst.pkl  3n6k.pkl  3zxe.pkl  4g5y.pkl  4nj3.pkl  4whq.pkl  5dkr.pkl\r\n",
      "2reg.pkl  3dsu.pkl  3n75.pkl  3zy5.pkl  4g8m.pkl  4nj9.pkl  4whr.pkl  5dlx.pkl\r\n",
      "2rin.pkl  3dsz.pkl  3n7h.pkl  3zyu.pkl  4g8n.pkl  4nja.pkl  4whs.pkl  5dlz.pkl\r\n",
      "2uyw.pkl  3dzt.pkl  3n7s.pkl  4a4v.pkl  4g8r.pkl  4nka.pkl  4wiv.pkl  5dnu.pkl\r\n",
      "2uzj.pkl  3e5u.pkl  3n8k.pkl  4a4w.pkl  4gah.pkl  4nkt.pkl  4wk1.pkl  5doh.pkl\r\n",
      "2v57.pkl  3ebl.pkl  3n9s.pkl  4a6s.pkl  4ge1.pkl  4nnr.pkl  4wke.pkl  5dq8.pkl\r\n",
      "2v58.pkl  3ed0.pkl  3nee.pkl  4ab8.pkl  4ggz.pkl  4np2.pkl  4wm9.pkl  5dqf.pkl\r\n",
      "2v59.pkl  3eeb.pkl  3neo.pkl  4ab9.pkl  4ghi.pkl  4np3.pkl  4wmc.pkl  5drs.pkl\r\n",
      "2vc9.pkl  3ekq.pkl  3nes.pkl  4aba.pkl  4glw.pkl  4np9.pkl  4wmu.pkl  5dtk.pkl\r\n",
      "2vcb.pkl  3eks.pkl  3nex.pkl  4abb.pkl  4glx.pkl  4nra.pkl  4wmv.pkl  5dts.pkl\r\n",
      "2vk2.pkl  3ekw.pkl  3nhi.pkl  4abd.pkl  4gny.pkl  4nyf.pkl  4wmx.pkl  5dtt.pkl\r\n",
      "2vmd.pkl  3ekx.pkl  3njq.pkl  4abg.pkl  4gq4.pkl  4nzo.pkl  4wmy.pkl  5du4.pkl\r\n",
      "2vmf.pkl  3eky.pkl  3nkk.pkl  4abh.pkl  4gqp.pkl  4o0a.pkl  4wn5.pkl  5du8.pkl\r\n",
      "2vo4.pkl  3el0.pkl  3nm6.pkl  4abk.pkl  4gu6.pkl  4o3f.pkl  4wr7.pkl  5dus.pkl\r\n",
      "2vpn.pkl  3el1.pkl  3npc.pkl  4aci.pkl  4gu9.pkl  4o61.pkl  4wri.pkl  5dx4.pkl\r\n",
      "2vpo.pkl  3el4.pkl  3nq3.pkl  4ad6.pkl  4gue.pkl  4ock.pkl  4wt2.pkl  5dyo.pkl\r\n",
      "2vrj.pkl  3el5.pkl  3nq9.pkl  4ah9.pkl  4gui.pkl  4ocq.pkl  4wup.pkl  5e1s.pkl\r\n",
      "2vuk.pkl  3el9.pkl  3nrz.pkl  4ahr.pkl  4guj.pkl  4ocv.pkl  4wvl.pkl  5e2m.pkl\r\n",
      "2vvn.pkl  3ern.pkl  3nx7.pkl  4ahs.pkl  4gv8.pkl  4oex.pkl  4ww6.pkl  5e2n.pkl\r\n",
      "2vw5.pkl  3ew2.pkl  3o4k.pkl  4ahu.pkl  4gwk.pkl  4og3.pkl  4ww8.pkl  5e3d.pkl\r\n",
      "2vwc.pkl  3exe.pkl  3o56.pkl  4ahv.pkl  4h5e.pkl  4og4.pkl  4wyz.pkl  5e5g.pkl\r\n",
      "2vx9.pkl  3exh.pkl  3o75.pkl  4ai5.pkl  4h7q.pkl  4ogi.pkl  4x11.pkl  5e7n.pkl\r\n",
      "2vxn.pkl  3f15.pkl  3o84.pkl  4aia.pkl  4h81.pkl  4ogj.pkl  4x1f.pkl  5e8a.pkl\r\n",
      "2vyt.pkl  3f16.pkl  3o8p.pkl  4aj1.pkl  4h85.pkl  4oi6.pkl  4x3t.pkl  5ea4.pkl\r\n",
      "2vzr.pkl  3f17.pkl  3o9p.pkl  4aj2.pkl  4hbm.pkl  4oiv.pkl  4x50.pkl  5eb3.pkl\r\n",
      "2w08.pkl  3f18.pkl  3oj8.pkl  4aj4.pkl  4hfp.pkl  4oks.pkl  4x5p.pkl  5ech.pkl\r\n",
      "2w4x.pkl  3f19.pkl  3oob.pkl  4aje.pkl  4hiq.pkl  4omj.pkl  4x5q.pkl  5eci.pkl\r\n",
      "2w87.pkl  3f1a.pkl  3ouj.pkl  4aji.pkl  4his.pkl  4omk.pkl  4x5r.pkl  5ect.pkl\r\n",
      "2w8j.pkl  3f33.pkl  3ovn.pkl  4ajk.pkl  4hj2.pkl  4or4.pkl  4x5y.pkl  5edd.pkl\r\n",
      "2w8w.pkl  3f34.pkl  3ozj.pkl  4ajl.pkl  4ht0.pkl  4ovh.pkl  4x5z.pkl  5edl.pkl\r\n",
      "2w92.pkl  3f35.pkl  3p2e.pkl  4ajn.pkl  4ht2.pkl  4p3h.pkl  4x8t.pkl  5efa.pkl\r\n",
      "2w97.pkl  3f36.pkl  3p2h.pkl  4ajo.pkl  4hu1.pkl  4p5z.pkl  4xcb.pkl  5egs.pkl\r\n",
      "2w9h.pkl  3f37.pkl  3p3r.pkl  4al4.pkl  4hva.pkl  4pb2.pkl  4xcu.pkl  5egu.pkl\r\n",
      "2wc4.pkl  3f38.pkl  3p3s.pkl  4aq4.pkl  4i7j.pkl  4pd6.pkl  4xk9.pkl  5eh5.pkl\r\n",
      "2we3.pkl  3f39.pkl  3p3t.pkl  4aq6.pkl  4i7k.pkl  4pf5.pkl  4xkb.pkl  5eh7.pkl\r\n",
      "2weg.pkl  3f6e.pkl  3p5o.pkl  4aqh.pkl  4i7l.pkl  4phu.pkl  4xmb.pkl  5eh8.pkl\r\n",
      "2weh.pkl  3f78.pkl  3p7i.pkl  4arb.pkl  4i7m.pkl  4pin.pkl  4xo8.pkl  5ehe.pkl\r\n",
      "2wej.pkl  3f80.pkl  3p8e.pkl  4arw.pkl  4i7p.pkl  4pio.pkl  4xoc.pkl  5ehr.pkl\r\n",
      "2weo.pkl  3f8c.pkl  3p9t.pkl  4asj.pkl  4i8x.pkl  4pmm.pkl  4xoe.pkl  5ehv.pkl\r\n",
      "2weq.pkl  3f8f.pkl  3pb3.pkl  4att.pkl  4i9o.pkl  4pnu.pkl  4xrq.pkl  5ehw.pkl\r\n",
      "2wer.pkl  3fat.pkl  3pcu.pkl  4au7.pkl  4ibb.pkl  4poh.pkl  4xt2.pkl  5ei3.pkl\r\n",
      "2wf5.pkl  3feg.pkl  3pd2.pkl  4auj.pkl  4ibc.pkl  4poj.pkl  4xtv.pkl  5eis.pkl\r\n",
      "2wic.pkl  3fgc.pkl  3pd3.pkl  4auy.pkl  4ibd.pkl  4pop.pkl  4xtw.pkl  5ejl.pkl\r\n",
      "2wji.pkl  3fh7.pkl  3pd4.pkl  4av0.pkl  4ibe.pkl  4pov.pkl  4xty.pkl  5ek9.pkl\r\n",
      "2wkt.pkl  3fhb.pkl  3po1.pkl  4av4.pkl  4ibf.pkl  4pow.pkl  4xu0.pkl  5ekh.pkl\r\n",
      "2wl4.pkl  3fj7.pkl  3ppp.pkl  4av5.pkl  4ibg.pkl  4pox.pkl  4xu1.pkl  5ekj.pkl\r\n",
      "2wl5.pkl  3fjg.pkl  3ppq.pkl  4avh.pkl  4ibi.pkl  4pp0.pkl  4xu2.pkl  5ekm.pkl\r\n",
      "2wn9.pkl  3fql.pkl  3ppr.pkl  4avi.pkl  4ibj.pkl  4pp3.pkl  4xu3.pkl  5el2.pkl\r\n",
      "2wnc.pkl  3fsj.pkl  3pty.pkl  4avj.pkl  4ibk.pkl  4pp5.pkl  4xx9.pkl  5elv.pkl\r\n",
      "2wnj.pkl  3fsm.pkl  3pxf.pkl  4avs.pkl  4idn.pkl  4psb.pkl  4xy8.pkl  5en3.pkl\r\n",
      "2wor.pkl  3fw4.pkl  3pxq.pkl  4axd.pkl  4igt.pkl  4puj.pkl  4xy9.pkl  5eng.pkl\r\n",
      "2wos.pkl  3fzy.pkl  3pyy.pkl  4ayq.pkl  4ih5.pkl  4puk.pkl  4xya.pkl  5ep7.pkl\r\n",
      "2wq5.pkl  3g08.pkl  3q6w.pkl  4ayr.pkl  4ih6.pkl  4pul.pkl  4y24.pkl  5epn.pkl\r\n",
      "2wuf.pkl  3g15.pkl  3q6z.pkl  4ayu.pkl  4ih7.pkl  4pum.pkl  4y2q.pkl  5epr.pkl\r\n",
      "2wva.pkl  3g5d.pkl  3q71.pkl  4az5.pkl  4ijh.pkl  4pvx.pkl  4y38.pkl  5eps.pkl\r\n",
      "2wvt.pkl  3ga5.pkl  3q72.pkl  4azb.pkl  4ijl.pkl  4pvy.pkl  4y3j.pkl  5epy.pkl\r\n",
      "2x00.pkl  3gcp.pkl  3q7q.pkl  4azc.pkl  4ipi.pkl  4pxm.pkl  4y3y.pkl  5eq1.pkl\r\n",
      "2xab.pkl  3gcq.pkl  3q8h.pkl  4azg.pkl  4ipj.pkl  4pyx.pkl  4y4j.pkl  5eqe.pkl\r\n",
      "2xbv.pkl  3gcs.pkl  3qbc.pkl  4azi.pkl  4irx.pkl  4pyy.pkl  4y4v.pkl  5eqp.pkl\r\n",
      "2xcg.pkl  3gcu.pkl  3qin.pkl  4b0b.pkl  4iue.pkl  4pzv.pkl  4y59.pkl  5eqq.pkl\r\n",
      "2xde.pkl  3gcv.pkl  3qio.pkl  4b1j.pkl  4iuo.pkl  4q06.pkl  4y5d.pkl  5er4.pkl\r\n",
      "2xdk.pkl  3gf2.pkl  3qip.pkl  4b2i.pkl  4j21.pkl  4q07.pkl  4y8d.pkl  5erg.pkl\r\n",
      "2xdl.pkl  3gk1.pkl  3qkd.pkl  4b2l.pkl  4j22.pkl  4q08.pkl  4y94.pkl  5etb.pkl\r\n",
      "2xdx.pkl  3gk2.pkl  3qnd.pkl  4b32.pkl  4j3l.pkl  4q09.pkl  4yc9.pkl  5etk.pkl\r\n",
      "2xgs.pkl  3gk4.pkl  3qps.pkl  4b33.pkl  4j74.pkl  4q0a.pkl  4ycu.pkl  5etl.pkl\r\n",
      "2xhr.pkl  3gkz.pkl  3qqa.pkl  4b34.pkl  4j7d.pkl  4q0k.pkl  4ydn.pkl  5etm.pkl\r\n",
      "2xht.pkl  3gm0.pkl  3qt7.pkl  4b35.pkl  4j7e.pkl  4q0l.pkl  4yhm.pkl  5etn.pkl\r\n",
      "2xi7.pkl  3gnw.pkl  3qx8.pkl  4b3c.pkl  4j8t.pkl  4q3t.pkl  4yho.pkl  5eto.pkl\r\n",
      "2xib.pkl  3gp0.pkl  3qxt.pkl  4b3d.pkl  4j93.pkl  4q4o.pkl  4ymg.pkl  5etp.pkl\r\n",
      "2xii.pkl  3gpo.pkl  3qyy.pkl  4b5s.pkl  4jal.pkl  4q4p.pkl  4ymh.pkl  5etq.pkl\r\n",
      "2xj1.pkl  3gus.pkl  3r0y.pkl  4b5t.pkl  4jdf.pkl  4q4q.pkl  4ymq.pkl  5etr.pkl\r\n",
      "2xjg.pkl  3guz.pkl  3r1v.pkl  4b5w.pkl  4je7.pkl  4q4r.pkl  4yrd.pkl  5ets.pkl\r\n",
      "2xjj.pkl  3gvu.pkl  3r24.pkl  4b74.pkl  4jfk.pkl  4q6d.pkl  4ysl.pkl  5ett.pkl\r\n",
      "2xjx.pkl  3gx0.pkl  3r5n.pkl  4b76.pkl  4jfl.pkl  4q6e.pkl  4yw6.pkl  5etv.pkl\r\n",
      "2xm1.pkl  3gy2.pkl  3r5t.pkl  4b7p.pkl  4jfm.pkl  4q9m.pkl  4yx4.pkl  5etx.pkl\r\n",
      "2xn3.pkl  3gy3.pkl  3r6u.pkl  4bb9.pkl  4jin.pkl  4q9o.pkl  4yxi.pkl  5eu1.pkl\r\n",
      "2xn5.pkl  3gy4.pkl  3r7o.pkl  4bcq.pkl  4jkw.pkl  4qac.pkl  4yxo.pkl  5ewh.pkl\r\n",
      "2xp7.pkl  3gy7.pkl  3r8i.pkl  4bcs.pkl  4jn2.pkl  4qb3.pkl  4yxu.pkl  5ewk.pkl\r\n",
      "2xuz.pkl  3h1x.pkl  3rdo.pkl  4bi6.pkl  4jnj.pkl  4qdk.pkl  4z6h.pkl  5ewy.pkl\r\n",
      "2xv1.pkl  3h78.pkl  3rdq.pkl  4bi7.pkl  4jv6.pkl  4qem.pkl  4z6i.pkl  5exw.pkl\r\n",
      "2xxt.pkl  3hau.pkl  3re4.pkl  4bj8.pkl  4jv8.pkl  4qer.pkl  4z93.pkl  5ey4.pkl\r\n",
      "2xzw.pkl  3haw.pkl  3ri1.pkl  4bkj.pkl  4jvb.pkl  4qev.pkl  4zam.pkl  5eyr.pkl\r\n",
      "2y34.pkl  3hbo.pkl  3rlb.pkl  4bks.pkl  4jwk.pkl  4qew.pkl  4zb6.pkl  5ezg.pkl\r\n",
      "2y7k.pkl  3hcm.pkl  3rlp.pkl  4bkt.pkl  4jx9.pkl  4qf7.pkl  4zb8.pkl  5f0f.pkl\r\n",
      "2y7p.pkl  3hdk.pkl  3rm4.pkl  4bqg.pkl  4jyb.pkl  4qf8.pkl  4zba.pkl  5f1h.pkl\r\n",
      "2yay.pkl  3heg.pkl  3rsr.pkl  4bqh.pkl  4jym.pkl  4qgd.pkl  4zcs.pkl  5f1j.pkl\r\n",
      "2yb0.pkl  3hjo.pkl  3rsx.pkl  4br3.pkl  4jzb.pkl  4qip.pkl  4zec.pkl  5f1r.pkl\r\n",
      "2ydw.pkl  3hkw.pkl  3ru1.pkl  4btk.pkl  4k10.pkl  4qiy.pkl  4zed.pkl  5f25.pkl\r\n",
      "2yek.pkl  3hky.pkl  3rux.pkl  4bup.pkl  4k3h.pkl  4qiz.pkl  4zei.pkl  5f29.pkl\r\n",
      "2yel.pkl  3hmo.pkl  3rw9.pkl  4buq.pkl  4k4j.pkl  4qj0.pkl  4zek.pkl  5f2k.pkl\r\n",
      "2yfa.pkl  3hmp.pkl  3ry8.pkl  4c1m.pkl  4k55.pkl  4qjm.pkl  4zfi.pkl  5f2p.pkl\r\n",
      "2yga.pkl  3hqr.pkl  3ryj.pkl  4c1y.pkl  4k6i.pkl  4qjo.pkl  4zgk.pkl  5f2r.pkl\r\n",
      "2yge.pkl  3hrf.pkl  3ryv.pkl  4c52.pkl  4k7i.pkl  4qjp.pkl  4zji.pkl  5f3t.pkl\r\n",
      "2ygf.pkl  3hu3.pkl  3ryx.pkl  4c5d.pkl  4k7n.pkl  4qjw.pkl  4zjj.pkl  5f3z.pkl\r\n",
      "2yhw.pkl  3huc.pkl  3ryy.pkl  4c6u.pkl  4k7o.pkl  4qjx.pkl  4zl4.pkl  5f41.pkl\r\n",
      "2yhy.pkl  3hv7.pkl  3ryz.pkl  4c73.pkl  4k9y.pkl  4qkd.pkl  4zme.pkl  5f5z.pkl\r\n",
      "2yi0.pkl  3hv8.pkl  3rz0.pkl  4c9x.pkl  4kao.pkl  4qnb.pkl  4zow.pkl  5f60.pkl\r\n",
      "2yi7.pkl  3hx3.pkl  3rz1.pkl  4cc5.pkl  4kby.pkl  4qp2.pkl  4zsh.pkl  5f61.pkl\r\n",
      "2yim.pkl  3hxi.pkl  3rz5.pkl  4ce1.pkl  4kcx.pkl  4qpd.pkl  4zt8.pkl  5f62.pkl\r\n",
      "2yix.pkl  3hzm.pkl  3rz7.pkl  4ce2.pkl  4kfq.pkl  4qpl.pkl  4zvi.pkl  5f63.pkl\r\n",
      "2yk1.pkl  3i9g.pkl  3rz8.pkl  4ce3.pkl  4klv.pkl  4qsu.pkl  4zyf.pkl  5f8y.pkl\r\n",
      "2yki.pkl  3iaw.pkl  3s0b.pkl  4ceb.pkl  4km0.pkl  4qsv.pkl  4zzd.pkl  5f9b.pkl\r\n",
      "2ymd.pkl  3ie3.pkl  3s0d.pkl  4cfl.pkl  4km2.pkl  4qsw.pkl  4zzx.pkl  5fa7.pkl\r\n",
      "2yme.pkl  3ies.pkl  3s0e.pkl  4cg8.pkl  4kmz.pkl  4qsx.pkl  4zzy.pkl  5faq.pkl\r\n",
      "2z8e.pkl  3ijg.pkl  3s71.pkl  4cg9.pkl  4kn0.pkl  4qtl.pkl  4zzz.pkl  5fas.pkl\r\n",
      "2z92.pkl  3ilq.pkl  3s72.pkl  4cga.pkl  4kn1.pkl  4qxo.pkl  5a14.pkl  5fb7.pkl\r\n",
      "2zdk.pkl  3imc.pkl  3s73.pkl  4cgi.pkl  4kne.pkl  4qxq.pkl  5a4c.pkl  5fbi.pkl\r\n",
      "2zdl.pkl  3ime.pkl  3s74.pkl  4cgj.pkl  4kni.pkl  4qxr.pkl  5a5q.pkl  5fck.pkl\r\n",
      "2zdm.pkl  3img.pkl  3s75.pkl  4cig.pkl  4knj.pkl  4qyy.pkl  5a5v.pkl  5fdz.pkl\r\n",
      "2zdn.pkl  3iob.pkl  3s76.pkl  4cj4.pkl  4knm.pkl  4qzs.pkl  5a6i.pkl  5fe6.pkl\r\n",
      "2zfs.pkl  3iod.pkl  3s77.pkl  4cjn.pkl  4knn.pkl  4r07.pkl  5a6x.pkl  5fe7.pkl\r\n",
      "2zft.pkl  3ioe.pkl  3s78.pkl  4cjp.pkl  4knz.pkl  4r0a.pkl  5a7b.pkl  5fe9.pkl\r\n",
      "2zhd.pkl  3ip9.pkl  3s7b.pkl  4cjq.pkl  4ko8.pkl  4r4c.pkl  5a81.pkl  5fh6.pkl\r\n",
      "2zif.pkl  3isj.pkl  3s8x.pkl  4cjr.pkl  4kot.pkl  4r4i.pkl  5aan.pkl  5fh7.pkl\r\n",
      "2zq1.pkl  3iub.pkl  3s9t.pkl  4ck3.pkl  4kov.pkl  4r4o.pkl  5ab9.pkl  5fh8.pkl\r\n",
      "2zq2.pkl  3iue.pkl  3sap.pkl  4cki.pkl  4kow.pkl  4r4q.pkl  5aba.pkl  5flo.pkl\r\n",
      "2zsc.pkl  3ivc.pkl  3sax.pkl  4ckj.pkl  4kox.pkl  4r4t.pkl  5acw.pkl  5flp.pkl\r\n",
      "2zwz.pkl  3ivg.pkl  3sbh.pkl  4cl6.pkl  4kp5.pkl  4r6w.pkl  5acx.pkl  5flq.pkl\r\n",
      "3a1c.pkl  3ivx.pkl  3sbi.pkl  4cp5.pkl  4kp8.pkl  4r73.pkl  5acy.pkl  5fls.pkl\r\n",
      "3a1e.pkl  3iw6.pkl  3sfg.pkl  4crj.pkl  4ksy.pkl  4r74.pkl  5ad1.pkl  5flt.pkl\r\n",
      "3a5y.pkl  3iw8.pkl  3sk2.pkl  4crl.pkl  4kxl.pkl  4r75.pkl  5afv.pkl  5fnc.pkl\r\n",
      "3a6t.pkl  3jrs.pkl  3smq.pkl  4csd.pkl  4kxm.pkl  4r91.pkl  5ai1.pkl  5fnd.pkl\r\n",
      "3a73.pkl  3juk.pkl  3t0w.pkl  4css.pkl  4kxn.pkl  4rdn.pkl  5aip.pkl  5fnf.pkl\r\n",
      "3acl.pkl  3juo.pkl  3t0x.pkl  4cst.pkl  4kzq.pkl  4rfr.pkl  5ais.pkl  5fng.pkl\r\n",
      "3ad7.pkl  3jup.pkl  3t1l.pkl  4cu1.pkl  4l4v.pkl  4rgd.pkl  5aiv.pkl  5fni.pkl\r\n",
      "3ad8.pkl  3jvs.pkl  3t1m.pkl  4cu7.pkl  4l4z.pkl  4rlt.pkl  5aix.pkl  5fnj.pkl\r\n",
      "3ads.pkl  3k02.pkl  3t2w.pkl  4cwb.pkl  4l50.pkl  4rlu.pkl  5alc.pkl  5fnr.pkl\r\n",
      "3adv.pkl  3k41.pkl  3tao.pkl  4d1j.pkl  4l51.pkl  4rlw.pkl  5am6.pkl  5fns.pkl\r\n",
      "3ao1.pkl  3k54.pkl  3tay.pkl  4d3h.pkl  4l9i.pkl  4rpn.pkl  5am7.pkl  5fnt.pkl\r\n",
      "3ao2.pkl  3k5i.pkl  3tb6.pkl  4d52.pkl  4lar.pkl  4rpo.pkl  5ant.pkl  5fnu.pkl\r\n",
      "3ao5.pkl  3k5k.pkl  3tc5.pkl  4d7b.pkl  4lbp.pkl  4rqk.pkl  5anu.pkl  5fog.pkl\r\n",
      "3aqa.pkl  3k5v.pkl  3tct.pkl  4d8z.pkl  4lbu.pkl  4rqv.pkl  5anv.pkl  5fol.pkl\r\n",
      "3arp.pkl  3ka2.pkl  3td4.pkl  4dbm.pkl  4leq.pkl  4rr6.pkl  5anw.pkl  5fpp.pkl\r\n",
      "3arq.pkl  3kdc.pkl  3tdj.pkl  4ddh.pkl  4loh.pkl  4rra.pkl  5aoi.pkl  5fs5.pkl\r\n",
      "3arr.pkl  3kdd.pkl  3tsk.pkl  4ddk.pkl  4loi.pkl  4rrf.pkl  5aol.pkl  5fsc.pkl\r\n",
      "3art.pkl  3kdm.pkl  3ttm.pkl  4ddm.pkl  4loj.pkl  4rrg.pkl  5aom.pkl  5fsl.pkl\r\n",
      "3aru.pkl  3kgt.pkl  3ttn.pkl  4de5.pkl  4loo.pkl  4rrq.pkl  5aqf.pkl  5fsn.pkl\r\n",
      "3arv.pkl  3kgu.pkl  3tz4.pkl  4del.pkl  4lop.pkl  4rrr.pkl  5aqg.pkl  5fso.pkl\r\n",
      "3arw.pkl  3kjd.pkl  3u15.pkl  4der.pkl  4loq.pkl  4rt0.pkl  5aqh.pkl  5fsy.pkl\r\n",
      "3arx.pkl  3kmx.pkl  3u5j.pkl  4des.pkl  4lov.pkl  4rt1.pkl  5aqj.pkl  5ftg.pkl\r\n",
      "3ary.pkl  3kmy.pkl  3u5l.pkl  4det.pkl  4lph.pkl  4rvr.pkl  5aqn.pkl  5fut.pkl\r\n",
      "3arz.pkl  3kpu.pkl  3u6w.pkl  4deu.pkl  4luo.pkl  4rwj.pkl  5aqo.pkl  5fwr.pkl\r\n",
      "3as0.pkl  3kpv.pkl  3u90.pkl  4dew.pkl  4luv.pkl  4rwl.pkl  5aqp.pkl  5fyx.pkl\r\n",
      "3axz.pkl  3kpw.pkl  3ubd.pkl  4dko.pkl  4luz.pkl  4rww.pkl  5aqr.pkl  5g17.pkl\r\n",
      "3b24.pkl  3kqm.pkl  3udd.pkl  4dkp.pkl  4lw1.pkl  4ryl.pkl  5aqt.pkl  5g1a.pkl\r\n",
      "3b25.pkl  3kqo.pkl  3udv.pkl  4dkq.pkl  4lwc.pkl  4s2i.pkl  5aqu.pkl  5g1n.pkl\r\n",
      "3b26.pkl  3kqp.pkl  3ueu.pkl  4dkr.pkl  4lxz.pkl  4tjz.pkl  5aqv.pkl  5g2g.pkl\r\n",
      "3b27.pkl  3kqr.pkl  3uev.pkl  4dli.pkl  4ly1.pkl  4tkb.pkl  5aqz.pkl  5g45.pkl\r\n",
      "3b28.pkl  3kqs.pkl  3uew.pkl  4dn0.pkl  4ly9.pkl  4tkh.pkl  5ar0.pkl  5g46.pkl\r\n",
      "3b2t.pkl  3kqt.pkl  3uex.pkl  4dru.pkl  4lys.pkl  4tkj.pkl  5arf.pkl  5g4m.pkl\r\n",
      "3b4p.pkl  3kqw.pkl  3uil.pkl  4dst.pkl  4lyw.pkl  4tpw.pkl  5aut.pkl  5g4n.pkl\r\n",
      "3b5j.pkl  3kqy.pkl  3ujb.pkl  4dsu.pkl  4lzr.pkl  4tq3.pkl  5avf.pkl  5g4o.pkl\r\n",
      "3b82.pkl  3kr1.pkl  3umq.pkl  4duh.pkl  4lzs.pkl  4tqn.pkl  5b5f.pkl  5g5f.pkl\r\n",
      "3bex.pkl  3kr2.pkl  3uo4.pkl  4dve.pkl  4m0y.pkl  4trc.pkl  5b5g.pkl  5ggj.pkl\r\n",
      "3bjm.pkl  3kr8.pkl  3up2.pkl  4dy6.pkl  4m0z.pkl  4tsx.pkl  5boj.pkl  5ggk.pkl\r\n",
      "3bra.pkl  3kv2.pkl  3upk.pkl  4dzy.pkl  4m12.pkl  4tte.pkl  5bs4.pkl  5ggl.pkl\r\n",
      "3brn.pkl  3kyq.pkl  3usx.pkl  4e1k.pkl  4m14.pkl  4tu4.pkl  5bv3.pkl  5ggn.pkl\r\n",
      "3bu1.pkl  3l1n.pkl  3uug.pkl  4ear.pkl  4m3p.pkl  4tun.pkl  5bw4.pkl  5gic.pkl\r\n",
      "3buf.pkl  3l59.pkl  3uvq.pkl  4ef4.pkl  4m5g.pkl  4txc.pkl  5c3p.pkl  5gid.pkl\r\n",
      "3buh.pkl  3l5b.pkl  3v2n.pkl  4ef6.pkl  4m5h.pkl  4tyl.pkl  5c4l.pkl  5gj9.pkl\r\n",
      "3bva.pkl  3l6h.pkl  3v2p.pkl  4efk.pkl  4m5i.pkl  4tz2.pkl  5c5h.pkl  5gja.pkl\r\n",
      "3bwj.pkl  3l8s.pkl  3v2q.pkl  4egk.pkl  4m5j.pkl  4tz8.pkl  5c5t.pkl  5gmh.pkl\r\n",
      "3bwk.pkl  3l8x.pkl  3v3l.pkl  4ej8.pkl  4m5k.pkl  4u0e.pkl  5c7n.pkl  5gsa.pkl\r\n",
      "3bxe.pkl  3lbz.pkl  3v3q.pkl  4ejl.pkl  4m5l.pkl  4u0f.pkl  5c85.pkl  5gvm.pkl\r\n",
      "3bxf.pkl  3lcu.pkl  3vha.pkl  4emf.pkl  4m5m.pkl  4u0w.pkl  5cbr.pkl  5gvn.pkl\r\n",
      "3bxg.pkl  3lcv.pkl  3vhc.pkl  4emr.pkl  4m5n.pkl  4u43.pkl  5cbs.pkl  5gvp.pkl\r\n",
      "3bxh.pkl  3ldp.pkl  3vhd.pkl  4eo6.pkl  4m8e.pkl  4u4s.pkl  5chk.pkl  5h1t.pkl\r\n",
      "3c2f.pkl  3le8.pkl  3vjc.pkl  4eo8.pkl  4m8h.pkl  4u4x.pkl  5cks.pkl  5h1u.pkl\r\n",
      "3c2o.pkl  3ljj.pkl  3vje.pkl  4epy.pkl  4mg5.pkl  4u54.pkl  5cp5.pkl  5h1v.pkl\r\n",
      "3c2r.pkl  3ljo.pkl  3vw1.pkl  4erf.pkl  4mg6.pkl  4u5n.pkl  5cp9.pkl  5h5f.pkl\r\n",
      "3c39.pkl  3lk0.pkl  3vw2.pkl  4etz.pkl  4mg7.pkl  4u5o.pkl  5cqt.pkl  5h5o.pkl\r\n",
      "3c4h.pkl  3lk8.pkl  3vws.pkl  4eu0.pkl  4mg8.pkl  4u5s.pkl  5cqu.pkl  5h63.pkl\r\n",
      "3c79.pkl  3lka.pkl  3w07.pkl  4euo.pkl  4mg9.pkl  4u5u.pkl  5cs5.pkl  5h85.pkl\r\n",
      "3c84.pkl  3lle.pkl  3w5n.pkl  4euv.pkl  4mga.pkl  4u5v.pkl  5cs6.pkl  5h8e.pkl\r\n",
      "3c8e.pkl  3lm1.pkl  3w9k.pkl  4ewn.pkl  4mgb.pkl  4u7o.pkl  5csd.pkl  5h8g.pkl\r\n",
      "3c9e.pkl  3lp7.pkl  3w9r.pkl  4f0c.pkl  4mgc.pkl  4ucc.pkl  5csh.pkl  5h9p.pkl\r\n",
      "3cct.pkl  3lxk.pkl  3wb4.pkl  4f1l.pkl  4mgd.pkl  4unp.pkl  5cso.pkl  5h9q.pkl\r\n",
      "3ccw.pkl  3lxo.pkl  3wgg.pkl  4f3i.pkl  4mjo.pkl  4uof.pkl  5csp.pkl  5h9r.pkl\r\n",
      "3ccz.pkl  3m3x.pkl  3wha.pkl  4f5y.pkl  4mmm.pkl  4up5.pkl  5ct1.pkl  5h9s.pkl\r\n",
      "3cd0.pkl  3m40.pkl  3wtj.pkl  4f6u.pkl  4mmp.pkl  4urx.pkl  5ct2.pkl  5ha1.pkl\r\n",
      "3cd5.pkl  3m5e.pkl  3wtl.pkl  4f6w.pkl  4mp2.pkl  4ury.pkl  5cu2.pkl  5hbn.pkl\r\n",
      "3cda.pkl  3m67.pkl  3wtm.pkl  4f7v.pkl  4mp7.pkl  4urz.pkl  5cu4.pkl  5hbs.pkl\r\n",
      "3cdb.pkl  3m6p.pkl  3wtn.pkl  4f8j.pkl  4mpc.pkl  4usi.pkl  5cxa.pkl  5hgc.pkl\r\n",
      "3cfn.pkl  3m6q.pkl  3wto.pkl  4f9y.pkl  4mpe.pkl  4uxq.pkl  5cy9.pkl\r\n",
      "3cft.pkl  3m6r.pkl  3wvm.pkl  4fak.pkl  4mpn.pkl  4uye.pkl  5cyi.pkl\r\n"
     ]
    }
   ],
   "source": [
    "ls /tmp/moldata"
   ]
  },
  {
   "cell_type": "code",
   "execution_count": 91,
   "metadata": {
    "scrolled": false
   },
   "outputs": [
    {
     "data": {
      "text/plain": [
       "{'H': array([[0, 0, 1, ..., 0, 0, 0],\n",
       "        [1, 0, 0, ..., 0, 0, 0],\n",
       "        [0, 1, 0, ..., 0, 0, 0],\n",
       "        ...,\n",
       "        [0, 0, 0, ..., 0, 0, 0],\n",
       "        [0, 0, 0, ..., 0, 0, 0],\n",
       "        [0, 0, 0, ..., 0, 0, 0]]),\n",
       " 'A1': array([[0.]]),\n",
       " 'A2': array([[1, 1, 1, ..., 0, 0, 0],\n",
       "        [1, 1, 1, ..., 0, 0, 0],\n",
       "        [1, 1, 1, ..., 0, 0, 0],\n",
       "        ...,\n",
       "        [0, 0, 0, ..., 1, 1, 1],\n",
       "        [0, 0, 0, ..., 1, 1, 1],\n",
       "        [0, 0, 0, ..., 1, 1, 1]]),\n",
       " 'Y': 1.88,\n",
       " 'V': array([1, 1, 1, 1, 1, 1, 1, 1, 1, 1, 1, 1, 1, 1, 1, 1, 1, 1, 1, 1, 1, 1, 1, 0, 0, 0, 0, 0, 0, 0, 0, 0, 0, 0, 0, 0, 0,\n",
       "        0, 0, 0, 0, 0, 0, 0, 0, 0, 0, 0, 0, 0, 0, 0, 0, 0, 0, 0, 0, 0, 0, 0, 0, 0, 0, 0, 0, 0, 0, 0, 0, 0, 0, 0, 0, 0,\n",
       "        0, 0, 0, 0, 0, 0, 0, 0, 0, 0, 0, 0, 0, 0, 0, 0, 0, 0, 0, 0, 0, 0, 0, 0, 0, 0, 0, 0, 0, 0, 0, 0, 0, 0, 0, 0, 0,\n",
       "        0, 0, 0, 0, 0]),\n",
       " 'key': '1mwt'}"
      ]
     },
     "execution_count": 91,
     "metadata": {},
     "output_type": "execute_result"
    }
   ],
   "source": [
    "data = pickle.load(open('/tmp/moldata/1mwt.pkl', 'rb'))\n",
    "data"
   ]
  },
  {
   "cell_type": "code",
   "execution_count": 92,
   "metadata": {},
   "outputs": [
    {
     "name": "stdout",
     "output_type": "stream",
     "text": [
      "[1 1 1 1 1 1 1 1 1 1 1 1 1 1 1 1 1 1 1 1 1 1 1 0 0 0 0 0 0 0 0 0 0 0 0 0 0 0 0 0 0 0 0 0 0 0 0 0 0 0 0 0 0 0 0 0 0 0 0\n",
      " 0 0 0 0 0 0 0 0 0 0 0 0 0 0 0 0 0 0 0 0 0 0 0 0 0 0 0 0 0 0 0 0 0 0 0 0 0 0 0 0 0 0 0 0 0 0 0 0 0 0 0 0 0 0 0 0 0]\n"
     ]
    }
   ],
   "source": [
    "with WidePrint():\n",
    "    print(data['V'])"
   ]
  },
  {
   "cell_type": "code",
   "execution_count": 93,
   "metadata": {},
   "outputs": [
    {
     "name": "stdout",
     "output_type": "stream",
     "text": [
      "[[0 0 1 0 0 0 0 0 0 0 0 1 0 0 1 0 0 0 0 0 0 0 0 0 0 0 0 0 0 0 0 0 0 0 0 0 0 0 0 0 0 0]\n",
      " [1 0 0 0 0 0 0 0 0 0 0 1 0 0 0 0 0 0 0 0 0 0 0 0 0 0 0 0 0 0 0 0 0 0 0 0 0 0 0 0 0 0]\n",
      " [0 1 0 0 0 0 0 0 0 0 1 0 0 1 0 1 0 0 0 1 0 0 0 0 0 0 0 0 0 0 0 0 0 0 0 0 0 0 0 0 0 0]\n",
      " [1 0 0 0 0 0 0 0 0 0 1 0 0 1 0 0 0 0 0 0 1 0 0 0 0 0 0 0 0 0 0 0 0 0 0 0 0 0 0 0 0 0]\n",
      " [1 0 0 0 0 0 0 0 0 0 0 1 0 0 0 0 0 0 1 0 1 0 0 0 0 0 0 0 0 0 0 0 0 0 0 0 0 0 0 0 0 0]\n",
      " [0 0 1 0 0 0 0 0 0 0 0 1 0 0 1 0 0 0 1 0 1 0 0 0 0 0 0 0 0 0 0 0 0 0 0 0 0 0 0 0 0 0]\n",
      " [0 0 1 0 0 0 0 0 0 0 0 1 0 0 1 1 0 0 1 0 1 0 0 0 0 0 0 0 0 0 0 0 0 0 0 0 0 0 0 0 0 0]\n",
      " [1 0 0 0 0 0 0 0 0 0 1 0 0 1 0 0 1 0 0 0 0 0 0 0 0 0 0 0 0 0 0 0 0 0 0 0 0 0 0 0 0 0]\n",
      " [1 0 0 0 0 0 0 0 0 0 1 0 0 0 0 0 0 0 0 0 0 0 0 0 0 0 0 0 0 0 0 0 0 0 0 0 0 0 0 0 0 0]\n",
      " [1 0 0 0 0 0 0 0 0 0 1 0 0 0 0 0 0 0 0 0 0 0 0 0 0 0 0 0 0 0 0 0 0 0 0 0 0 0 0 0 0 0]\n",
      " [0 0 0 0 0 1 0 0 0 0 1 0 0 1 0 0 0 0 0 0 0 0 0 0 0 0 0 0 0 0 0 0 0 0 0 0 0 0 0 0 0 0]\n",
      " [1 0 0 0 0 0 0 0 0 0 1 0 0 1 0 0 0 0 0 0 0 0 0 0 0 0 0 0 0 0 0 0 0 0 0 0 0 0 0 0 0 0]\n",
      " [1 0 0 0 0 0 0 0 0 0 1 0 0 0 0 0 0 0 0 0 0 0 0 0 0 0 0 0 0 0 0 0 0 0 0 0 0 0 0 0 0 0]\n",
      " [0 1 0 0 0 0 0 0 0 0 0 1 0 0 0 1 0 0 0 0 0 0 0 0 0 0 0 0 0 0 0 0 0 0 0 0 0 0 0 0 0 0]\n",
      " [1 0 0 0 0 0 0 0 0 0 0 1 0 0 0 0 0 0 0 0 0 0 0 0 0 0 0 0 0 0 0 0 0 0 0 0 0 0 0 0 0 0]\n",
      " [0 0 1 0 0 0 0 0 0 0 0 1 0 0 1 0 0 0 0 0 0 0 0 0 0 0 0 0 0 0 0 0 0 0 0 0 0 0 0 0 0 0]\n",
      " [1 0 0 0 0 0 0 0 0 0 1 0 0 0 0 0 1 0 0 0 0 0 0 0 0 0 0 0 0 0 0 0 0 0 0 0 0 0 0 0 0 0]\n",
      " [1 0 0 0 0 0 0 0 0 1 0 1 0 1 0 0 1 1 0 0 0 0 0 0 0 0 0 0 0 0 0 0 0 0 0 0 0 0 0 0 0 0]\n",
      " [1 0 0 0 0 0 0 0 0 1 0 1 0 1 0 0 0 1 0 0 0 0 0 0 0 0 0 0 0 0 0 0 0 0 0 0 0 0 0 0 0 0]\n",
      " [1 0 0 0 0 0 0 0 0 1 0 1 0 1 0 0 0 1 0 0 0 0 0 0 0 0 0 0 0 0 0 0 0 0 0 0 0 0 0 0 0 0]\n",
      " [1 0 0 0 0 0 0 0 0 1 0 1 0 1 0 0 0 1 0 0 0 0 0 0 0 0 0 0 0 0 0 0 0 0 0 0 0 0 0 0 0 0]\n",
      " [1 0 0 0 0 0 0 0 0 1 0 1 0 1 0 0 0 1 0 0 0 0 0 0 0 0 0 0 0 0 0 0 0 0 0 0 0 0 0 0 0 0]\n",
      " [1 0 0 0 0 0 0 0 0 1 0 1 0 1 0 0 0 1 0 0 0 0 0 0 0 0 0 0 0 0 0 0 0 0 0 0 0 0 0 0 0 0]\n",
      " [0 0 0 0 0 0 0 0 0 0 0 0 0 0 0 0 0 0 0 0 0 0 1 0 0 0 0 0 0 0 0 1 0 0 0 0 1 0 0 0 1 0]\n",
      " [0 0 0 0 0 0 0 0 0 0 0 0 0 0 0 0 0 0 0 0 0 1 0 0 0 0 0 0 0 0 0 1 0 0 0 0 0 0 0 0 0 0]\n",
      " [0 0 0 0 0 0 0 0 0 0 0 0 0 0 0 0 0 0 0 0 0 1 0 0 0 0 0 0 0 0 0 0 1 0 0 0 0 0 0 0 0 0]\n",
      " [0 0 0 0 0 0 0 0 0 0 0 0 0 0 0 0 0 0 0 0 0 0 0 1 0 0 0 0 0 0 0 0 1 0 0 1 0 0 0 0 0 0]\n",
      " [0 0 0 0 0 0 0 0 0 0 0 0 0 0 0 0 0 0 0 0 0 0 1 0 0 0 0 0 0 0 0 0 1 0 0 0 1 0 0 0 0 0]\n",
      " [0 0 0 0 0 0 0 0 0 0 0 0 0 0 0 0 0 0 0 0 0 1 0 0 0 0 0 0 0 0 0 1 0 0 0 0 0 0 0 0 0 0]\n",
      " [0 0 0 0 0 0 0 0 0 0 0 0 0 0 0 0 0 0 0 0 0 1 0 0 0 0 0 0 0 0 0 0 1 0 0 0 0 0 0 0 0 0]\n",
      " [0 0 0 0 0 0 0 0 0 0 0 0 0 0 0 0 0 0 0 0 0 0 0 1 0 0 0 0 0 0 0 0 1 0 0 1 0 0 0 0 0 0]\n",
      " [0 0 0 0 0 0 0 0 0 0 0 0 0 0 0 0 0 0 0 0 0 1 0 0 0 0 0 0 0 0 0 1 0 0 0 0 0 0 0 0 0 0]\n",
      " [0 0 0 0 0 0 0 0 0 0 0 0 0 0 0 0 0 0 0 0 0 0 0 1 0 0 0 0 0 0 0 1 0 0 0 1 1 0 0 0 0 0]\n",
      " [0 0 0 0 0 0 0 0 0 0 0 0 0 0 0 0 0 0 0 0 0 0 1 0 0 0 0 0 0 0 0 1 0 0 0 0 1 0 0 0 1 0]\n",
      " [0 0 0 0 0 0 0 0 0 0 0 0 0 0 0 0 0 0 0 0 0 1 0 0 0 0 0 0 0 0 0 1 0 0 0 0 0 0 0 0 0 0]\n",
      " [0 0 0 0 0 0 0 0 0 0 0 0 0 0 0 0 0 0 0 0 0 1 0 0 0 0 0 0 0 0 0 0 1 0 0 0 0 0 0 0 0 0]\n",
      " [0 0 0 0 0 0 0 0 0 0 0 0 0 0 0 0 0 0 0 0 0 0 0 1 0 0 0 0 0 0 0 0 1 0 0 1 0 0 0 0 0 0]\n",
      " [0 0 0 0 0 0 0 0 0 0 0 0 0 0 0 0 0 0 0 0 0 1 0 0 0 0 0 0 0 0 0 1 0 0 0 0 0 1 0 0 0 0]\n",
      " [0 0 0 0 0 0 0 0 0 0 0 0 0 0 0 0 0 0 0 0 0 1 0 0 0 0 0 0 0 0 1 0 1 0 1 0 0 1 1 0 0 0]\n",
      " [0 0 0 0 0 0 0 0 0 0 0 0 0 0 0 0 0 0 0 0 0 1 0 0 0 0 0 0 0 0 1 0 1 0 1 0 0 0 1 0 0 0]\n",
      " [0 0 0 0 0 0 0 0 0 0 0 0 0 0 0 0 0 0 0 0 0 1 0 0 0 0 0 0 0 0 1 0 1 0 1 0 0 0 1 0 0 0]\n",
      " [0 0 0 0 0 0 0 0 0 0 0 0 0 0 0 0 0 0 0 0 0 1 0 0 0 0 0 0 0 0 1 0 1 0 1 0 0 0 1 0 0 0]\n",
      " [0 0 0 0 0 0 0 0 0 0 0 0 0 0 0 0 0 0 0 0 0 1 0 0 0 0 0 0 0 0 1 0 1 0 1 0 0 0 1 0 0 0]\n",
      " [0 0 0 0 0 0 0 0 0 0 0 0 0 0 0 0 0 0 0 0 0 1 0 0 0 0 0 0 0 0 1 0 1 0 1 0 0 0 1 0 0 0]\n",
      " [0 0 0 0 0 0 0 0 0 0 0 0 0 0 0 0 0 0 0 0 0 0 0 1 0 0 0 0 0 0 0 0 1 0 0 1 1 0 0 0 0 0]\n",
      " [0 0 0 0 0 0 0 0 0 0 0 0 0 0 0 0 0 0 0 0 0 0 1 0 0 0 0 0 0 0 0 1 0 0 0 0 1 0 0 0 1 0]\n",
      " [0 0 0 0 0 0 0 0 0 0 0 0 0 0 0 0 0 0 0 0 0 1 0 0 0 0 0 0 0 0 0 1 0 0 0 0 0 0 0 0 0 0]\n",
      " [0 0 0 0 0 0 0 0 0 0 0 0 0 0 0 0 0 0 0 0 0 1 0 0 0 0 0 0 0 0 0 0 1 0 0 0 0 0 0 0 0 0]\n",
      " [0 0 0 0 0 0 0 0 0 0 0 0 0 0 0 0 0 0 0 0 0 0 0 1 0 0 0 0 0 0 0 0 1 0 0 1 0 0 0 0 0 0]\n",
      " [0 0 0 0 0 0 0 0 0 0 0 0 0 0 0 0 0 0 0 0 0 1 0 0 0 0 0 0 0 0 0 1 0 0 0 0 0 0 0 0 0 0]\n",
      " [0 0 0 0 0 0 0 0 0 0 0 0 0 0 0 0 0 0 0 0 0 0 0 1 0 0 0 0 0 0 0 1 0 0 0 1 1 0 0 0 0 0]\n",
      " [0 0 0 0 0 0 0 0 0 0 0 0 0 0 0 0 0 0 0 0 0 0 1 0 0 0 0 0 0 0 0 1 0 0 0 0 1 0 0 0 1 0]\n",
      " [0 0 0 0 0 0 0 0 0 0 0 0 0 0 0 0 0 0 0 0 0 1 0 0 0 0 0 0 0 0 0 1 0 0 0 0 0 0 0 0 0 0]\n",
      " [0 0 0 0 0 0 0 0 0 0 0 0 0 0 0 0 0 0 0 0 0 1 0 0 0 0 0 0 0 0 0 0 1 0 0 0 0 0 0 0 0 0]\n",
      " [0 0 0 0 0 0 0 0 0 0 0 0 0 0 0 0 0 0 0 0 0 0 0 1 0 0 0 0 0 0 0 0 1 0 0 1 0 0 0 0 0 0]\n",
      " [0 0 0 0 0 0 0 0 0 0 0 0 0 0 0 0 0 0 0 0 0 1 0 0 0 0 0 0 0 0 0 1 0 0 0 0 0 1 0 0 0 0]\n",
      " [0 0 0 0 0 0 0 0 0 0 0 0 0 0 0 0 0 0 0 0 0 1 0 0 0 0 0 0 0 0 0 0 1 0 0 0 0 0 0 0 0 0]\n",
      " [0 0 0 0 0 0 0 0 0 0 0 0 0 0 0 0 0 0 0 0 0 0 0 1 0 0 0 0 0 0 0 0 1 0 0 1 0 0 0 0 0 0]\n",
      " [0 0 0 0 0 0 0 0 0 0 0 0 0 0 0 0 0 0 0 0 0 0 1 0 0 0 0 0 0 0 0 0 1 0 0 0 1 0 0 0 0 0]\n",
      " [0 0 0 0 0 0 0 0 0 0 0 0 0 0 0 0 0 0 0 0 0 0 1 0 0 0 0 0 0 0 0 1 0 0 0 0 1 0 0 0 1 0]\n",
      " [0 0 0 0 0 0 0 0 0 0 0 0 0 0 0 0 0 0 0 0 0 1 0 0 0 0 0 0 0 0 0 1 0 0 0 0 0 0 0 0 0 0]\n",
      " [0 0 0 0 0 0 0 0 0 0 0 0 0 0 0 0 0 0 0 0 0 1 0 0 0 0 0 0 0 0 0 0 1 0 0 0 0 0 0 0 0 0]\n",
      " [0 0 0 0 0 0 0 0 0 0 0 0 0 0 0 0 0 0 0 0 0 0 0 1 0 0 0 0 0 0 0 0 1 0 0 1 0 0 0 0 0 0]\n",
      " [0 0 0 0 0 0 0 0 0 0 0 0 0 0 0 0 0 0 0 0 0 1 0 0 0 0 0 0 0 0 0 1 0 0 0 0 0 1 0 0 0 0]\n",
      " [0 0 0 0 0 0 0 0 0 0 0 0 0 0 0 0 0 0 0 0 0 1 0 0 0 0 0 0 0 0 0 1 0 0 0 0 0 1 0 0 0 0]\n",
      " [0 0 0 0 0 0 0 0 0 0 0 0 0 0 0 0 0 0 0 0 0 1 0 0 0 0 0 0 0 0 0 0 1 0 0 0 0 0 0 0 0 0]\n",
      " [0 0 0 0 0 0 0 0 0 0 0 0 0 0 0 0 0 0 0 0 0 0 0 1 0 0 0 0 0 0 0 0 1 0 0 1 0 0 0 0 0 0]\n",
      " [0 0 0 0 0 0 0 0 0 0 0 0 0 0 0 0 0 0 0 0 0 0 1 0 0 0 0 0 0 0 0 0 1 0 0 0 1 0 0 0 0 0]\n",
      " [0 0 0 0 0 0 0 0 0 0 0 0 0 0 0 0 0 0 0 0 0 0 1 0 0 0 0 0 0 0 0 1 0 0 0 0 1 0 0 0 1 0]\n",
      " [0 0 0 0 0 0 0 0 0 0 0 0 0 0 0 0 0 0 0 0 0 1 0 0 0 0 0 0 0 0 0 1 0 0 0 0 0 0 0 0 0 0]\n",
      " [0 0 0 0 0 0 0 0 0 0 0 0 0 0 0 0 0 0 0 0 0 1 0 0 0 0 0 0 0 0 0 0 1 0 0 0 0 0 0 0 0 0]\n",
      " [0 0 0 0 0 0 0 0 0 0 0 0 0 0 0 0 0 0 0 0 0 0 0 1 0 0 0 0 0 0 0 0 1 0 0 1 0 0 0 0 0 0]\n",
      " [0 0 0 0 0 0 0 0 0 0 0 0 0 0 0 0 0 0 0 0 0 1 0 0 0 0 0 0 0 0 0 1 0 0 0 0 0 0 0 0 0 0]\n",
      " [0 0 0 0 0 0 0 0 0 0 0 0 0 0 0 0 0 0 0 0 0 0 0 1 0 0 0 0 0 0 0 1 0 0 0 1 1 0 0 0 0 0]\n",
      " [0 0 0 0 0 0 0 0 0 0 0 0 0 0 0 0 0 0 0 0 0 0 1 0 0 0 0 0 0 0 0 0 1 0 0 0 1 0 0 0 0 0]\n",
      " [0 0 0 0 0 0 0 0 0 0 0 0 0 0 0 0 0 0 0 0 0 1 0 0 0 0 0 0 0 0 0 1 0 0 0 0 0 0 0 0 0 0]\n",
      " [0 0 0 0 0 0 0 0 0 0 0 0 0 0 0 0 0 0 0 0 0 1 0 0 0 0 0 0 0 0 0 0 1 0 0 0 0 0 0 0 0 0]\n",
      " [0 0 0 0 0 0 0 0 0 0 0 0 0 0 0 0 0 0 0 0 0 0 0 1 0 0 0 0 0 0 0 0 1 0 0 1 0 0 0 0 0 0]\n",
      " [0 0 0 0 0 0 0 0 0 0 0 0 0 0 0 0 0 0 0 0 0 0 1 0 0 0 0 0 0 0 0 0 1 0 0 0 1 0 0 0 0 0]\n",
      " [0 0 0 0 0 0 0 0 0 0 0 0 0 0 0 0 0 0 0 0 0 1 0 0 0 0 0 0 0 0 0 1 0 0 0 0 0 0 0 0 0 0]\n",
      " [0 0 0 0 0 0 0 0 0 0 0 0 0 0 0 0 0 0 0 0 0 1 0 0 0 0 0 0 0 0 0 0 1 0 0 0 0 0 0 0 0 0]\n",
      " [0 0 0 0 0 0 0 0 0 0 0 0 0 0 0 0 0 0 0 0 0 0 0 1 0 0 0 0 0 0 0 0 1 0 0 1 0 0 0 0 0 0]\n",
      " [0 0 0 0 0 0 0 0 0 0 0 0 0 0 0 0 0 0 0 0 0 1 0 0 0 0 0 0 0 0 0 1 0 0 0 0 0 0 0 0 0 0]\n",
      " [0 0 0 0 0 0 0 0 0 0 0 0 0 0 0 0 0 0 0 0 0 0 0 1 0 0 0 0 0 0 0 1 0 0 0 1 1 0 0 0 0 0]\n",
      " [0 0 0 0 0 0 0 0 0 0 0 0 0 0 0 0 0 0 0 0 0 1 0 0 0 0 0 0 0 0 0 1 0 0 0 0 0 0 0 0 0 0]\n",
      " [0 0 0 0 0 0 0 0 0 0 0 0 0 0 0 0 0 0 0 0 0 0 1 0 0 0 0 0 0 0 0 1 0 0 0 0 1 0 0 0 1 0]\n",
      " [0 0 0 0 0 0 0 0 0 0 0 0 0 0 0 0 0 0 0 0 0 1 0 0 0 0 0 0 0 0 0 1 0 0 0 0 0 0 0 0 0 0]\n",
      " [0 0 0 0 0 0 0 0 0 0 0 0 0 0 0 0 0 0 0 0 0 1 0 0 0 0 0 0 0 0 0 0 1 0 0 0 0 0 0 0 0 0]\n",
      " [0 0 0 0 0 0 0 0 0 0 0 0 0 0 0 0 0 0 0 0 0 0 0 1 0 0 0 0 0 0 0 0 1 0 0 1 0 0 0 0 0 0]\n",
      " [0 0 0 0 0 0 0 0 0 0 0 0 0 0 0 0 0 0 0 0 0 1 0 0 0 0 0 0 0 0 0 1 0 0 0 0 0 1 0 0 0 0]\n",
      " [0 0 0 0 0 0 0 0 0 0 0 0 0 0 0 0 0 0 0 0 0 1 0 0 0 0 0 0 0 0 0 1 0 0 0 0 0 1 0 0 0 1]\n",
      " [0 0 0 0 0 0 0 0 0 0 0 0 0 0 0 0 0 0 0 0 0 1 0 0 0 0 0 0 0 0 0 0 1 0 0 0 0 0 0 1 0 1]\n",
      " [0 0 0 0 0 0 0 0 0 0 0 0 0 0 0 0 0 0 0 0 0 0 0 1 0 0 0 0 0 0 0 0 1 0 0 1 0 0 0 1 0 1]\n",
      " [0 0 0 0 0 0 0 0 0 0 0 0 0 0 0 0 0 0 0 0 0 0 0 1 0 0 0 0 0 0 0 0 1 0 0 1 1 0 0 1 0 1]\n",
      " [0 0 0 0 0 0 0 0 0 0 0 0 0 0 0 0 0 0 0 0 0 0 1 0 0 0 0 0 0 0 0 1 0 0 0 0 1 0 0 0 1 0]\n",
      " [0 0 0 0 0 0 0 0 0 0 0 0 0 0 0 0 0 0 0 0 0 1 0 0 0 0 0 0 0 0 0 1 0 0 0 0 0 0 0 0 0 0]\n",
      " [0 0 0 0 0 0 0 0 0 0 0 0 0 0 0 0 0 0 0 0 0 1 0 0 0 0 0 0 0 0 0 0 1 0 0 0 0 0 0 0 0 0]\n",
      " [0 0 0 0 0 0 0 0 0 0 0 0 0 0 0 0 0 0 0 0 0 0 0 1 0 0 0 0 0 0 0 0 1 0 0 1 0 0 0 0 0 0]\n",
      " [0 0 0 0 0 0 0 0 0 0 0 0 0 0 0 0 0 0 0 0 0 1 0 0 0 0 0 0 0 0 0 1 0 0 0 0 0 1 0 0 0 0]\n",
      " [0 0 0 0 0 0 0 0 0 0 0 0 0 0 0 0 0 0 0 0 0 1 0 0 0 0 0 0 0 0 0 1 0 0 0 0 0 1 0 0 0 0]\n",
      " [0 0 0 0 0 0 0 0 0 0 0 0 0 0 0 0 0 0 0 0 0 1 0 0 0 0 0 0 0 0 0 0 1 0 0 0 0 0 0 0 0 0]\n",
      " [0 0 0 0 0 0 0 0 0 0 0 0 0 0 0 0 0 0 0 0 0 0 0 1 0 0 0 0 0 0 0 0 1 0 0 1 0 0 0 0 0 0]\n",
      " [0 0 0 0 0 0 0 0 0 0 0 0 0 0 0 0 0 0 0 0 0 0 1 0 0 0 0 0 0 0 0 0 1 0 0 0 1 0 0 0 0 0]\n",
      " [0 0 0 0 0 0 0 0 0 0 0 0 0 0 0 0 0 0 0 0 0 0 1 0 0 0 0 0 0 0 0 1 0 0 0 0 1 0 0 0 1 0]\n",
      " [0 0 0 0 0 0 0 0 0 0 0 0 0 0 0 0 0 0 0 0 0 1 0 0 0 0 0 0 0 0 0 1 0 0 0 0 0 0 0 0 0 0]\n",
      " [0 0 0 0 0 0 0 0 0 0 0 0 0 0 0 0 0 0 0 0 0 1 0 0 0 0 0 0 0 0 0 0 1 0 0 0 0 0 0 0 0 0]\n",
      " [0 0 0 0 0 0 0 0 0 0 0 0 0 0 0 0 0 0 0 0 0 0 0 1 0 0 0 0 0 0 0 0 1 0 0 1 0 0 0 0 0 0]\n",
      " [0 0 0 0 0 0 0 0 0 0 0 0 0 0 0 0 0 0 0 0 0 1 0 0 0 0 0 0 0 0 0 1 0 0 0 0 0 1 0 0 0 0]\n",
      " [0 0 0 0 0 0 0 0 0 0 0 0 0 0 0 0 0 0 0 0 0 1 0 0 0 0 0 0 0 0 0 1 0 0 0 0 0 1 0 0 0 0]\n",
      " [0 0 0 0 0 0 0 0 0 0 0 0 0 0 0 0 0 0 0 0 0 0 0 0 0 0 1 0 0 0 0 1 0 0 0 0 0 0 0 0 0 0]\n",
      " [0 0 0 0 0 0 0 0 0 0 0 0 0 0 0 0 0 0 0 0 0 1 0 0 0 0 0 0 0 0 0 1 0 0 0 0 0 0 0 0 0 0]\n",
      " [0 0 0 0 0 0 0 0 0 0 0 0 0 0 0 0 0 0 0 0 0 0 1 0 0 0 0 0 0 0 0 0 1 0 0 0 1 0 0 0 0 0]\n",
      " [0 0 0 0 0 0 0 0 0 0 0 0 0 0 0 0 0 0 0 0 0 1 0 0 0 0 0 0 0 0 0 1 0 0 0 0 0 0 0 0 0 0]\n",
      " [0 0 0 0 0 0 0 0 0 0 0 0 0 0 0 0 0 0 0 0 0 1 0 0 0 0 0 0 0 0 0 0 1 0 0 0 0 0 0 0 0 0]\n",
      " [0 0 0 0 0 0 0 0 0 0 0 0 0 0 0 0 0 0 0 0 0 0 0 1 0 0 0 0 0 0 0 0 1 0 0 1 0 0 0 0 0 0]\n",
      " [0 0 0 0 0 0 0 0 0 0 0 0 0 0 0 0 0 0 0 0 0 1 0 0 0 0 0 0 0 0 0 1 0 0 0 0 0 0 0 0 0 0]]\n"
     ]
    }
   ],
   "source": [
    "with WidePrint():\n",
    "    print(data['H'])"
   ]
  },
  {
   "cell_type": "code",
   "execution_count": 94,
   "metadata": {},
   "outputs": [
    {
     "data": {
      "text/plain": [
       "{'H': array([[0, 0, 1, ..., 0, 0, 0],\n",
       "        [1, 0, 0, ..., 0, 0, 0],\n",
       "        [0, 1, 0, ..., 0, 0, 0],\n",
       "        ...,\n",
       "        [0, 0, 0, ..., 0, 0, 0],\n",
       "        [0, 0, 0, ..., 0, 0, 0],\n",
       "        [0, 0, 0, ..., 0, 0, 0]]),\n",
       " 'A1': array([[0.]]),\n",
       " 'A2': array([[1, 1, 1, ..., 0, 0, 0],\n",
       "        [1, 1, 1, ..., 0, 0, 0],\n",
       "        [1, 1, 1, ..., 0, 0, 0],\n",
       "        ...,\n",
       "        [0, 0, 0, ..., 1, 1, 1],\n",
       "        [0, 0, 0, ..., 1, 1, 1],\n",
       "        [0, 0, 0, ..., 1, 1, 1]]),\n",
       " 'Y': 1.88,\n",
       " 'V': array([1, 1, 1, 1, 1, 1, 1, 1, 1, 1, 1, 1, 1, 1, 1, 1, 1, 1, 1, 1, 1, 1, 1, 0, 0, 0, 0, 0, 0, 0, 0, 0, 0, 0, 0, 0, 0,\n",
       "        0, 0, 0, 0, 0, 0, 0, 0, 0, 0, 0, 0, 0, 0, 0, 0, 0, 0, 0, 0, 0, 0, 0, 0, 0, 0, 0, 0, 0, 0, 0, 0, 0, 0, 0, 0, 0,\n",
       "        0, 0, 0, 0, 0, 0, 0, 0, 0, 0, 0, 0, 0, 0, 0, 0, 0, 0, 0, 0, 0, 0, 0, 0, 0, 0, 0, 0, 0, 0, 0, 0, 0, 0, 0, 0, 0,\n",
       "        0, 0, 0, 0, 0]),\n",
       " 'key': '1mwt'}"
      ]
     },
     "execution_count": 94,
     "metadata": {},
     "output_type": "execute_result"
    }
   ],
   "source": [
    "data"
   ]
  },
  {
   "cell_type": "markdown",
   "metadata": {},
   "source": [
    "<img src=\"lig_pocket.png\" width=\"400\" />"
   ]
  },
  {
   "cell_type": "markdown",
   "metadata": {},
   "source": [
    "<img src=\"lig_pocket_closer.png\" width=\"400\" />"
   ]
  },
  {
   "cell_type": "markdown",
   "metadata": {},
   "source": [
    "### 分子のペアを読み込む"
   ]
  },
  {
   "cell_type": "code",
   "execution_count": 95,
   "metadata": {},
   "outputs": [],
   "source": [
    "ligand = Chem.MolFromMolFile('cbidata/1mwt/PNM.sdf')"
   ]
  },
  {
   "cell_type": "code",
   "execution_count": 96,
   "metadata": {},
   "outputs": [],
   "source": [
    "pocket = Chem.MolFromPDBFile('cbidata/1mwt/1mwt_pocket.pdb')"
   ]
  },
  {
   "cell_type": "markdown",
   "metadata": {},
   "source": [
    "#### コードは0-スタート、上の表示は1-スタートなので、上の表示からは1減らしてアクセス"
   ]
  },
  {
   "cell_type": "code",
   "execution_count": 97,
   "metadata": {},
   "outputs": [
    {
     "name": "stdout",
     "output_type": "stream",
     "text": [
      "15 O\n"
     ]
    }
   ],
   "source": [
    "atom = ligand.GetAtomWithIdx(15)\n",
    "print(atom.GetIdx(), atom.GetSymbol())"
   ]
  },
  {
   "cell_type": "code",
   "execution_count": 98,
   "metadata": {},
   "outputs": [
    {
     "name": "stdout",
     "output_type": "stream",
     "text": [
      "33 C\n"
     ]
    }
   ],
   "source": [
    "atom = pocket.GetAtomWithIdx(33)\n",
    "print(atom.GetIdx(), atom.GetSymbol())"
   ]
  },
  {
   "cell_type": "markdown",
   "metadata": {},
   "source": [
    "#### リガンドは最大60の固定枠で格納されているので、ポケットにアクセスする場合はオフセットを指定"
   ]
  },
  {
   "cell_type": "code",
   "execution_count": 99,
   "metadata": {
    "scrolled": true
   },
   "outputs": [
    {
     "name": "stdout",
     "output_type": "stream",
     "text": [
      "[1 1 1 1 1 1 1 1 1 1 1 1 1 1 1 1 1 1 1 1 1 1 1 0 0 0 0 0 0 0 0 0 0 0 0 0 0 0 0 0 0 0 0 0 0 0 0 0 0 0 0 0 0 0 0 0 0 0 0\n",
      " 0 0 0 0 0 0 0 0 0 0 0 0 0 0 0 0 0 0 0 0 0 0 0 0 0 0 0 0 0 0 0 0 0 0 0 0 0 0 0 0 0 0 0 0 0 0 0 0 0 0 0 0 0 0 0 0 0]\n"
     ]
    }
   ],
   "source": [
    "with WidePrint():\n",
    "    print(data['V'])"
   ]
  },
  {
   "cell_type": "code",
   "execution_count": 100,
   "metadata": {},
   "outputs": [],
   "source": [
    "LIGAND_NATOMS = data['V'].sum()"
   ]
  },
  {
   "cell_type": "code",
   "execution_count": 101,
   "metadata": {
    "scrolled": false
   },
   "outputs": [
    {
     "name": "stdout",
     "output_type": "stream",
     "text": [
      "[[0 0 1 0 0 0 0 0 0 0 0 1 0 0 1 0 0 0 0 0 0 0 0 0 0 0 0 0 0 0 0 0 0 0 0 0 0 0 0 0 0 0]\n",
      " [1 0 0 0 0 0 0 0 0 0 0 1 0 0 0 0 0 0 0 0 0 0 0 0 0 0 0 0 0 0 0 0 0 0 0 0 0 0 0 0 0 0]\n",
      " [0 1 0 0 0 0 0 0 0 0 1 0 0 1 0 1 0 0 0 1 0 0 0 0 0 0 0 0 0 0 0 0 0 0 0 0 0 0 0 0 0 0]\n",
      " [1 0 0 0 0 0 0 0 0 0 1 0 0 1 0 0 0 0 0 0 1 0 0 0 0 0 0 0 0 0 0 0 0 0 0 0 0 0 0 0 0 0]\n",
      " [1 0 0 0 0 0 0 0 0 0 0 1 0 0 0 0 0 0 1 0 1 0 0 0 0 0 0 0 0 0 0 0 0 0 0 0 0 0 0 0 0 0]\n",
      " [0 0 1 0 0 0 0 0 0 0 0 1 0 0 1 0 0 0 1 0 1 0 0 0 0 0 0 0 0 0 0 0 0 0 0 0 0 0 0 0 0 0]\n",
      " [0 0 1 0 0 0 0 0 0 0 0 1 0 0 1 1 0 0 1 0 1 0 0 0 0 0 0 0 0 0 0 0 0 0 0 0 0 0 0 0 0 0]\n",
      " [1 0 0 0 0 0 0 0 0 0 1 0 0 1 0 0 1 0 0 0 0 0 0 0 0 0 0 0 0 0 0 0 0 0 0 0 0 0 0 0 0 0]\n",
      " [1 0 0 0 0 0 0 0 0 0 1 0 0 0 0 0 0 0 0 0 0 0 0 0 0 0 0 0 0 0 0 0 0 0 0 0 0 0 0 0 0 0]\n",
      " [1 0 0 0 0 0 0 0 0 0 1 0 0 0 0 0 0 0 0 0 0 0 0 0 0 0 0 0 0 0 0 0 0 0 0 0 0 0 0 0 0 0]\n",
      " [0 0 0 0 0 1 0 0 0 0 1 0 0 1 0 0 0 0 0 0 0 0 0 0 0 0 0 0 0 0 0 0 0 0 0 0 0 0 0 0 0 0]\n",
      " [1 0 0 0 0 0 0 0 0 0 1 0 0 1 0 0 0 0 0 0 0 0 0 0 0 0 0 0 0 0 0 0 0 0 0 0 0 0 0 0 0 0]\n",
      " [1 0 0 0 0 0 0 0 0 0 1 0 0 0 0 0 0 0 0 0 0 0 0 0 0 0 0 0 0 0 0 0 0 0 0 0 0 0 0 0 0 0]\n",
      " [0 1 0 0 0 0 0 0 0 0 0 1 0 0 0 1 0 0 0 0 0 0 0 0 0 0 0 0 0 0 0 0 0 0 0 0 0 0 0 0 0 0]\n",
      " [1 0 0 0 0 0 0 0 0 0 0 1 0 0 0 0 0 0 0 0 0 0 0 0 0 0 0 0 0 0 0 0 0 0 0 0 0 0 0 0 0 0]\n",
      " [0 0 1 0 0 0 0 0 0 0 0 1 0 0 1 0 0 0 0 0 0 0 0 0 0 0 0 0 0 0 0 0 0 0 0 0 0 0 0 0 0 0]\n",
      " [1 0 0 0 0 0 0 0 0 0 1 0 0 0 0 0 1 0 0 0 0 0 0 0 0 0 0 0 0 0 0 0 0 0 0 0 0 0 0 0 0 0]\n",
      " [1 0 0 0 0 0 0 0 0 1 0 1 0 1 0 0 1 1 0 0 0 0 0 0 0 0 0 0 0 0 0 0 0 0 0 0 0 0 0 0 0 0]\n",
      " [1 0 0 0 0 0 0 0 0 1 0 1 0 1 0 0 0 1 0 0 0 0 0 0 0 0 0 0 0 0 0 0 0 0 0 0 0 0 0 0 0 0]\n",
      " [1 0 0 0 0 0 0 0 0 1 0 1 0 1 0 0 0 1 0 0 0 0 0 0 0 0 0 0 0 0 0 0 0 0 0 0 0 0 0 0 0 0]\n",
      " [1 0 0 0 0 0 0 0 0 1 0 1 0 1 0 0 0 1 0 0 0 0 0 0 0 0 0 0 0 0 0 0 0 0 0 0 0 0 0 0 0 0]\n",
      " [1 0 0 0 0 0 0 0 0 1 0 1 0 1 0 0 0 1 0 0 0 0 0 0 0 0 0 0 0 0 0 0 0 0 0 0 0 0 0 0 0 0]\n",
      " [1 0 0 0 0 0 0 0 0 1 0 1 0 1 0 0 0 1 0 0 0 0 0 0 0 0 0 0 0 0 0 0 0 0 0 0 0 0 0 0 0 0]\n",
      " [0 0 0 0 0 0 0 0 0 0 0 0 0 0 0 0 0 0 0 0 0 0 1 0 0 0 0 0 0 0 0 1 0 0 0 0 1 0 0 0 1 0]\n",
      " [0 0 0 0 0 0 0 0 0 0 0 0 0 0 0 0 0 0 0 0 0 1 0 0 0 0 0 0 0 0 0 1 0 0 0 0 0 0 0 0 0 0]\n",
      " [0 0 0 0 0 0 0 0 0 0 0 0 0 0 0 0 0 0 0 0 0 1 0 0 0 0 0 0 0 0 0 0 1 0 0 0 0 0 0 0 0 0]\n",
      " [0 0 0 0 0 0 0 0 0 0 0 0 0 0 0 0 0 0 0 0 0 0 0 1 0 0 0 0 0 0 0 0 1 0 0 1 0 0 0 0 0 0]\n",
      " [0 0 0 0 0 0 0 0 0 0 0 0 0 0 0 0 0 0 0 0 0 0 1 0 0 0 0 0 0 0 0 0 1 0 0 0 1 0 0 0 0 0]\n",
      " [0 0 0 0 0 0 0 0 0 0 0 0 0 0 0 0 0 0 0 0 0 1 0 0 0 0 0 0 0 0 0 1 0 0 0 0 0 0 0 0 0 0]\n",
      " [0 0 0 0 0 0 0 0 0 0 0 0 0 0 0 0 0 0 0 0 0 1 0 0 0 0 0 0 0 0 0 0 1 0 0 0 0 0 0 0 0 0]\n",
      " [0 0 0 0 0 0 0 0 0 0 0 0 0 0 0 0 0 0 0 0 0 0 0 1 0 0 0 0 0 0 0 0 1 0 0 1 0 0 0 0 0 0]\n",
      " [0 0 0 0 0 0 0 0 0 0 0 0 0 0 0 0 0 0 0 0 0 1 0 0 0 0 0 0 0 0 0 1 0 0 0 0 0 0 0 0 0 0]\n",
      " [0 0 0 0 0 0 0 0 0 0 0 0 0 0 0 0 0 0 0 0 0 0 0 1 0 0 0 0 0 0 0 1 0 0 0 1 1 0 0 0 0 0]\n",
      " [0 0 0 0 0 0 0 0 0 0 0 0 0 0 0 0 0 0 0 0 0 0 1 0 0 0 0 0 0 0 0 1 0 0 0 0 1 0 0 0 1 0]\n",
      " [0 0 0 0 0 0 0 0 0 0 0 0 0 0 0 0 0 0 0 0 0 1 0 0 0 0 0 0 0 0 0 1 0 0 0 0 0 0 0 0 0 0]\n",
      " [0 0 0 0 0 0 0 0 0 0 0 0 0 0 0 0 0 0 0 0 0 1 0 0 0 0 0 0 0 0 0 0 1 0 0 0 0 0 0 0 0 0]\n",
      " [0 0 0 0 0 0 0 0 0 0 0 0 0 0 0 0 0 0 0 0 0 0 0 1 0 0 0 0 0 0 0 0 1 0 0 1 0 0 0 0 0 0]\n",
      " [0 0 0 0 0 0 0 0 0 0 0 0 0 0 0 0 0 0 0 0 0 1 0 0 0 0 0 0 0 0 0 1 0 0 0 0 0 1 0 0 0 0]\n",
      " [0 0 0 0 0 0 0 0 0 0 0 0 0 0 0 0 0 0 0 0 0 1 0 0 0 0 0 0 0 0 1 0 1 0 1 0 0 1 1 0 0 0]\n",
      " [0 0 0 0 0 0 0 0 0 0 0 0 0 0 0 0 0 0 0 0 0 1 0 0 0 0 0 0 0 0 1 0 1 0 1 0 0 0 1 0 0 0]\n",
      " [0 0 0 0 0 0 0 0 0 0 0 0 0 0 0 0 0 0 0 0 0 1 0 0 0 0 0 0 0 0 1 0 1 0 1 0 0 0 1 0 0 0]\n",
      " [0 0 0 0 0 0 0 0 0 0 0 0 0 0 0 0 0 0 0 0 0 1 0 0 0 0 0 0 0 0 1 0 1 0 1 0 0 0 1 0 0 0]\n",
      " [0 0 0 0 0 0 0 0 0 0 0 0 0 0 0 0 0 0 0 0 0 1 0 0 0 0 0 0 0 0 1 0 1 0 1 0 0 0 1 0 0 0]\n",
      " [0 0 0 0 0 0 0 0 0 0 0 0 0 0 0 0 0 0 0 0 0 1 0 0 0 0 0 0 0 0 1 0 1 0 1 0 0 0 1 0 0 0]\n",
      " [0 0 0 0 0 0 0 0 0 0 0 0 0 0 0 0 0 0 0 0 0 0 0 1 0 0 0 0 0 0 0 0 1 0 0 1 1 0 0 0 0 0]\n",
      " [0 0 0 0 0 0 0 0 0 0 0 0 0 0 0 0 0 0 0 0 0 0 1 0 0 0 0 0 0 0 0 1 0 0 0 0 1 0 0 0 1 0]\n",
      " [0 0 0 0 0 0 0 0 0 0 0 0 0 0 0 0 0 0 0 0 0 1 0 0 0 0 0 0 0 0 0 1 0 0 0 0 0 0 0 0 0 0]\n",
      " [0 0 0 0 0 0 0 0 0 0 0 0 0 0 0 0 0 0 0 0 0 1 0 0 0 0 0 0 0 0 0 0 1 0 0 0 0 0 0 0 0 0]\n",
      " [0 0 0 0 0 0 0 0 0 0 0 0 0 0 0 0 0 0 0 0 0 0 0 1 0 0 0 0 0 0 0 0 1 0 0 1 0 0 0 0 0 0]\n",
      " [0 0 0 0 0 0 0 0 0 0 0 0 0 0 0 0 0 0 0 0 0 1 0 0 0 0 0 0 0 0 0 1 0 0 0 0 0 0 0 0 0 0]\n",
      " [0 0 0 0 0 0 0 0 0 0 0 0 0 0 0 0 0 0 0 0 0 0 0 1 0 0 0 0 0 0 0 1 0 0 0 1 1 0 0 0 0 0]\n",
      " [0 0 0 0 0 0 0 0 0 0 0 0 0 0 0 0 0 0 0 0 0 0 1 0 0 0 0 0 0 0 0 1 0 0 0 0 1 0 0 0 1 0]\n",
      " [0 0 0 0 0 0 0 0 0 0 0 0 0 0 0 0 0 0 0 0 0 1 0 0 0 0 0 0 0 0 0 1 0 0 0 0 0 0 0 0 0 0]\n",
      " [0 0 0 0 0 0 0 0 0 0 0 0 0 0 0 0 0 0 0 0 0 1 0 0 0 0 0 0 0 0 0 0 1 0 0 0 0 0 0 0 0 0]\n",
      " [0 0 0 0 0 0 0 0 0 0 0 0 0 0 0 0 0 0 0 0 0 0 0 1 0 0 0 0 0 0 0 0 1 0 0 1 0 0 0 0 0 0]\n",
      " [0 0 0 0 0 0 0 0 0 0 0 0 0 0 0 0 0 0 0 0 0 1 0 0 0 0 0 0 0 0 0 1 0 0 0 0 0 1 0 0 0 0]\n",
      " [0 0 0 0 0 0 0 0 0 0 0 0 0 0 0 0 0 0 0 0 0 1 0 0 0 0 0 0 0 0 0 0 1 0 0 0 0 0 0 0 0 0]\n",
      " [0 0 0 0 0 0 0 0 0 0 0 0 0 0 0 0 0 0 0 0 0 0 0 1 0 0 0 0 0 0 0 0 1 0 0 1 0 0 0 0 0 0]\n",
      " [0 0 0 0 0 0 0 0 0 0 0 0 0 0 0 0 0 0 0 0 0 0 1 0 0 0 0 0 0 0 0 0 1 0 0 0 1 0 0 0 0 0]\n",
      " [0 0 0 0 0 0 0 0 0 0 0 0 0 0 0 0 0 0 0 0 0 0 1 0 0 0 0 0 0 0 0 1 0 0 0 0 1 0 0 0 1 0]\n",
      " [0 0 0 0 0 0 0 0 0 0 0 0 0 0 0 0 0 0 0 0 0 1 0 0 0 0 0 0 0 0 0 1 0 0 0 0 0 0 0 0 0 0]\n",
      " [0 0 0 0 0 0 0 0 0 0 0 0 0 0 0 0 0 0 0 0 0 1 0 0 0 0 0 0 0 0 0 0 1 0 0 0 0 0 0 0 0 0]\n",
      " [0 0 0 0 0 0 0 0 0 0 0 0 0 0 0 0 0 0 0 0 0 0 0 1 0 0 0 0 0 0 0 0 1 0 0 1 0 0 0 0 0 0]\n",
      " [0 0 0 0 0 0 0 0 0 0 0 0 0 0 0 0 0 0 0 0 0 1 0 0 0 0 0 0 0 0 0 1 0 0 0 0 0 1 0 0 0 0]\n",
      " [0 0 0 0 0 0 0 0 0 0 0 0 0 0 0 0 0 0 0 0 0 1 0 0 0 0 0 0 0 0 0 1 0 0 0 0 0 1 0 0 0 0]\n",
      " [0 0 0 0 0 0 0 0 0 0 0 0 0 0 0 0 0 0 0 0 0 1 0 0 0 0 0 0 0 0 0 0 1 0 0 0 0 0 0 0 0 0]\n",
      " [0 0 0 0 0 0 0 0 0 0 0 0 0 0 0 0 0 0 0 0 0 0 0 1 0 0 0 0 0 0 0 0 1 0 0 1 0 0 0 0 0 0]\n",
      " [0 0 0 0 0 0 0 0 0 0 0 0 0 0 0 0 0 0 0 0 0 0 1 0 0 0 0 0 0 0 0 0 1 0 0 0 1 0 0 0 0 0]\n",
      " [0 0 0 0 0 0 0 0 0 0 0 0 0 0 0 0 0 0 0 0 0 0 1 0 0 0 0 0 0 0 0 1 0 0 0 0 1 0 0 0 1 0]\n",
      " [0 0 0 0 0 0 0 0 0 0 0 0 0 0 0 0 0 0 0 0 0 1 0 0 0 0 0 0 0 0 0 1 0 0 0 0 0 0 0 0 0 0]\n",
      " [0 0 0 0 0 0 0 0 0 0 0 0 0 0 0 0 0 0 0 0 0 1 0 0 0 0 0 0 0 0 0 0 1 0 0 0 0 0 0 0 0 0]\n",
      " [0 0 0 0 0 0 0 0 0 0 0 0 0 0 0 0 0 0 0 0 0 0 0 1 0 0 0 0 0 0 0 0 1 0 0 1 0 0 0 0 0 0]\n",
      " [0 0 0 0 0 0 0 0 0 0 0 0 0 0 0 0 0 0 0 0 0 1 0 0 0 0 0 0 0 0 0 1 0 0 0 0 0 0 0 0 0 0]\n",
      " [0 0 0 0 0 0 0 0 0 0 0 0 0 0 0 0 0 0 0 0 0 0 0 1 0 0 0 0 0 0 0 1 0 0 0 1 1 0 0 0 0 0]\n",
      " [0 0 0 0 0 0 0 0 0 0 0 0 0 0 0 0 0 0 0 0 0 0 1 0 0 0 0 0 0 0 0 0 1 0 0 0 1 0 0 0 0 0]\n",
      " [0 0 0 0 0 0 0 0 0 0 0 0 0 0 0 0 0 0 0 0 0 1 0 0 0 0 0 0 0 0 0 1 0 0 0 0 0 0 0 0 0 0]\n",
      " [0 0 0 0 0 0 0 0 0 0 0 0 0 0 0 0 0 0 0 0 0 1 0 0 0 0 0 0 0 0 0 0 1 0 0 0 0 0 0 0 0 0]\n",
      " [0 0 0 0 0 0 0 0 0 0 0 0 0 0 0 0 0 0 0 0 0 0 0 1 0 0 0 0 0 0 0 0 1 0 0 1 0 0 0 0 0 0]\n",
      " [0 0 0 0 0 0 0 0 0 0 0 0 0 0 0 0 0 0 0 0 0 0 1 0 0 0 0 0 0 0 0 0 1 0 0 0 1 0 0 0 0 0]\n",
      " [0 0 0 0 0 0 0 0 0 0 0 0 0 0 0 0 0 0 0 0 0 1 0 0 0 0 0 0 0 0 0 1 0 0 0 0 0 0 0 0 0 0]\n",
      " [0 0 0 0 0 0 0 0 0 0 0 0 0 0 0 0 0 0 0 0 0 1 0 0 0 0 0 0 0 0 0 0 1 0 0 0 0 0 0 0 0 0]\n",
      " [0 0 0 0 0 0 0 0 0 0 0 0 0 0 0 0 0 0 0 0 0 0 0 1 0 0 0 0 0 0 0 0 1 0 0 1 0 0 0 0 0 0]\n",
      " [0 0 0 0 0 0 0 0 0 0 0 0 0 0 0 0 0 0 0 0 0 1 0 0 0 0 0 0 0 0 0 1 0 0 0 0 0 0 0 0 0 0]\n",
      " [0 0 0 0 0 0 0 0 0 0 0 0 0 0 0 0 0 0 0 0 0 0 0 1 0 0 0 0 0 0 0 1 0 0 0 1 1 0 0 0 0 0]\n",
      " [0 0 0 0 0 0 0 0 0 0 0 0 0 0 0 0 0 0 0 0 0 1 0 0 0 0 0 0 0 0 0 1 0 0 0 0 0 0 0 0 0 0]\n",
      " [0 0 0 0 0 0 0 0 0 0 0 0 0 0 0 0 0 0 0 0 0 0 1 0 0 0 0 0 0 0 0 1 0 0 0 0 1 0 0 0 1 0]\n",
      " [0 0 0 0 0 0 0 0 0 0 0 0 0 0 0 0 0 0 0 0 0 1 0 0 0 0 0 0 0 0 0 1 0 0 0 0 0 0 0 0 0 0]\n",
      " [0 0 0 0 0 0 0 0 0 0 0 0 0 0 0 0 0 0 0 0 0 1 0 0 0 0 0 0 0 0 0 0 1 0 0 0 0 0 0 0 0 0]\n",
      " [0 0 0 0 0 0 0 0 0 0 0 0 0 0 0 0 0 0 0 0 0 0 0 1 0 0 0 0 0 0 0 0 1 0 0 1 0 0 0 0 0 0]\n",
      " [0 0 0 0 0 0 0 0 0 0 0 0 0 0 0 0 0 0 0 0 0 1 0 0 0 0 0 0 0 0 0 1 0 0 0 0 0 1 0 0 0 0]\n",
      " [0 0 0 0 0 0 0 0 0 0 0 0 0 0 0 0 0 0 0 0 0 1 0 0 0 0 0 0 0 0 0 1 0 0 0 0 0 1 0 0 0 1]\n",
      " [0 0 0 0 0 0 0 0 0 0 0 0 0 0 0 0 0 0 0 0 0 1 0 0 0 0 0 0 0 0 0 0 1 0 0 0 0 0 0 1 0 1]\n",
      " [0 0 0 0 0 0 0 0 0 0 0 0 0 0 0 0 0 0 0 0 0 0 0 1 0 0 0 0 0 0 0 0 1 0 0 1 0 0 0 1 0 1]\n",
      " [0 0 0 0 0 0 0 0 0 0 0 0 0 0 0 0 0 0 0 0 0 0 0 1 0 0 0 0 0 0 0 0 1 0 0 1 1 0 0 1 0 1]\n",
      " [0 0 0 0 0 0 0 0 0 0 0 0 0 0 0 0 0 0 0 0 0 0 1 0 0 0 0 0 0 0 0 1 0 0 0 0 1 0 0 0 1 0]\n",
      " [0 0 0 0 0 0 0 0 0 0 0 0 0 0 0 0 0 0 0 0 0 1 0 0 0 0 0 0 0 0 0 1 0 0 0 0 0 0 0 0 0 0]\n",
      " [0 0 0 0 0 0 0 0 0 0 0 0 0 0 0 0 0 0 0 0 0 1 0 0 0 0 0 0 0 0 0 0 1 0 0 0 0 0 0 0 0 0]\n",
      " [0 0 0 0 0 0 0 0 0 0 0 0 0 0 0 0 0 0 0 0 0 0 0 1 0 0 0 0 0 0 0 0 1 0 0 1 0 0 0 0 0 0]\n",
      " [0 0 0 0 0 0 0 0 0 0 0 0 0 0 0 0 0 0 0 0 0 1 0 0 0 0 0 0 0 0 0 1 0 0 0 0 0 1 0 0 0 0]\n",
      " [0 0 0 0 0 0 0 0 0 0 0 0 0 0 0 0 0 0 0 0 0 1 0 0 0 0 0 0 0 0 0 1 0 0 0 0 0 1 0 0 0 0]\n",
      " [0 0 0 0 0 0 0 0 0 0 0 0 0 0 0 0 0 0 0 0 0 1 0 0 0 0 0 0 0 0 0 0 1 0 0 0 0 0 0 0 0 0]\n",
      " [0 0 0 0 0 0 0 0 0 0 0 0 0 0 0 0 0 0 0 0 0 0 0 1 0 0 0 0 0 0 0 0 1 0 0 1 0 0 0 0 0 0]\n",
      " [0 0 0 0 0 0 0 0 0 0 0 0 0 0 0 0 0 0 0 0 0 0 1 0 0 0 0 0 0 0 0 0 1 0 0 0 1 0 0 0 0 0]\n",
      " [0 0 0 0 0 0 0 0 0 0 0 0 0 0 0 0 0 0 0 0 0 0 1 0 0 0 0 0 0 0 0 1 0 0 0 0 1 0 0 0 1 0]\n",
      " [0 0 0 0 0 0 0 0 0 0 0 0 0 0 0 0 0 0 0 0 0 1 0 0 0 0 0 0 0 0 0 1 0 0 0 0 0 0 0 0 0 0]\n",
      " [0 0 0 0 0 0 0 0 0 0 0 0 0 0 0 0 0 0 0 0 0 1 0 0 0 0 0 0 0 0 0 0 1 0 0 0 0 0 0 0 0 0]\n",
      " [0 0 0 0 0 0 0 0 0 0 0 0 0 0 0 0 0 0 0 0 0 0 0 1 0 0 0 0 0 0 0 0 1 0 0 1 0 0 0 0 0 0]\n",
      " [0 0 0 0 0 0 0 0 0 0 0 0 0 0 0 0 0 0 0 0 0 1 0 0 0 0 0 0 0 0 0 1 0 0 0 0 0 1 0 0 0 0]\n",
      " [0 0 0 0 0 0 0 0 0 0 0 0 0 0 0 0 0 0 0 0 0 1 0 0 0 0 0 0 0 0 0 1 0 0 0 0 0 1 0 0 0 0]\n",
      " [0 0 0 0 0 0 0 0 0 0 0 0 0 0 0 0 0 0 0 0 0 0 0 0 0 0 1 0 0 0 0 1 0 0 0 0 0 0 0 0 0 0]\n",
      " [0 0 0 0 0 0 0 0 0 0 0 0 0 0 0 0 0 0 0 0 0 1 0 0 0 0 0 0 0 0 0 1 0 0 0 0 0 0 0 0 0 0]\n",
      " [0 0 0 0 0 0 0 0 0 0 0 0 0 0 0 0 0 0 0 0 0 0 1 0 0 0 0 0 0 0 0 0 1 0 0 0 1 0 0 0 0 0]\n",
      " [0 0 0 0 0 0 0 0 0 0 0 0 0 0 0 0 0 0 0 0 0 1 0 0 0 0 0 0 0 0 0 1 0 0 0 0 0 0 0 0 0 0]\n",
      " [0 0 0 0 0 0 0 0 0 0 0 0 0 0 0 0 0 0 0 0 0 1 0 0 0 0 0 0 0 0 0 0 1 0 0 0 0 0 0 0 0 0]\n",
      " [0 0 0 0 0 0 0 0 0 0 0 0 0 0 0 0 0 0 0 0 0 0 0 1 0 0 0 0 0 0 0 0 1 0 0 1 0 0 0 0 0 0]\n",
      " [0 0 0 0 0 0 0 0 0 0 0 0 0 0 0 0 0 0 0 0 0 1 0 0 0 0 0 0 0 0 0 1 0 0 0 0 0 0 0 0 0 0]]\n"
     ]
    }
   ],
   "source": [
    "with WidePrint():\n",
    "    print(data['H'])"
   ]
  },
  {
   "cell_type": "markdown",
   "metadata": {},
   "source": [
    "#### ligand side"
   ]
  },
  {
   "cell_type": "code",
   "execution_count": 102,
   "metadata": {},
   "outputs": [
    {
     "name": "stdout",
     "output_type": "stream",
     "text": [
      "[0 0 1 0 0 0 0 0 0 0 0 1 0 0 1 0 0 0 0 0 0 0 0 0 0 0 0 0 0 0 0 0 0 0 0 0 0 0 0 0 0 0]\n"
     ]
    }
   ],
   "source": [
    "with WidePrint():\n",
    "    print(data['H'][15])"
   ]
  },
  {
   "cell_type": "markdown",
   "metadata": {},
   "source": [
    "#### pocket side"
   ]
  },
  {
   "cell_type": "code",
   "execution_count": 103,
   "metadata": {},
   "outputs": [
    {
     "name": "stdout",
     "output_type": "stream",
     "text": [
      "[1 0 0 0 0 0 0 0 0 0 0 1 0 0 0 0 0 0 0 0 0]\n"
     ]
    }
   ],
   "source": [
    "with WidePrint():\n",
    "    print(data['H'][LIGAND_NATOMS+33][21:])"
   ]
  },
  {
   "cell_type": "code",
   "execution_count": null,
   "metadata": {},
   "outputs": [],
   "source": []
  }
 ],
 "metadata": {
  "kernelspec": {
   "display_name": "Python 3",
   "language": "python",
   "name": "python3"
  },
  "language_info": {
   "codemirror_mode": {
    "name": "ipython",
    "version": 3
   },
   "file_extension": ".py",
   "mimetype": "text/x-python",
   "name": "python",
   "nbconvert_exporter": "python",
   "pygments_lexer": "ipython3",
   "version": "3.7.7"
  }
 },
 "nbformat": 4,
 "nbformat_minor": 4
}
