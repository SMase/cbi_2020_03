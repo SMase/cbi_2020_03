{
 "cells": [
  {
   "cell_type": "markdown",
   "metadata": {},
   "source": [
    "## 入力層データの説明\n",
    "\n",
    "### dataset2.py用"
   ]
  },
  {
   "cell_type": "markdown",
   "metadata": {},
   "source": [
    "```\n",
    "python train.py -l 0.001 -D 0.3 -E 1000 -g 0 -B 256 -v 2 -d cbidata -T keys/keys_select -t keys/keys_2018\n",
    "```\n",
    "のcachingを一度終えてから^Cで止める。/tmp/moldataの中に入力層のデータが出来上がっている。"
   ]
  },
  {
   "cell_type": "code",
   "execution_count": 1,
   "metadata": {},
   "outputs": [],
   "source": [
    "import numpy as np\n",
    "import pickle\n",
    "from rdkit import Chem\n",
    "\n",
    "class WidePrint:\n",
    "    def __enter__(self):\n",
    "        np.set_printoptions(edgeitems=1000000, linewidth=120)\n",
    "    def __exit__(self, exc_type, exc_value, traceback):\n",
    "        np.set_printoptions(edgeitems=3)"
   ]
  },
  {
   "cell_type": "code",
   "execution_count": 2,
   "metadata": {},
   "outputs": [
    {
     "name": "stdout",
     "output_type": "stream",
     "text": [
      "1mwt.pkl  3heg.pkl  3zi0.pkl  4k6i.pkl  4w9i.pkl  5f61.pkl  5myg.pkl  5y8y.pkl\r\n",
      "2jgs.pkl  3hjo.pkl  3zk6.pkl  4k7i.pkl  4w9j.pkl  5f62.pkl  5mz8.pkl  5y94.pkl\r\n",
      "2oz2.pkl  3hkw.pkl  3zll.pkl  4k7n.pkl  4w9k.pkl  5f63.pkl  5n0f.pkl  5ya5.pkl\r\n",
      "2p3i.pkl  3hky.pkl  3zln.pkl  4k7o.pkl  4w9l.pkl  5f8y.pkl  5n16.pkl  5ybi.pkl\r\n",
      "2p7a.pkl  3hmo.pkl  3zlr.pkl  4k9y.pkl  4w9w.pkl  5f9b.pkl  5n17.pkl  5yc8.pkl\r\n",
      "2p7g.pkl  3hmp.pkl  3zm9.pkl  4kao.pkl  4w9x.pkl  5fa7.pkl  5n18.pkl  5yf1.pkl\r\n",
      "2pqb.pkl  3hqr.pkl  3zos.pkl  4kby.pkl  4wet.pkl  5faq.pkl  5n1p.pkl  5yfs.pkl\r\n",
      "2pqc.pkl  3hrf.pkl  3zqe.pkl  4kcx.pkl  4wf2.pkl  5fas.pkl  5n1x.pkl  5yft.pkl\r\n",
      "2pym.pkl  3hu3.pkl  3zso.pkl  4kfq.pkl  4wf4.pkl  5fb7.pkl  5n1z.pkl  5yh8.pkl\r\n",
      "2pyn.pkl  3huc.pkl  3zsq.pkl  4klv.pkl  4whq.pkl  5fbi.pkl  5n21.pkl  5yhe.pkl\r\n",
      "2q2n.pkl  3hv7.pkl  3zsx.pkl  4km0.pkl  4whr.pkl  5fck.pkl  5n2t.pkl  5yhg.pkl\r\n",
      "2q63.pkl  3hv8.pkl  3zsy.pkl  4km2.pkl  4whs.pkl  5fdz.pkl  5n2x.pkl  5yhl.pkl\r\n",
      "2q88.pkl  3hx3.pkl  3zt2.pkl  4kmz.pkl  4wiv.pkl  5fe6.pkl  5n2z.pkl  5yij.pkl\r\n",
      "2q89.pkl  3hxi.pkl  3zt3.pkl  4kn0.pkl  4wk1.pkl  5fe7.pkl  5n34.pkl  5yj8.pkl\r\n",
      "2qbu.pkl  3hzm.pkl  3zt4.pkl  4kn1.pkl  4wke.pkl  5fe9.pkl  5n3y.pkl  5yjm.pkl\r\n",
      "2qfo.pkl  3i9g.pkl  3zxe.pkl  4kne.pkl  4wm9.pkl  5fh6.pkl  5n53.pkl  5yl2.pkl\r\n",
      "2qhm.pkl  3iaw.pkl  3zy5.pkl  4kni.pkl  4wmc.pkl  5fh7.pkl  5n55.pkl  5ylj.pkl\r\n",
      "2qpu.pkl  3ie3.pkl  3zyu.pkl  4knj.pkl  4wmu.pkl  5fh8.pkl  5n58.pkl  5yls.pkl\r\n",
      "2qry.pkl  3ies.pkl  4a4v.pkl  4knm.pkl  4wmv.pkl  5flo.pkl  5n69.pkl  5yto.pkl\r\n",
      "2qtn.pkl  3ijg.pkl  4a4w.pkl  4knn.pkl  4wmx.pkl  5flp.pkl  5n84.pkl  5yvt.pkl\r\n",
      "2r75.pkl  3ilq.pkl  4a6s.pkl  4knz.pkl  4wmy.pkl  5flq.pkl  5n87.pkl  5ywx.pkl\r\n",
      "2rcb.pkl  3imc.pkl  4ab8.pkl  4ko8.pkl  4wn5.pkl  5fls.pkl  5n93.pkl  5ywy.pkl\r\n",
      "2reg.pkl  3ime.pkl  4ab9.pkl  4kot.pkl  4wr7.pkl  5flt.pkl  5n9r.pkl  5yyb.pkl\r\n",
      "2rin.pkl  3img.pkl  4aba.pkl  4kov.pkl  4wri.pkl  5fnc.pkl  5n9s.pkl  5z7b.pkl\r\n",
      "2uyw.pkl  3iob.pkl  4abb.pkl  4kow.pkl  4wt2.pkl  5fnd.pkl  5nai.pkl  5z7j.pkl\r\n",
      "2uzj.pkl  3iod.pkl  4abd.pkl  4kox.pkl  4wup.pkl  5fnf.pkl  5nap.pkl  5z99.pkl\r\n",
      "2v57.pkl  3ioe.pkl  4abg.pkl  4kp5.pkl  4wvl.pkl  5fng.pkl  5nau.pkl  5za2.pkl\r\n",
      "2v58.pkl  3ip9.pkl  4abh.pkl  4kp8.pkl  4ww6.pkl  5fni.pkl  5nbw.pkl  5zk3.pkl\r\n",
      "2v59.pkl  3isj.pkl  4abk.pkl  4ksy.pkl  4ww8.pkl  5fnj.pkl  5ndb.pkl  5zk8.pkl\r\n",
      "2vc9.pkl  3iub.pkl  4aci.pkl  4kxl.pkl  4wyz.pkl  5fnr.pkl  5ne5.pkl  5zkc.pkl\r\n",
      "2vcb.pkl  3iue.pkl  4ad6.pkl  4kxm.pkl  4x11.pkl  5fns.pkl  5nf9.pkl  5zku.pkl\r\n",
      "2vk2.pkl  3ivc.pkl  4ah9.pkl  4kxn.pkl  4x1f.pkl  5fnt.pkl  5nfb.pkl  5zla.pkl\r\n",
      "2vmd.pkl  3ivg.pkl  4ahr.pkl  4kzq.pkl  4x3t.pkl  5fnu.pkl  5nge.pkl  5zo7.pkl\r\n",
      "2vmf.pkl  3ivx.pkl  4ahs.pkl  4l4v.pkl  4x50.pkl  5fog.pkl  5ngf.pkl  5zo8.pkl\r\n",
      "2vo4.pkl  3iw6.pkl  4ahu.pkl  4l4z.pkl  4x5p.pkl  5fol.pkl  5ngz.pkl  5zo9.pkl\r\n",
      "2vpn.pkl  3iw8.pkl  4ahv.pkl  4l50.pkl  4x5q.pkl  5fpp.pkl  5niy.pkl  5zt1.pkl\r\n",
      "2vpo.pkl  3jrs.pkl  4ai5.pkl  4l51.pkl  4x5r.pkl  5fs5.pkl  5njz.pkl  5zu0.pkl\r\n",
      "2vrj.pkl  3juk.pkl  4aia.pkl  4l9i.pkl  4x5y.pkl  5fsc.pkl  5nk2.pkl  5zzw.pkl\r\n",
      "2vuk.pkl  3juo.pkl  4aj1.pkl  4lar.pkl  4x5z.pkl  5fsl.pkl  5nk3.pkl  6afa.pkl\r\n",
      "2vvn.pkl  3jup.pkl  4aj2.pkl  4lbp.pkl  4x8t.pkl  5fsn.pkl  5nk4.pkl  6afc.pkl\r\n",
      "2vw5.pkl  3jvs.pkl  4aj4.pkl  4lbu.pkl  4xcb.pkl  5fso.pkl  5nk6.pkl  6afh.pkl\r\n",
      "2vwc.pkl  3k02.pkl  4aje.pkl  4leq.pkl  4xcu.pkl  5fsy.pkl  5nk7.pkl  6afi.pkl\r\n",
      "2vx9.pkl  3k41.pkl  4aji.pkl  4loh.pkl  4xk9.pkl  5ftg.pkl  5nk8.pkl  6afj.pkl\r\n",
      "2vxn.pkl  3k54.pkl  4ajk.pkl  4loi.pkl  4xkb.pkl  5fut.pkl  5nka.pkl  6afl.pkl\r\n",
      "2vyt.pkl  3k5i.pkl  4ajl.pkl  4loj.pkl  4xmb.pkl  5fwr.pkl  5nkb.pkl  6agg.pkl\r\n",
      "2vzr.pkl  3k5k.pkl  4ajn.pkl  4loo.pkl  4xo8.pkl  5fyx.pkl  5nkc.pkl  6an1.pkl\r\n",
      "2w08.pkl  3k5v.pkl  4ajo.pkl  4lop.pkl  4xoc.pkl  5g17.pkl  5nkd.pkl  6ap6.pkl\r\n",
      "2w4x.pkl  3ka2.pkl  4al4.pkl  4loq.pkl  4xoe.pkl  5g1a.pkl  5nkg.pkl  6ap7.pkl\r\n",
      "2w87.pkl  3kdc.pkl  4aq4.pkl  4lov.pkl  4xrq.pkl  5g1n.pkl  5nkh.pkl  6ap8.pkl\r\n",
      "2w8j.pkl  3kdd.pkl  4aq6.pkl  4lph.pkl  4xt2.pkl  5g2g.pkl  5nki.pkl  6aqf.pkl\r\n",
      "2w8w.pkl  3kdm.pkl  4aqh.pkl  4luo.pkl  4xtv.pkl  5g45.pkl  5nkn.pkl  6awn.pkl\r\n",
      "2w92.pkl  3kgt.pkl  4arb.pkl  4luv.pkl  4xtw.pkl  5g46.pkl  5nlk.pkl  6awp.pkl\r\n",
      "2w97.pkl  3kgu.pkl  4arw.pkl  4luz.pkl  4xty.pkl  5g4m.pkl  5nn0.pkl  6ayh.pkl\r\n",
      "2w9h.pkl  3kjd.pkl  4asj.pkl  4lw1.pkl  4xu0.pkl  5g4n.pkl  5nn4.pkl  6ayi.pkl\r\n",
      "2wc4.pkl  3kmx.pkl  4att.pkl  4lwc.pkl  4xu1.pkl  5g4o.pkl  5nn6.pkl  6b1c.pkl\r\n",
      "2we3.pkl  3kmy.pkl  4au7.pkl  4lxz.pkl  4xu2.pkl  5g5f.pkl  5nu3.pkl  6b1f.pkl\r\n",
      "2weg.pkl  3kpu.pkl  4auj.pkl  4ly1.pkl  4xu3.pkl  5ggj.pkl  5nu5.pkl  6b1h.pkl\r\n",
      "2weh.pkl  3kpv.pkl  4auy.pkl  4ly9.pkl  4xx9.pkl  5ggk.pkl  5nud.pkl  6b1j.pkl\r\n",
      "2wej.pkl  3kpw.pkl  4av0.pkl  4lys.pkl  4xy8.pkl  5ggl.pkl  5nvv.pkl  6b1k.pkl\r\n",
      "2weo.pkl  3kqm.pkl  4av4.pkl  4lyw.pkl  4xy9.pkl  5ggn.pkl  5nvw.pkl  6b1x.pkl\r\n",
      "2weq.pkl  3kqo.pkl  4av5.pkl  4lzr.pkl  4xya.pkl  5gic.pkl  5nvx.pkl  6b22.pkl\r\n",
      "2wer.pkl  3kqp.pkl  4avh.pkl  4lzs.pkl  4y24.pkl  5gid.pkl  5nw0.pkl  6b3v.pkl\r\n",
      "2wf5.pkl  3kqr.pkl  4avi.pkl  4m0y.pkl  4y2q.pkl  5gj9.pkl  5nw1.pkl  6b4h.pkl\r\n",
      "2wic.pkl  3kqs.pkl  4avj.pkl  4m0z.pkl  4y38.pkl  5gja.pkl  5nw2.pkl  6b5a.pkl\r\n",
      "2wji.pkl  3kqt.pkl  4avs.pkl  4m12.pkl  4y3j.pkl  5gmh.pkl  5nwe.pkl  6b5i.pkl\r\n",
      "2wkt.pkl  3kqw.pkl  4axd.pkl  4m14.pkl  4y3y.pkl  5gsa.pkl  5nwz.pkl  6b7a.pkl\r\n",
      "2wl4.pkl  3kqy.pkl  4ayq.pkl  4m3p.pkl  4y4j.pkl  5gvm.pkl  5nyh.pkl  6b7b.pkl\r\n",
      "2wl5.pkl  3kr1.pkl  4ayr.pkl  4m5g.pkl  4y4v.pkl  5gvn.pkl  5nz4.pkl  6b7c.pkl\r\n",
      "2wn9.pkl  3kr2.pkl  4ayu.pkl  4m5h.pkl  4y59.pkl  5gvp.pkl  5nze.pkl  6b7d.pkl\r\n",
      "2wnc.pkl  3kr8.pkl  4az5.pkl  4m5i.pkl  4y5d.pkl  5h1t.pkl  5nzo.pkl  6b7e.pkl\r\n",
      "2wnj.pkl  3kv2.pkl  4azb.pkl  4m5j.pkl  4y8d.pkl  5h1u.pkl  5nzp.pkl  6baw.pkl\r\n",
      "2wor.pkl  3kyq.pkl  4azc.pkl  4m5k.pkl  4y94.pkl  5h1v.pkl  5nzq.pkl  6bbx.pkl\r\n",
      "2wos.pkl  3l1n.pkl  4azg.pkl  4m5l.pkl  4yc9.pkl  5h5f.pkl  5o0a.pkl  6bdy.pkl\r\n",
      "2wq5.pkl  3l59.pkl  4azi.pkl  4m5m.pkl  4ycu.pkl  5h5o.pkl  5o0b.pkl  6beb.pkl\r\n",
      "2wuf.pkl  3l5b.pkl  4b0b.pkl  4m5n.pkl  4ydn.pkl  5h63.pkl  5o0j.pkl  6bed.pkl\r\n",
      "2wva.pkl  3l6h.pkl  4b1j.pkl  4m8e.pkl  4yhm.pkl  5h85.pkl  5o22.pkl  6bee.pkl\r\n",
      "2wvt.pkl  3l8s.pkl  4b2i.pkl  4m8h.pkl  4yho.pkl  5h8e.pkl  5o2d.pkl  6bef.pkl\r\n",
      "2x00.pkl  3l8x.pkl  4b2l.pkl  4mg5.pkl  4ymg.pkl  5h8g.pkl  5o55.pkl  6bgu.pkl\r\n",
      "2xab.pkl  3lbz.pkl  4b32.pkl  4mg6.pkl  4ymh.pkl  5h9p.pkl  5o5a.pkl  6bgv.pkl\r\n",
      "2xbv.pkl  3lcu.pkl  4b33.pkl  4mg7.pkl  4ymq.pkl  5h9q.pkl  5o5f.pkl  6bgw.pkl\r\n",
      "2xcg.pkl  3lcv.pkl  4b34.pkl  4mg8.pkl  4yrd.pkl  5h9r.pkl  5o9o.pkl  6bgx.pkl\r\n",
      "2xde.pkl  3ldp.pkl  4b35.pkl  4mg9.pkl  4ysl.pkl  5h9s.pkl  5o9p.pkl  6bgy.pkl\r\n",
      "2xdk.pkl  3le8.pkl  4b3c.pkl  4mga.pkl  4yw6.pkl  5ha1.pkl  5o9q.pkl  6bgz.pkl\r\n",
      "2xdl.pkl  3ljj.pkl  4b3d.pkl  4mgb.pkl  4yx4.pkl  5hbn.pkl  5o9r.pkl  6bh0.pkl\r\n",
      "2xdx.pkl  3ljo.pkl  4b5s.pkl  4mgc.pkl  4yxi.pkl  5hbs.pkl  5o9y.pkl  6bh1.pkl\r\n",
      "2xgs.pkl  3lk0.pkl  4b5t.pkl  4mgd.pkl  4yxo.pkl  5hgc.pkl  5oa2.pkl  6bh2.pkl\r\n",
      "2xhr.pkl  3lk8.pkl  4b5w.pkl  4mjo.pkl  4yxu.pkl  5hip.pkl  5oa6.pkl  6bh3.pkl\r\n",
      "2xht.pkl  3lka.pkl  4b74.pkl  4mmm.pkl  4z6h.pkl  5his.pkl  5oah.pkl  6bh5.pkl\r\n",
      "2xi7.pkl  3lle.pkl  4b76.pkl  4mmp.pkl  4z6i.pkl  5hjq.pkl  5oax.pkl  6bhv.pkl\r\n",
      "2xib.pkl  3lm1.pkl  4b7p.pkl  4mp2.pkl  4z93.pkl  5hrv.pkl  5oci.pkl  6bm5.pkl\r\n",
      "2xii.pkl  3lp7.pkl  4bb9.pkl  4mp7.pkl  4zam.pkl  5hrw.pkl  5odx.pkl  6bm6.pkl\r\n",
      "2xj1.pkl  3lxk.pkl  4bcq.pkl  4mpc.pkl  4zb6.pkl  5hrx.pkl  5ody.pkl  6bny.pkl\r\n",
      "2xjg.pkl  3lxo.pkl  4bcs.pkl  4mpe.pkl  4zb8.pkl  5htl.pkl  5oei.pkl  6bod.pkl\r\n",
      "2xjj.pkl  3m3x.pkl  4bi6.pkl  4mpn.pkl  4zba.pkl  5hu9.pkl  5ofi.pkl  6boe.pkl\r\n",
      "2xjx.pkl  3m40.pkl  4bi7.pkl  4mq6.pkl  4zcs.pkl  5hv0.pkl  5ofv.pkl  6bu0.pkl\r\n",
      "2xm1.pkl  3m5e.pkl  4bj8.pkl  4mr4.pkl  4zec.pkl  5hva.pkl  5ofw.pkl  6bw5.pkl\r\n",
      "2xn3.pkl  3m67.pkl  4bkj.pkl  4mr6.pkl  4zed.pkl  5hvs.pkl  5oha.pkl  6c28.pkl\r\n",
      "2xn5.pkl  3m6p.pkl  4bks.pkl  4mre.pkl  4zei.pkl  5hvt.pkl  5oku.pkl  6c91.pkl\r\n",
      "2xp7.pkl  3m6q.pkl  4bkt.pkl  4mrf.pkl  4zek.pkl  5hwu.pkl  5olk.pkl  6c98.pkl\r\n",
      "2xuz.pkl  3m6r.pkl  4bqg.pkl  4mrg.pkl  4zfi.pkl  5hwv.pkl  5om2.pkl  6c99.pkl\r\n",
      "2xv1.pkl  3m89.pkl  4bqh.pkl  4mrh.pkl  4zgk.pkl  5i1q.pkl  5om3.pkl  6ce6.pkl\r\n",
      "2xxt.pkl  3m8u.pkl  4br3.pkl  4mue.pkl  4zji.pkl  5i29.pkl  5om7.pkl  6cea.pkl\r\n",
      "2xzw.pkl  3m94.pkl  4btk.pkl  4mul.pkl  4zjj.pkl  5i2e.pkl  5oqu.pkl  6ced.pkl\r\n",
      "2y34.pkl  3m96.pkl  4bup.pkl  4muv.pkl  4zl4.pkl  5i3a.pkl  5org.pkl  6cex.pkl\r\n",
      "2y7k.pkl  3mam.pkl  4buq.pkl  4my6.pkl  4zme.pkl  5i3v.pkl  5orh.pkl  6cf5.pkl\r\n",
      "2y7p.pkl  3mf5.pkl  4c1m.pkl  4n07.pkl  4zow.pkl  5i3w.pkl  5orj.pkl  6cfc.pkl\r\n",
      "2yay.pkl  3mhi.pkl  4c1y.pkl  4n5d.pkl  4zsh.pkl  5i3x.pkl  5ork.pkl  6cfd.pkl\r\n",
      "2yb0.pkl  3mhl.pkl  4c52.pkl  4n6h.pkl  4zt8.pkl  5i3y.pkl  5orl.pkl  6chh.pkl\r\n",
      "2ydw.pkl  3mhm.pkl  4c5d.pkl  4n7m.pkl  4zvi.pkl  5i7x.pkl  5orr.pkl  6chl.pkl\r\n",
      "2yek.pkl  3mho.pkl  4c6u.pkl  4n7u.pkl  4zyf.pkl  5i7y.pkl  5orv.pkl  6chn.pkl\r\n",
      "2yel.pkl  3miy.pkl  4c73.pkl  4n9c.pkl  4zzd.pkl  5i80.pkl  5orw.pkl  6chp.pkl\r\n",
      "2yfa.pkl  3mo2.pkl  4c9x.pkl  4nbk.pkl  4zzx.pkl  5i88.pkl  5ory.pkl  6ckc.pkl\r\n",
      "2yga.pkl  3mo5.pkl  4cc5.pkl  4nbl.pkl  4zzy.pkl  5i8g.pkl  5orz.pkl  6ckr.pkl\r\n",
      "2yge.pkl  3ms9.pkl  4ce1.pkl  4nbn.pkl  4zzz.pkl  5i8p.pkl  5os0.pkl  6cks.pkl\r\n",
      "2ygf.pkl  3mss.pkl  4ce2.pkl  4ndu.pkl  5a14.pkl  5i9x.pkl  5os1.pkl  6ckw.pkl\r\n",
      "2yhw.pkl  3muf.pkl  4ce3.pkl  4nj3.pkl  5a4c.pkl  5i9y.pkl  5os2.pkl  6clv.pkl\r\n",
      "2yhy.pkl  3mxf.pkl  4ceb.pkl  4nj9.pkl  5a5q.pkl  5ia0.pkl  5os3.pkl  6cms.pkl\r\n",
      "2yi0.pkl  3myg.pkl  4cfl.pkl  4nja.pkl  5a5v.pkl  5ia1.pkl  5os4.pkl  6cnj.pkl\r\n",
      "2yi7.pkl  3myq.pkl  4cg8.pkl  4nka.pkl  5a6i.pkl  5ia2.pkl  5os5.pkl  6cnk.pkl\r\n",
      "2yim.pkl  3n1c.pkl  4cg9.pkl  4nkt.pkl  5a6x.pkl  5ia3.pkl  5os7.pkl  6cpw.pkl\r\n",
      "2yix.pkl  3n35.pkl  4cga.pkl  4nnr.pkl  5a7b.pkl  5ia4.pkl  5os8.pkl  6csp.pkl\r\n",
      "2yk1.pkl  3n6k.pkl  4cgi.pkl  4np2.pkl  5a81.pkl  5ia5.pkl  5osd.pkl  6csq.pkl\r\n",
      "2yki.pkl  3n75.pkl  4cgj.pkl  4np3.pkl  5aan.pkl  5ie1.pkl  5ose.pkl  6csr.pkl\r\n",
      "2ymd.pkl  3n7h.pkl  4cig.pkl  4np9.pkl  5ab9.pkl  5ier.pkl  5osl.pkl  6css.pkl\r\n",
      "2yme.pkl  3n7s.pkl  4cj4.pkl  4nra.pkl  5aba.pkl  5if6.pkl  5oss.pkl  6cvd.pkl\r\n",
      "2z8e.pkl  3n8k.pkl  4cjn.pkl  4nyf.pkl  5acw.pkl  5igk.pkl  5ost.pkl  6cwf.pkl\r\n",
      "2z92.pkl  3n9s.pkl  4cjp.pkl  4nzo.pkl  5acx.pkl  5igl.pkl  5ot8.pkl  6cwh.pkl\r\n",
      "2zdk.pkl  3nee.pkl  4cjq.pkl  4o0a.pkl  5acy.pkl  5igm.pkl  5ot9.pkl  6cwi.pkl\r\n",
      "2zdl.pkl  3neo.pkl  4cjr.pkl  4o3f.pkl  5ad1.pkl  5ih9.pkl  5ota.pkl  6cwn.pkl\r\n",
      "2zdm.pkl  3nes.pkl  4ck3.pkl  4o61.pkl  5afv.pkl  5ihh.pkl  5otc.pkl  6cze.pkl\r\n",
      "2zdn.pkl  3nex.pkl  4cki.pkl  4ock.pkl  5ai1.pkl  5ii1.pkl  5otr.pkl  6czi.pkl\r\n",
      "2zfs.pkl  3nhi.pkl  4ckj.pkl  4ocq.pkl  5aip.pkl  5ii2.pkl  5oul.pkl  6d28.pkl\r\n",
      "2zft.pkl  3njq.pkl  4cl6.pkl  4ocv.pkl  5ais.pkl  5ijj.pkl  5ov8.pkl  6d50.pkl\r\n",
      "2zhd.pkl  3nkk.pkl  4cp5.pkl  4oex.pkl  5aiv.pkl  5ijr.pkl  5ovr.pkl  6d55.pkl\r\n",
      "2zif.pkl  3nm6.pkl  4crj.pkl  4og3.pkl  5aix.pkl  5ikb.pkl  5ovx.pkl  6d56.pkl\r\n",
      "2zq1.pkl  3npc.pkl  4crl.pkl  4og4.pkl  5alc.pkl  5il1.pkl  5ow1.pkl  6d59.pkl\r\n",
      "2zq2.pkl  3nq3.pkl  4csd.pkl  4ogi.pkl  5am6.pkl  5ioy.pkl  5owa.pkl  6d5e.pkl\r\n",
      "2zsc.pkl  3nq9.pkl  4css.pkl  4ogj.pkl  5am7.pkl  5ioz.pkl  5qa4.pkl  6d5g.pkl\r\n",
      "2zwz.pkl  3nrz.pkl  4cst.pkl  4oi6.pkl  5ant.pkl  5ipa.pkl  5qa5.pkl  6d5h.pkl\r\n",
      "3a1c.pkl  3nx7.pkl  4cu1.pkl  4oiv.pkl  5anu.pkl  5ipc.pkl  5qa6.pkl  6d5j.pkl\r\n",
      "3a1e.pkl  3o4k.pkl  4cu7.pkl  4oks.pkl  5anv.pkl  5ipj.pkl  5qa7.pkl  6d6t.pkl\r\n",
      "3a5y.pkl  3o56.pkl  4cwb.pkl  4omj.pkl  5anw.pkl  5irr.pkl  5qa8.pkl  6d6u.pkl\r\n",
      "3a6t.pkl  3o75.pkl  4d1j.pkl  4omk.pkl  5aoi.pkl  5isl.pkl  5qa9.pkl  6dik.pkl\r\n",
      "3a73.pkl  3o84.pkl  4d3h.pkl  4or4.pkl  5aol.pkl  5ito.pkl  5qaa.pkl  6dk1.pkl\r\n",
      "3acl.pkl  3o8p.pkl  4d52.pkl  4ovh.pkl  5aom.pkl  5itp.pkl  5qab.pkl  6dkb.pkl\r\n",
      "3ad7.pkl  3o9p.pkl  4d7b.pkl  4p3h.pkl  5aqf.pkl  5ivj.pkl  5qac.pkl  6dkg.pkl\r\n",
      "3ad8.pkl  3oj8.pkl  4d8z.pkl  4p5z.pkl  5aqg.pkl  5ivv.pkl  5qad.pkl  6dki.pkl\r\n",
      "3ads.pkl  3oob.pkl  4dbm.pkl  4pb2.pkl  5aqh.pkl  5ivy.pkl  5qae.pkl  6dlx.pkl\r\n",
      "3adv.pkl  3ouj.pkl  4ddh.pkl  4pd6.pkl  5aqj.pkl  5iw0.pkl  5qaf.pkl  6dq4.pkl\r\n",
      "3ao1.pkl  3ovn.pkl  4ddk.pkl  4pf5.pkl  5aqn.pkl  5iyy.pkl  5qag.pkl  6dq5.pkl\r\n",
      "3ao2.pkl  3ozj.pkl  4ddm.pkl  4phu.pkl  5aqo.pkl  5j0d.pkl  5qah.pkl  6dq6.pkl\r\n",
      "3ao5.pkl  3p2e.pkl  4de5.pkl  4pin.pkl  5aqp.pkl  5j1r.pkl  5qai.pkl  6dq8.pkl\r\n",
      "3aqa.pkl  3p2h.pkl  4del.pkl  4pio.pkl  5aqr.pkl  5j1x.pkl  5qaj.pkl  6drx.pkl\r\n",
      "3arp.pkl  3p3r.pkl  4der.pkl  4pmm.pkl  5aqt.pkl  5j20.pkl  5qak.pkl  6dxl.pkl\r\n",
      "3arq.pkl  3p3s.pkl  4des.pkl  4pnu.pkl  5aqu.pkl  5j27.pkl  5qal.pkl  6e2o.pkl\r\n",
      "3arr.pkl  3p3t.pkl  4det.pkl  4poh.pkl  5aqv.pkl  5j2x.pkl  5qam.pkl  6e4a.pkl\r\n",
      "3art.pkl  3p5o.pkl  4deu.pkl  4poj.pkl  5aqz.pkl  5j32.pkl  5qan.pkl  6e4t.pkl\r\n",
      "3aru.pkl  3p7i.pkl  4dew.pkl  4pop.pkl  5ar0.pkl  5j3l.pkl  5qao.pkl  6e4u.pkl\r\n",
      "3arv.pkl  3p8e.pkl  4dko.pkl  4pov.pkl  5arf.pkl  5j64.pkl  5qap.pkl  6e4w.pkl\r\n",
      "3arw.pkl  3p9t.pkl  4dkp.pkl  4pow.pkl  5aut.pkl  5j6a.pkl  5qaq.pkl  6egs.pkl\r\n",
      "3arx.pkl  3pb3.pkl  4dkq.pkl  4pox.pkl  5avf.pkl  5j6l.pkl  5qar.pkl  6ei5.pkl\r\n",
      "3ary.pkl  3pcu.pkl  4dkr.pkl  4pp0.pkl  5b5f.pkl  5j6m.pkl  5qas.pkl  6ekq.pkl\r\n",
      "3arz.pkl  3pd2.pkl  4dli.pkl  4pp3.pkl  5b5g.pkl  5j6n.pkl  5qat.pkl  6el5.pkl\r\n",
      "3as0.pkl  3pd3.pkl  4dn0.pkl  4pp5.pkl  5boj.pkl  5j71.pkl  5qau.pkl  6eln.pkl\r\n",
      "3axz.pkl  3pd4.pkl  4dru.pkl  4psb.pkl  5bs4.pkl  5j82.pkl  5qav.pkl  6elo.pkl\r\n",
      "3b24.pkl  3po1.pkl  4dst.pkl  4puj.pkl  5bv3.pkl  5j86.pkl  5qaw.pkl  6elp.pkl\r\n",
      "3b25.pkl  3ppp.pkl  4dsu.pkl  4puk.pkl  5bw4.pkl  5j8m.pkl  5qax.pkl  6emu.pkl\r\n",
      "3b26.pkl  3ppq.pkl  4duh.pkl  4pul.pkl  5c3p.pkl  5j9x.pkl  5qay.pkl  6eog.pkl\r\n",
      "3b27.pkl  3ppr.pkl  4dve.pkl  4pum.pkl  5c4l.pkl  5ja0.pkl  5qaz.pkl  6eol.pkl\r\n",
      "3b28.pkl  3pty.pkl  4dy6.pkl  4pvx.pkl  5c5h.pkl  5jal.pkl  5qb0.pkl  6epa.pkl\r\n",
      "3b2t.pkl  3pxf.pkl  4dzy.pkl  4pvy.pkl  5c5t.pkl  5jcb.pkl  5qb1.pkl  6eq8.pkl\r\n",
      "3b4p.pkl  3pxq.pkl  4e1k.pkl  4pxm.pkl  5c7n.pkl  5jgi.pkl  5qb2.pkl  6eqp.pkl\r\n",
      "3b5j.pkl  3pyy.pkl  4ear.pkl  4pyx.pkl  5c85.pkl  5jgq.pkl  5qb3.pkl  6eu6.pkl\r\n",
      "3b82.pkl  3q6w.pkl  4ef4.pkl  4pyy.pkl  5cbr.pkl  5jhb.pkl  5syn.pkl  6euw.pkl\r\n",
      "3bex.pkl  3q6z.pkl  4ef6.pkl  4pzv.pkl  5cbs.pkl  5jhk.pkl  5t18.pkl  6eux.pkl\r\n",
      "3bjm.pkl  3q71.pkl  4efk.pkl  4q06.pkl  5chk.pkl  5ji8.pkl  5t2t.pkl  6ew6.pkl\r\n",
      "3bra.pkl  3q72.pkl  4egk.pkl  4q07.pkl  5cks.pkl  5jox.pkl  5t3n.pkl  6exi.pkl\r\n",
      "3brn.pkl  3q7q.pkl  4ej8.pkl  4q08.pkl  5cp5.pkl  5jq5.pkl  5t5g.pkl  6ey8.pkl\r\n",
      "3bu1.pkl  3q8h.pkl  4ejl.pkl  4q09.pkl  5cp9.pkl  5js3.pkl  5t9u.pkl  6ey9.pkl\r\n",
      "3buf.pkl  3qbc.pkl  4emf.pkl  4q0a.pkl  5cqt.pkl  5jsj.pkl  5t9w.pkl  6eya.pkl\r\n",
      "3buh.pkl  3qin.pkl  4emr.pkl  4q0k.pkl  5cqu.pkl  5jss.pkl  5t9z.pkl  6eyb.pkl\r\n",
      "3bva.pkl  3qio.pkl  4eo6.pkl  4q0l.pkl  5cs5.pkl  5jxn.pkl  5ta2.pkl  6ezq.pkl\r\n",
      "3bwj.pkl  3qip.pkl  4eo8.pkl  4q3t.pkl  5cs6.pkl  5k03.pkl  5tb6.pkl  6f1j.pkl\r\n",
      "3bwk.pkl  3qkd.pkl  4epy.pkl  4q4o.pkl  5csd.pkl  5k0m.pkl  5tbe.pkl  6f1n.pkl\r\n",
      "3bxe.pkl  3qnd.pkl  4erf.pkl  4q4p.pkl  5csh.pkl  5k48.pkl  5tbm.pkl  6f20.pkl\r\n",
      "3bxf.pkl  3qps.pkl  4etz.pkl  4q4q.pkl  5cso.pkl  5k4z.pkl  5tci.pkl  6f4w.pkl\r\n",
      "3bxg.pkl  3qqa.pkl  4eu0.pkl  4q4r.pkl  5csp.pkl  5k7h.pkl  5tcj.pkl  6f4x.pkl\r\n",
      "3bxh.pkl  3qt7.pkl  4euo.pkl  4q6d.pkl  5ct1.pkl  5k9w.pkl  5tco.pkl  6f5u.pkl\r\n",
      "3c2f.pkl  3qx8.pkl  4euv.pkl  4q6e.pkl  5ct2.pkl  5ka1.pkl  5tcy.pkl  6f5w.pkl\r\n",
      "3c2o.pkl  3qxt.pkl  4ewn.pkl  4q9m.pkl  5cu2.pkl  5ka3.pkl  5tpx.pkl  6f6i.pkl\r\n",
      "3c2r.pkl  3qyy.pkl  4f0c.pkl  4q9o.pkl  5cu4.pkl  5ka7.pkl  5tuz.pkl  6f6n.pkl\r\n",
      "3c39.pkl  3r0y.pkl  4f1l.pkl  4qac.pkl  5cxa.pkl  5ka9.pkl  5tv1.pkl  6f6s.pkl\r\n",
      "3c4h.pkl  3r1v.pkl  4f3i.pkl  4qb3.pkl  5cy9.pkl  5kab.pkl  5tw2.pkl  6f9g.pkl\r\n",
      "3c79.pkl  3r24.pkl  4f5y.pkl  4qdk.pkl  5cyi.pkl  5kad.pkl  5tw5.pkl  6fa2.pkl\r\n",
      "3c84.pkl  3r5n.pkl  4f6u.pkl  4qem.pkl  5cyv.pkl  5kat.pkl  5twj.pkl  6fa3.pkl\r\n",
      "3c8e.pkl  3r5t.pkl  4f6w.pkl  4qer.pkl  5czm.pkl  5kau.pkl  5txy.pkl  6fa4.pkl\r\n",
      "3c9e.pkl  3r6u.pkl  4f7v.pkl  4qev.pkl  5d0c.pkl  5kax.pkl  5ty1.pkl  6fap.pkl\r\n",
      "3cct.pkl  3r7o.pkl  4f8j.pkl  4qew.pkl  5d0r.pkl  5kej.pkl  5ty8.pkl  6fba.pkl\r\n",
      "3ccw.pkl  3r8i.pkl  4f9y.pkl  4qf7.pkl  5d1r.pkl  5kew.pkl  5ty9.pkl  6fe0.pkl\r\n",
      "3ccz.pkl  3rdo.pkl  4fak.pkl  4qf8.pkl  5d21.pkl  5kh3.pkl  5tya.pkl  6fe1.pkl\r\n",
      "3cd0.pkl  3rdq.pkl  4fcq.pkl  4qgd.pkl  5d24.pkl  5kh7.pkl  5tzd.pkl  6fg6.pkl\r\n",
      "3cd5.pkl  3re4.pkl  4fcr.pkl  4qip.pkl  5d25.pkl  5khd.pkl  5tzf.pkl  6fgf.pkl\r\n",
      "3cda.pkl  3ri1.pkl  4ffs.pkl  4qiy.pkl  5d26.pkl  5khg.pkl  5tzo.pkl  6fgg.pkl\r\n",
      "3cdb.pkl  3rlb.pkl  4fht.pkl  4qiz.pkl  5d3c.pkl  5khh.pkl  5u0d.pkl  6fhq.pkl\r\n",
      "3cfn.pkl  3rlp.pkl  4fl1.pkl  4qj0.pkl  5d3h.pkl  5khi.pkl  5u0e.pkl  6fi1.pkl\r\n",
      "3cft.pkl  3rm4.pkl  4fl2.pkl  4qjm.pkl  5d3j.pkl  5khj.pkl  5u0f.pkl  6fjm.pkl\r\n",
      "3cj2.pkl  3rsr.pkl  4fl3.pkl  4qjo.pkl  5d3l.pkl  5khk.pkl  5u0g.pkl  6fmc.pkl\r\n",
      "3cj4.pkl  3rsx.pkl  4flp.pkl  4qjp.pkl  5d3n.pkl  5klp.pkl  5u0w.pkl  6fmf.pkl\r\n",
      "3cj5.pkl  3ru1.pkl  4fm7.pkl  4qjw.pkl  5d3p.pkl  5kly.pkl  5u0y.pkl  6fmi.pkl\r\n",
      "3cow.pkl  3rux.pkl  4fm8.pkl  4qjx.pkl  5d3t.pkl  5km0.pkl  5u0z.pkl  6fmj.pkl\r\n",
      "3coy.pkl  3rw9.pkl  4fmu.pkl  4qkd.pkl  5d3x.pkl  5km1.pkl  5u11.pkl  6fmk.pkl\r\n",
      "3coz.pkl  3ry8.pkl  4fnn.pkl  4qnb.pkl  5d7x.pkl  5km2.pkl  5u12.pkl  6fnf.pkl\r\n",
      "3cr4.pkl  3ryj.pkl  4fqo.pkl  4qp2.pkl  5d9p.pkl  5km3.pkl  5u13.pkl  6fng.pkl\r\n",
      "3cr5.pkl  3ryv.pkl  4fxp.pkl  4qpd.pkl  5dbm.pkl  5km5.pkl  5u14.pkl  6fni.pkl\r\n",
      "3ctr.pkl  3ryx.pkl  4fxq.pkl  4qpl.pkl  5dkn.pkl  5km9.pkl  5u28.pkl  6fnj.pkl\r\n",
      "3cwk.pkl  3ryy.pkl  4fzj.pkl  4qsu.pkl  5dkr.pkl  5ko1.pkl  5u49.pkl  6fnq.pkl\r\n",
      "3cyz.pkl  3ryz.pkl  4g0p.pkl  4qsv.pkl  5dlx.pkl  5ko5.pkl  5u4b.pkl  6fns.pkl\r\n",
      "3cz1.pkl  3rz0.pkl  4g0q.pkl  4qsw.pkl  5dlz.pkl  5kva.pkl  5u4d.pkl  6fo5.pkl\r\n",
      "3d0b.pkl  3rz1.pkl  4g0z.pkl  4qsx.pkl  5dnu.pkl  5kxc.pkl  5u4x.pkl  6fs0.pkl\r\n",
      "3d2t.pkl  3rz5.pkl  4g2r.pkl  4qtl.pkl  5doh.pkl  5l2s.pkl  5u9i.pkl  6fs1.pkl\r\n",
      "3d4f.pkl  3rz7.pkl  4g5f.pkl  4qxo.pkl  5dq8.pkl  5l2t.pkl  5uc1.pkl  6ftp.pkl\r\n",
      "3d78.pkl  3rz8.pkl  4g5y.pkl  4qxq.pkl  5dqf.pkl  5l3a.pkl  5uc4.pkl  6fty.pkl\r\n",
      "3d7k.pkl  3s0b.pkl  4g8m.pkl  4qxr.pkl  5drs.pkl  5l4f.pkl  5uch.pkl  6ftz.pkl\r\n",
      "3da9.pkl  3s0d.pkl  4g8n.pkl  4qyy.pkl  5dtk.pkl  5l4i.pkl  5uci.pkl  6fu4.pkl\r\n",
      "3dkj.pkl  3s0e.pkl  4g8r.pkl  4qzs.pkl  5dts.pkl  5l4j.pkl  5ucj.pkl  6fug.pkl\r\n",
      "3dp4.pkl  3s71.pkl  4gah.pkl  4r07.pkl  5dtt.pkl  5l4m.pkl  5ufp.pkl  6fuh.pkl\r\n",
      "3dp9.pkl  3s72.pkl  4ge1.pkl  4r0a.pkl  5du4.pkl  5l8n.pkl  5ufr.pkl  6fui.pkl\r\n",
      "3dst.pkl  3s73.pkl  4ggz.pkl  4r4c.pkl  5du8.pkl  5l8o.pkl  5ugh.pkl  6fuj.pkl\r\n",
      "3dsu.pkl  3s74.pkl  4ghi.pkl  4r4i.pkl  5dus.pkl  5l9g.pkl  5ulp.pkl  6fut.pkl\r\n",
      "3dsz.pkl  3s75.pkl  4glw.pkl  4r4o.pkl  5dx4.pkl  5l9i.pkl  5umw.pkl  6fv4.pkl\r\n",
      "3dzt.pkl  3s76.pkl  4glx.pkl  4r4q.pkl  5dyo.pkl  5l9l.pkl  5umx.pkl  6fyz.pkl\r\n",
      "3e5u.pkl  3s77.pkl  4gny.pkl  4r4t.pkl  5e1s.pkl  5l9o.pkl  5umy.pkl  6g0v.pkl\r\n",
      "3ebl.pkl  3s78.pkl  4gq4.pkl  4r6w.pkl  5e2m.pkl  5ld8.pkl  5un1.pkl  6g14.pkl\r\n",
      "3ed0.pkl  3s7b.pkl  4gqp.pkl  4r73.pkl  5e2n.pkl  5ldm.pkl  5unp.pkl  6g15.pkl\r\n",
      "3eeb.pkl  3s8x.pkl  4gu6.pkl  4r74.pkl  5e3d.pkl  5lif.pkl  5usy.pkl  6g35.pkl\r\n",
      "3ekq.pkl  3s9t.pkl  4gu9.pkl  4r75.pkl  5e5g.pkl  5ll4.pkl  5usz.pkl  6g36.pkl\r\n",
      "3eks.pkl  3sap.pkl  4gue.pkl  4r91.pkl  5e7n.pkl  5ll5.pkl  5ut0.pkl  6g37.pkl\r\n",
      "3ekw.pkl  3sax.pkl  4gui.pkl  4rdn.pkl  5e8a.pkl  5ll9.pkl  5ut4.pkl  6g38.pkl\r\n",
      "3ekx.pkl  3sbh.pkl  4guj.pkl  4rfr.pkl  5ea4.pkl  5lla.pkl  5ut6.pkl  6g47.pkl\r\n",
      "3eky.pkl  3sbi.pkl  4gv8.pkl  4rgd.pkl  5eb3.pkl  5llc.pkl  5uxf.pkl  6g6y.pkl\r\n",
      "3el0.pkl  3sfg.pkl  4gwk.pkl  4rlt.pkl  5ech.pkl  5lle.pkl  5v13.pkl  6g6z.pkl\r\n",
      "3el1.pkl  3sk2.pkl  4h5e.pkl  4rlu.pkl  5eci.pkl  5llg.pkl  5v5y.pkl  6g98.pkl\r\n",
      "3el4.pkl  3smq.pkl  4h7q.pkl  4rlw.pkl  5ect.pkl  5llh.pkl  5v79.pkl  6g9b.pkl\r\n",
      "3el5.pkl  3t0w.pkl  4h81.pkl  4rpn.pkl  5edd.pkl  5lli.pkl  5v7a.pkl  6g9i.pkl\r\n",
      "3el9.pkl  3t0x.pkl  4h85.pkl  4rpo.pkl  5edl.pkl  5llo.pkl  5vad.pkl  6g9u.pkl\r\n",
      "3ern.pkl  3t1l.pkl  4hbm.pkl  4rqk.pkl  5efa.pkl  5llp.pkl  5var.pkl  6ge7.pkl\r\n",
      "3ew2.pkl  3t1m.pkl  4hfp.pkl  4rqv.pkl  5egs.pkl  5lny.pkl  5vb5.pkl  6gf9.pkl\r\n",
      "3exe.pkl  3t2w.pkl  4hiq.pkl  4rr6.pkl  5egu.pkl  5lom.pkl  5vc3.pkl  6gfs.pkl\r\n",
      "3exh.pkl  3tao.pkl  4his.pkl  4rra.pkl  5eh5.pkl  5lpj.pkl  5vc4.pkl  6gfy.pkl\r\n",
      "3f15.pkl  3tay.pkl  4hj2.pkl  4rrf.pkl  5eh7.pkl  5lpk.pkl  5vc5.pkl  6gfz.pkl\r\n",
      "3f16.pkl  3tb6.pkl  4ht0.pkl  4rrg.pkl  5eh8.pkl  5lpl.pkl  5vc6.pkl  6ghh.pkl\r\n",
      "3f17.pkl  3tc5.pkl  4ht2.pkl  4rrq.pkl  5ehe.pkl  5lpm.pkl  5vcv.pkl  6ghp.pkl\r\n",
      "3f18.pkl  3tct.pkl  4hu1.pkl  4rrr.pkl  5ehr.pkl  5lsg.pkl  5vcw.pkl  6gji.pkl\r\n",
      "3f19.pkl  3td4.pkl  4hva.pkl  4rt0.pkl  5ehv.pkl  5ltn.pkl  5vcy.pkl  6gjl.pkl\r\n",
      "3f1a.pkl  3tdj.pkl  4i7j.pkl  4rt1.pkl  5ehw.pkl  5lud.pkl  5vcz.pkl  6gjm.pkl\r\n",
      "3f33.pkl  3tsk.pkl  4i7k.pkl  4rvr.pkl  5ei3.pkl  5luu.pkl  5vd0.pkl  6gjn.pkl\r\n",
      "3f34.pkl  3ttm.pkl  4i7l.pkl  4rwj.pkl  5eis.pkl  5lvn.pkl  5vd1.pkl  6gjr.pkl\r\n",
      "3f35.pkl  3ttn.pkl  4i7m.pkl  4rwl.pkl  5ejl.pkl  5lvq.pkl  5vd2.pkl  6gjy.pkl\r\n",
      "3f36.pkl  3tz4.pkl  4i7p.pkl  4rww.pkl  5ek9.pkl  5lvr.pkl  5vd3.pkl  6gl8.pkl\r\n",
      "3f37.pkl  3u15.pkl  4i8x.pkl  4ryl.pkl  5ekh.pkl  5lwm.pkl  5vdp.pkl  6gl9.pkl\r\n",
      "3f38.pkl  3u5j.pkl  4i9o.pkl  4s2i.pkl  5ekj.pkl  5lws.pkl  5vfj.pkl  6gla.pkl\r\n",
      "3f39.pkl  3u5l.pkl  4ibb.pkl  4tjz.pkl  5ekm.pkl  5lz4.pkl  5vfm.pkl  6glb.pkl\r\n",
      "3f6e.pkl  3u6w.pkl  4ibc.pkl  4tkb.pkl  5el2.pkl  5lz5.pkl  5vfn.pkl  6gmq.pkl\r\n",
      "3f78.pkl  3u90.pkl  4ibd.pkl  4tkh.pkl  5elv.pkl  5lz7.pkl  5vgy.pkl  6gmx.pkl\r\n",
      "3f80.pkl  3ubd.pkl  4ibe.pkl  4tkj.pkl  5en3.pkl  5m9w.pkl  5vl2.pkl  6gnm.pkl\r\n",
      "3f8c.pkl  3udd.pkl  4ibf.pkl  4tpw.pkl  5eng.pkl  5ma7.pkl  5vm0.pkl  6gnp.pkl\r\n",
      "3f8f.pkl  3udv.pkl  4ibg.pkl  4tq3.pkl  5ep7.pkl  5mb1.pkl  5vr8.pkl  6gnr.pkl\r\n",
      "3fat.pkl  3ueu.pkl  4ibi.pkl  4tqn.pkl  5epn.pkl  5meh.pkl  5vs6.pkl  6gnw.pkl\r\n",
      "3feg.pkl  3uev.pkl  4ibj.pkl  4trc.pkl  5epr.pkl  5mek.pkl  5vsb.pkl  6gon.pkl\r\n",
      "3fgc.pkl  3uew.pkl  4ibk.pkl  4tsx.pkl  5eps.pkl  5mes.pkl  5vsc.pkl  6goo.pkl\r\n",
      "3fh7.pkl  3uex.pkl  4idn.pkl  4tte.pkl  5epy.pkl  5mf6.pkl  5vsd.pkl  6gr7.pkl\r\n",
      "3fhb.pkl  3uil.pkl  4igt.pkl  4tu4.pkl  5eq1.pkl  5mg2.pkl  5vse.pkl  6grp.pkl\r\n",
      "3fj7.pkl  3ujb.pkl  4ih5.pkl  4tun.pkl  5eqe.pkl  5mge.pkl  5vsf.pkl  6gu2.pkl\r\n",
      "3fjg.pkl  3umq.pkl  4ih6.pkl  4txc.pkl  5eqp.pkl  5mgf.pkl  5vyy.pkl  6gu3.pkl\r\n",
      "3fql.pkl  3uo4.pkl  4ih7.pkl  4tyl.pkl  5eqq.pkl  5mgj.pkl  5w19.pkl  6gu4.pkl\r\n",
      "3fsj.pkl  3up2.pkl  4ijh.pkl  4tz2.pkl  5er4.pkl  5mgk.pkl  5w1e.pkl  6gu6.pkl\r\n",
      "3fsm.pkl  3upk.pkl  4ijl.pkl  4tz8.pkl  5erg.pkl  5mi5.pkl  5w5v.pkl  6gu7.pkl\r\n",
      "3fw4.pkl  3usx.pkl  4ipi.pkl  4u0e.pkl  5etb.pkl  5mi6.pkl  5w8j.pkl  6gub.pkl\r\n",
      "3fzy.pkl  3uug.pkl  4ipj.pkl  4u0f.pkl  5etk.pkl  5mi7.pkl  5w99.pkl  6guc.pkl\r\n",
      "3g08.pkl  3uvq.pkl  4irx.pkl  4u0w.pkl  5etl.pkl  5ml2.pkl  5wa8.pkl  6gue.pkl\r\n",
      "3g15.pkl  3v2n.pkl  4iue.pkl  4u43.pkl  5etm.pkl  5ml3.pkl  5wa9.pkl  6guf.pkl\r\n",
      "3g5d.pkl  3v2p.pkl  4iuo.pkl  4u4s.pkl  5etn.pkl  5ml6.pkl  5wbf.pkl  6guh.pkl\r\n",
      "3ga5.pkl  3v2q.pkl  4j21.pkl  4u4x.pkl  5eto.pkl  5mme.pkl  5wbm.pkl  6guk.pkl\r\n",
      "3gcp.pkl  3v3l.pkl  4j22.pkl  4u54.pkl  5etp.pkl  5mmg.pkl  5wbo.pkl  6gvz.pkl\r\n",
      "3gcq.pkl  3v3q.pkl  4j3l.pkl  4u5n.pkl  5etq.pkl  5mn1.pkl  5wj6.pkl  6gw4.pkl\r\n",
      "3gcs.pkl  3vha.pkl  4j74.pkl  4u5o.pkl  5etr.pkl  5mnb.pkl  5wl0.pkl  6gwr.pkl\r\n",
      "3gcu.pkl  3vhc.pkl  4j7d.pkl  4u5s.pkl  5ets.pkl  5mnc.pkl  5wmt.pkl  6gzd.pkl\r\n",
      "3gcv.pkl  3vhd.pkl  4j7e.pkl  4u5u.pkl  5ett.pkl  5mng.pkl  5wp5.pkl  6gzh.pkl\r\n",
      "3gf2.pkl  3vjc.pkl  4j8t.pkl  4u5v.pkl  5etv.pkl  5mnh.pkl  5wqj.pkl  6gzm.pkl\r\n",
      "3gk1.pkl  3vje.pkl  4j93.pkl  4u7o.pkl  5etx.pkl  5mnn.pkl  5wqk.pkl  6h7n.pkl\r\n",
      "3gk2.pkl  3vw1.pkl  4jal.pkl  4ucc.pkl  5eu1.pkl  5mno.pkl  5wuk.pkl  6h7o.pkl\r\n",
      "3gk4.pkl  3vw2.pkl  4jdf.pkl  4unp.pkl  5ewh.pkl  5mnr.pkl  5wyx.pkl  6h8s.pkl\r\n",
      "3gkz.pkl  3vws.pkl  4je7.pkl  4uof.pkl  5ewk.pkl  5mo8.pkl  5wyz.pkl  6hd6.pkl\r\n",
      "3gm0.pkl  3w07.pkl  4jfk.pkl  4up5.pkl  5ewy.pkl  5mob.pkl  5x13.pkl  6hke.pkl\r\n",
      "3gnw.pkl  3w5n.pkl  4jfl.pkl  4urx.pkl  5exw.pkl  5mod.pkl  5x4m.pkl  6hlx.pkl\r\n",
      "3gp0.pkl  3w9k.pkl  4jfm.pkl  4ury.pkl  5ey4.pkl  5moe.pkl  5x4n.pkl  6hly.pkl\r\n",
      "3gpo.pkl  3w9r.pkl  4jin.pkl  4urz.pkl  5eyr.pkl  5mpk.pkl  5x4o.pkl  6hlz.pkl\r\n",
      "3gus.pkl  3wb4.pkl  4jkw.pkl  4usi.pkl  5ezg.pkl  5mpn.pkl  5x4p.pkl  6hm2.pkl\r\n",
      "3guz.pkl  3wgg.pkl  4jn2.pkl  4uxq.pkl  5f0f.pkl  5mpz.pkl  5x4q.pkl  6hoy.pkl\r\n",
      "3gvu.pkl  3wha.pkl  4jnj.pkl  4uye.pkl  5f1h.pkl  5mqe.pkl  5x62.pkl  6hqy.pkl\r\n",
      "3gx0.pkl  3wtj.pkl  4jv6.pkl  4uyf.pkl  5f1j.pkl  5mrb.pkl  5x74.pkl  6hrq.pkl\r\n",
      "3gy2.pkl  3wtl.pkl  4jv8.pkl  4v01.pkl  5f1r.pkl  5mrm.pkl  5x9o.pkl  6hsh.pkl\r\n",
      "3gy3.pkl  3wtm.pkl  4jvb.pkl  4v04.pkl  5f25.pkl  5mro.pkl  5xg5.pkl  6ht1.pkl\r\n",
      "3gy4.pkl  3wtn.pkl  4jwk.pkl  4w52.pkl  5f29.pkl  5mrp.pkl  5xiw.pkl  6htg.pkl\r\n",
      "3gy7.pkl  3wto.pkl  4jx9.pkl  4w53.pkl  5f2k.pkl  5msb.pkl  5xmx.pkl  6ma1.pkl\r\n",
      "3h1x.pkl  3wvm.pkl  4jyb.pkl  4w54.pkl  5f2p.pkl  5mtx.pkl  5xo7.pkl  6ma2.pkl\r\n",
      "3h78.pkl  3wzn.pkl  4jym.pkl  4w55.pkl  5f2r.pkl  5mty.pkl  5xpi.pkl  6ma3.pkl\r\n",
      "3hau.pkl  3wzp.pkl  4jzb.pkl  4w57.pkl  5f3t.pkl  5muc.pkl  5xsr.pkl  6ma4.pkl\r\n",
      "3haw.pkl  3wzq.pkl  4k10.pkl  4w9c.pkl  5f3z.pkl  5mwh.pkl  5xsu.pkl  6ma5.pkl\r\n",
      "3hbo.pkl  3zcw.pkl  4k3h.pkl  4w9d.pkl  5f41.pkl  5mwz.pkl  5y2f.pkl  6mjf.pkl\r\n",
      "3hcm.pkl  3zhx.pkl  4k4j.pkl  4w9f.pkl  5f5z.pkl  5mxf.pkl  5y7z.pkl  6mwe.pkl\r\n",
      "3hdk.pkl  3zhz.pkl  4k55.pkl  4w9h.pkl  5f60.pkl  5my8.pkl  5y80.pkl  6mxe.pkl\r\n"
     ]
    }
   ],
   "source": [
    "ls /tmp/moldata"
   ]
  },
  {
   "cell_type": "code",
   "execution_count": 3,
   "metadata": {
    "scrolled": false
   },
   "outputs": [
    {
     "data": {
      "text/plain": [
       "{'H': array([[0, 0, 1, ..., 0, 0, 0],\n",
       "        [1, 0, 0, ..., 0, 0, 0],\n",
       "        [0, 1, 0, ..., 0, 0, 0],\n",
       "        ...,\n",
       "        [0, 0, 0, ..., 0, 0, 0],\n",
       "        [0, 0, 0, ..., 0, 0, 0],\n",
       "        [0, 0, 0, ..., 0, 0, 0]]),\n",
       " 'A1': array([[1, 1, 1, ..., 0, 0, 0],\n",
       "        [1, 1, 1, ..., 0, 0, 0],\n",
       "        [1, 1, 1, ..., 0, 0, 0],\n",
       "        ...,\n",
       "        [0, 0, 0, ..., 1, 1, 1],\n",
       "        [0, 0, 0, ..., 1, 1, 1],\n",
       "        [0, 0, 0, ..., 1, 1, 1]]),\n",
       " 'A2': array([[1, 1, 1, ..., 0, 0, 0],\n",
       "        [1, 1, 1, ..., 0, 0, 0],\n",
       "        [1, 1, 1, ..., 0, 0, 0],\n",
       "        ...,\n",
       "        [0, 0, 0, ..., 1, 1, 1],\n",
       "        [0, 0, 0, ..., 1, 1, 1],\n",
       "        [0, 0, 0, ..., 1, 1, 1]]),\n",
       " 'Y': 1.88,\n",
       " 'V': array([1, 1, 1, 1, 1, 1, 1, 1, 1, 1, 1, 1, 1, 1, 1, 1, 1, 1, 1, 1, 1, 1,\n",
       "        1, 0, 0, 0, 0, 0, 0, 0, 0, 0, 0, 0, 0, 0, 0, 0, 0, 0, 0, 0, 0, 0,\n",
       "        0, 0, 0, 0, 0, 0, 0, 0, 0, 0, 0, 0, 0, 0, 0, 0, 0, 0, 0, 0, 0, 0,\n",
       "        0, 0, 0, 0, 0, 0, 0, 0, 0, 0, 0, 0, 0, 0, 0, 0, 0, 0, 0, 0, 0, 0,\n",
       "        0, 0, 0, 0, 0, 0, 0, 0, 0, 0, 0, 0, 0, 0, 0, 0, 0, 0, 0, 0, 0, 0,\n",
       "        0, 0, 0, 0, 0, 0]),\n",
       " 'key': '1mwt'}"
      ]
     },
     "execution_count": 3,
     "metadata": {},
     "output_type": "execute_result"
    }
   ],
   "source": [
    "data = pickle.load(open('/tmp/moldata/1mwt.pkl', 'rb'))\n",
    "data"
   ]
  },
  {
   "cell_type": "code",
   "execution_count": 4,
   "metadata": {},
   "outputs": [
    {
     "name": "stdout",
     "output_type": "stream",
     "text": [
      "[1 1 1 1 1 1 1 1 1 1 1 1 1 1 1 1 1 1 1 1 1 1 1 0 0 0 0 0 0 0 0 0 0 0 0 0 0 0 0 0 0 0 0 0 0 0 0 0 0 0 0 0 0 0 0 0 0 0 0\n",
      " 0 0 0 0 0 0 0 0 0 0 0 0 0 0 0 0 0 0 0 0 0 0 0 0 0 0 0 0 0 0 0 0 0 0 0 0 0 0 0 0 0 0 0 0 0 0 0 0 0 0 0 0 0 0 0 0 0]\n"
     ]
    }
   ],
   "source": [
    "with WidePrint():\n",
    "    print(data['V'])"
   ]
  },
  {
   "cell_type": "code",
   "execution_count": 5,
   "metadata": {},
   "outputs": [
    {
     "name": "stdout",
     "output_type": "stream",
     "text": [
      "[[0 0 1 0 0 0 0 0 0 0 0 1 0 0 1 0 0 0 0 0 0 0 0 0 0 0 0 0 0 0 0 0 0 0 0 0 0 0 0 0 0 0]\n",
      " [1 0 0 0 0 0 0 0 0 0 0 1 0 0 0 0 0 0 0 0 0 0 0 0 0 0 0 0 0 0 0 0 0 0 0 0 0 0 0 0 0 0]\n",
      " [0 1 0 0 0 0 0 0 0 0 1 0 0 1 0 1 0 0 0 1 0 0 0 0 0 0 0 0 0 0 0 0 0 0 0 0 0 0 0 0 0 0]\n",
      " [1 0 0 0 0 0 0 0 0 0 1 0 0 1 0 0 0 0 0 0 1 0 0 0 0 0 0 0 0 0 0 0 0 0 0 0 0 0 0 0 0 0]\n",
      " [1 0 0 0 0 0 0 0 0 0 0 1 0 0 0 0 0 0 1 0 1 0 0 0 0 0 0 0 0 0 0 0 0 0 0 0 0 0 0 0 0 0]\n",
      " [0 0 1 0 0 0 0 0 0 0 0 1 0 0 1 0 0 0 1 0 1 0 0 0 0 0 0 0 0 0 0 0 0 0 0 0 0 0 0 0 0 0]\n",
      " [0 0 1 0 0 0 0 0 0 0 0 1 0 0 1 1 0 0 1 0 1 0 0 0 0 0 0 0 0 0 0 0 0 0 0 0 0 0 0 0 0 0]\n",
      " [1 0 0 0 0 0 0 0 0 0 1 0 0 1 0 0 1 0 0 0 0 0 0 0 0 0 0 0 0 0 0 0 0 0 0 0 0 0 0 0 0 0]\n",
      " [1 0 0 0 0 0 0 0 0 0 1 0 0 0 0 0 0 0 0 0 0 0 0 0 0 0 0 0 0 0 0 0 0 0 0 0 0 0 0 0 0 0]\n",
      " [1 0 0 0 0 0 0 0 0 0 1 0 0 0 0 0 0 0 0 0 0 0 0 0 0 0 0 0 0 0 0 0 0 0 0 0 0 0 0 0 0 0]\n",
      " [0 0 0 0 0 1 0 0 0 0 1 0 0 1 0 0 0 0 0 0 0 0 0 0 0 0 0 0 0 0 0 0 0 0 0 0 0 0 0 0 0 0]\n",
      " [1 0 0 0 0 0 0 0 0 0 1 0 0 1 0 0 0 0 0 0 0 0 0 0 0 0 0 0 0 0 0 0 0 0 0 0 0 0 0 0 0 0]\n",
      " [1 0 0 0 0 0 0 0 0 0 1 0 0 0 0 0 0 0 0 0 0 0 0 0 0 0 0 0 0 0 0 0 0 0 0 0 0 0 0 0 0 0]\n",
      " [0 1 0 0 0 0 0 0 0 0 0 1 0 0 0 1 0 0 0 0 0 0 0 0 0 0 0 0 0 0 0 0 0 0 0 0 0 0 0 0 0 0]\n",
      " [1 0 0 0 0 0 0 0 0 0 0 1 0 0 0 0 0 0 0 0 0 0 0 0 0 0 0 0 0 0 0 0 0 0 0 0 0 0 0 0 0 0]\n",
      " [0 0 1 0 0 0 0 0 0 0 0 1 0 0 1 0 0 0 0 0 0 0 0 0 0 0 0 0 0 0 0 0 0 0 0 0 0 0 0 0 0 0]\n",
      " [1 0 0 0 0 0 0 0 0 0 1 0 0 0 0 0 1 0 0 0 0 0 0 0 0 0 0 0 0 0 0 0 0 0 0 0 0 0 0 0 0 0]\n",
      " [1 0 0 0 0 0 0 0 0 1 0 1 0 1 0 0 1 1 0 0 0 0 0 0 0 0 0 0 0 0 0 0 0 0 0 0 0 0 0 0 0 0]\n",
      " [1 0 0 0 0 0 0 0 0 1 0 1 0 1 0 0 0 1 0 0 0 0 0 0 0 0 0 0 0 0 0 0 0 0 0 0 0 0 0 0 0 0]\n",
      " [1 0 0 0 0 0 0 0 0 1 0 1 0 1 0 0 0 1 0 0 0 0 0 0 0 0 0 0 0 0 0 0 0 0 0 0 0 0 0 0 0 0]\n",
      " [1 0 0 0 0 0 0 0 0 1 0 1 0 1 0 0 0 1 0 0 0 0 0 0 0 0 0 0 0 0 0 0 0 0 0 0 0 0 0 0 0 0]\n",
      " [1 0 0 0 0 0 0 0 0 1 0 1 0 1 0 0 0 1 0 0 0 0 0 0 0 0 0 0 0 0 0 0 0 0 0 0 0 0 0 0 0 0]\n",
      " [1 0 0 0 0 0 0 0 0 1 0 1 0 1 0 0 0 1 0 0 0 0 0 0 0 0 0 0 0 0 0 0 0 0 0 0 0 0 0 0 0 0]\n",
      " [0 0 0 0 0 0 0 0 0 0 0 0 0 0 0 0 0 0 0 0 0 0 1 0 0 0 0 0 0 0 0 1 0 0 0 0 1 0 0 0 1 0]\n",
      " [0 0 0 0 0 0 0 0 0 0 0 0 0 0 0 0 0 0 0 0 0 1 0 0 0 0 0 0 0 0 0 1 0 0 0 0 0 0 0 0 0 0]\n",
      " [0 0 0 0 0 0 0 0 0 0 0 0 0 0 0 0 0 0 0 0 0 1 0 0 0 0 0 0 0 0 0 0 1 0 0 0 0 0 0 0 0 0]\n",
      " [0 0 0 0 0 0 0 0 0 0 0 0 0 0 0 0 0 0 0 0 0 0 0 1 0 0 0 0 0 0 0 0 1 0 0 1 0 0 0 0 0 0]\n",
      " [0 0 0 0 0 0 0 0 0 0 0 0 0 0 0 0 0 0 0 0 0 0 1 0 0 0 0 0 0 0 0 0 1 0 0 0 1 0 0 0 0 0]\n",
      " [0 0 0 0 0 0 0 0 0 0 0 0 0 0 0 0 0 0 0 0 0 1 0 0 0 0 0 0 0 0 0 1 0 0 0 0 0 0 0 0 0 0]\n",
      " [0 0 0 0 0 0 0 0 0 0 0 0 0 0 0 0 0 0 0 0 0 1 0 0 0 0 0 0 0 0 0 0 1 0 0 0 0 0 0 0 0 0]\n",
      " [0 0 0 0 0 0 0 0 0 0 0 0 0 0 0 0 0 0 0 0 0 0 0 1 0 0 0 0 0 0 0 0 1 0 0 1 0 0 0 0 0 0]\n",
      " [0 0 0 0 0 0 0 0 0 0 0 0 0 0 0 0 0 0 0 0 0 1 0 0 0 0 0 0 0 0 0 1 0 0 0 0 0 0 0 0 0 0]\n",
      " [0 0 0 0 0 0 0 0 0 0 0 0 0 0 0 0 0 0 0 0 0 0 0 1 0 0 0 0 0 0 0 1 0 0 0 1 1 0 0 0 0 0]\n",
      " [0 0 0 0 0 0 0 0 0 0 0 0 0 0 0 0 0 0 0 0 0 0 1 0 0 0 0 0 0 0 0 1 0 0 0 0 1 0 0 0 1 0]\n",
      " [0 0 0 0 0 0 0 0 0 0 0 0 0 0 0 0 0 0 0 0 0 1 0 0 0 0 0 0 0 0 0 1 0 0 0 0 0 0 0 0 0 0]\n",
      " [0 0 0 0 0 0 0 0 0 0 0 0 0 0 0 0 0 0 0 0 0 1 0 0 0 0 0 0 0 0 0 0 1 0 0 0 0 0 0 0 0 0]\n",
      " [0 0 0 0 0 0 0 0 0 0 0 0 0 0 0 0 0 0 0 0 0 0 0 1 0 0 0 0 0 0 0 0 1 0 0 1 0 0 0 0 0 0]\n",
      " [0 0 0 0 0 0 0 0 0 0 0 0 0 0 0 0 0 0 0 0 0 1 0 0 0 0 0 0 0 0 0 1 0 0 0 0 0 1 0 0 0 0]\n",
      " [0 0 0 0 0 0 0 0 0 0 0 0 0 0 0 0 0 0 0 0 0 1 0 0 0 0 0 0 0 0 1 0 1 0 1 0 0 1 1 0 0 0]\n",
      " [0 0 0 0 0 0 0 0 0 0 0 0 0 0 0 0 0 0 0 0 0 1 0 0 0 0 0 0 0 0 1 0 1 0 1 0 0 0 1 0 0 0]\n",
      " [0 0 0 0 0 0 0 0 0 0 0 0 0 0 0 0 0 0 0 0 0 1 0 0 0 0 0 0 0 0 1 0 1 0 1 0 0 0 1 0 0 0]\n",
      " [0 0 0 0 0 0 0 0 0 0 0 0 0 0 0 0 0 0 0 0 0 1 0 0 0 0 0 0 0 0 1 0 1 0 1 0 0 0 1 0 0 0]\n",
      " [0 0 0 0 0 0 0 0 0 0 0 0 0 0 0 0 0 0 0 0 0 1 0 0 0 0 0 0 0 0 1 0 1 0 1 0 0 0 1 0 0 0]\n",
      " [0 0 0 0 0 0 0 0 0 0 0 0 0 0 0 0 0 0 0 0 0 1 0 0 0 0 0 0 0 0 1 0 1 0 1 0 0 0 1 0 0 0]\n",
      " [0 0 0 0 0 0 0 0 0 0 0 0 0 0 0 0 0 0 0 0 0 0 0 1 0 0 0 0 0 0 0 0 1 0 0 1 1 0 0 0 0 0]\n",
      " [0 0 0 0 0 0 0 0 0 0 0 0 0 0 0 0 0 0 0 0 0 0 1 0 0 0 0 0 0 0 0 1 0 0 0 0 1 0 0 0 1 0]\n",
      " [0 0 0 0 0 0 0 0 0 0 0 0 0 0 0 0 0 0 0 0 0 1 0 0 0 0 0 0 0 0 0 1 0 0 0 0 0 0 0 0 0 0]\n",
      " [0 0 0 0 0 0 0 0 0 0 0 0 0 0 0 0 0 0 0 0 0 1 0 0 0 0 0 0 0 0 0 0 1 0 0 0 0 0 0 0 0 0]\n",
      " [0 0 0 0 0 0 0 0 0 0 0 0 0 0 0 0 0 0 0 0 0 0 0 1 0 0 0 0 0 0 0 0 1 0 0 1 0 0 0 0 0 0]\n",
      " [0 0 0 0 0 0 0 0 0 0 0 0 0 0 0 0 0 0 0 0 0 1 0 0 0 0 0 0 0 0 0 1 0 0 0 0 0 0 0 0 0 0]\n",
      " [0 0 0 0 0 0 0 0 0 0 0 0 0 0 0 0 0 0 0 0 0 0 0 1 0 0 0 0 0 0 0 1 0 0 0 1 1 0 0 0 0 0]\n",
      " [0 0 0 0 0 0 0 0 0 0 0 0 0 0 0 0 0 0 0 0 0 0 1 0 0 0 0 0 0 0 0 1 0 0 0 0 1 0 0 0 1 0]\n",
      " [0 0 0 0 0 0 0 0 0 0 0 0 0 0 0 0 0 0 0 0 0 1 0 0 0 0 0 0 0 0 0 1 0 0 0 0 0 0 0 0 0 0]\n",
      " [0 0 0 0 0 0 0 0 0 0 0 0 0 0 0 0 0 0 0 0 0 1 0 0 0 0 0 0 0 0 0 0 1 0 0 0 0 0 0 0 0 0]\n",
      " [0 0 0 0 0 0 0 0 0 0 0 0 0 0 0 0 0 0 0 0 0 0 0 1 0 0 0 0 0 0 0 0 1 0 0 1 0 0 0 0 0 0]\n",
      " [0 0 0 0 0 0 0 0 0 0 0 0 0 0 0 0 0 0 0 0 0 1 0 0 0 0 0 0 0 0 0 1 0 0 0 0 0 1 0 0 0 0]\n",
      " [0 0 0 0 0 0 0 0 0 0 0 0 0 0 0 0 0 0 0 0 0 1 0 0 0 0 0 0 0 0 0 0 1 0 0 0 0 0 0 0 0 0]\n",
      " [0 0 0 0 0 0 0 0 0 0 0 0 0 0 0 0 0 0 0 0 0 0 0 1 0 0 0 0 0 0 0 0 1 0 0 1 0 0 0 0 0 0]\n",
      " [0 0 0 0 0 0 0 0 0 0 0 0 0 0 0 0 0 0 0 0 0 0 1 0 0 0 0 0 0 0 0 0 1 0 0 0 1 0 0 0 0 0]\n",
      " [0 0 0 0 0 0 0 0 0 0 0 0 0 0 0 0 0 0 0 0 0 0 1 0 0 0 0 0 0 0 0 1 0 0 0 0 1 0 0 0 1 0]\n",
      " [0 0 0 0 0 0 0 0 0 0 0 0 0 0 0 0 0 0 0 0 0 1 0 0 0 0 0 0 0 0 0 1 0 0 0 0 0 0 0 0 0 0]\n",
      " [0 0 0 0 0 0 0 0 0 0 0 0 0 0 0 0 0 0 0 0 0 1 0 0 0 0 0 0 0 0 0 0 1 0 0 0 0 0 0 0 0 0]\n",
      " [0 0 0 0 0 0 0 0 0 0 0 0 0 0 0 0 0 0 0 0 0 0 0 1 0 0 0 0 0 0 0 0 1 0 0 1 0 0 0 0 0 0]\n",
      " [0 0 0 0 0 0 0 0 0 0 0 0 0 0 0 0 0 0 0 0 0 1 0 0 0 0 0 0 0 0 0 1 0 0 0 0 0 1 0 0 0 0]\n",
      " [0 0 0 0 0 0 0 0 0 0 0 0 0 0 0 0 0 0 0 0 0 1 0 0 0 0 0 0 0 0 0 1 0 0 0 0 0 1 0 0 0 0]\n",
      " [0 0 0 0 0 0 0 0 0 0 0 0 0 0 0 0 0 0 0 0 0 1 0 0 0 0 0 0 0 0 0 0 1 0 0 0 0 0 0 0 0 0]\n",
      " [0 0 0 0 0 0 0 0 0 0 0 0 0 0 0 0 0 0 0 0 0 0 0 1 0 0 0 0 0 0 0 0 1 0 0 1 0 0 0 0 0 0]\n",
      " [0 0 0 0 0 0 0 0 0 0 0 0 0 0 0 0 0 0 0 0 0 0 1 0 0 0 0 0 0 0 0 0 1 0 0 0 1 0 0 0 0 0]\n",
      " [0 0 0 0 0 0 0 0 0 0 0 0 0 0 0 0 0 0 0 0 0 0 1 0 0 0 0 0 0 0 0 1 0 0 0 0 1 0 0 0 1 0]\n",
      " [0 0 0 0 0 0 0 0 0 0 0 0 0 0 0 0 0 0 0 0 0 1 0 0 0 0 0 0 0 0 0 1 0 0 0 0 0 0 0 0 0 0]\n",
      " [0 0 0 0 0 0 0 0 0 0 0 0 0 0 0 0 0 0 0 0 0 1 0 0 0 0 0 0 0 0 0 0 1 0 0 0 0 0 0 0 0 0]\n",
      " [0 0 0 0 0 0 0 0 0 0 0 0 0 0 0 0 0 0 0 0 0 0 0 1 0 0 0 0 0 0 0 0 1 0 0 1 0 0 0 0 0 0]\n",
      " [0 0 0 0 0 0 0 0 0 0 0 0 0 0 0 0 0 0 0 0 0 1 0 0 0 0 0 0 0 0 0 1 0 0 0 0 0 0 0 0 0 0]\n",
      " [0 0 0 0 0 0 0 0 0 0 0 0 0 0 0 0 0 0 0 0 0 0 0 1 0 0 0 0 0 0 0 1 0 0 0 1 1 0 0 0 0 0]\n",
      " [0 0 0 0 0 0 0 0 0 0 0 0 0 0 0 0 0 0 0 0 0 0 1 0 0 0 0 0 0 0 0 0 1 0 0 0 1 0 0 0 0 0]\n",
      " [0 0 0 0 0 0 0 0 0 0 0 0 0 0 0 0 0 0 0 0 0 1 0 0 0 0 0 0 0 0 0 1 0 0 0 0 0 0 0 0 0 0]\n",
      " [0 0 0 0 0 0 0 0 0 0 0 0 0 0 0 0 0 0 0 0 0 1 0 0 0 0 0 0 0 0 0 0 1 0 0 0 0 0 0 0 0 0]\n",
      " [0 0 0 0 0 0 0 0 0 0 0 0 0 0 0 0 0 0 0 0 0 0 0 1 0 0 0 0 0 0 0 0 1 0 0 1 0 0 0 0 0 0]\n",
      " [0 0 0 0 0 0 0 0 0 0 0 0 0 0 0 0 0 0 0 0 0 0 1 0 0 0 0 0 0 0 0 0 1 0 0 0 1 0 0 0 0 0]\n",
      " [0 0 0 0 0 0 0 0 0 0 0 0 0 0 0 0 0 0 0 0 0 1 0 0 0 0 0 0 0 0 0 1 0 0 0 0 0 0 0 0 0 0]\n",
      " [0 0 0 0 0 0 0 0 0 0 0 0 0 0 0 0 0 0 0 0 0 1 0 0 0 0 0 0 0 0 0 0 1 0 0 0 0 0 0 0 0 0]\n",
      " [0 0 0 0 0 0 0 0 0 0 0 0 0 0 0 0 0 0 0 0 0 0 0 1 0 0 0 0 0 0 0 0 1 0 0 1 0 0 0 0 0 0]\n",
      " [0 0 0 0 0 0 0 0 0 0 0 0 0 0 0 0 0 0 0 0 0 1 0 0 0 0 0 0 0 0 0 1 0 0 0 0 0 0 0 0 0 0]\n",
      " [0 0 0 0 0 0 0 0 0 0 0 0 0 0 0 0 0 0 0 0 0 0 0 1 0 0 0 0 0 0 0 1 0 0 0 1 1 0 0 0 0 0]\n",
      " [0 0 0 0 0 0 0 0 0 0 0 0 0 0 0 0 0 0 0 0 0 1 0 0 0 0 0 0 0 0 0 1 0 0 0 0 0 0 0 0 0 0]\n",
      " [0 0 0 0 0 0 0 0 0 0 0 0 0 0 0 0 0 0 0 0 0 0 1 0 0 0 0 0 0 0 0 1 0 0 0 0 1 0 0 0 1 0]\n",
      " [0 0 0 0 0 0 0 0 0 0 0 0 0 0 0 0 0 0 0 0 0 1 0 0 0 0 0 0 0 0 0 1 0 0 0 0 0 0 0 0 0 0]\n",
      " [0 0 0 0 0 0 0 0 0 0 0 0 0 0 0 0 0 0 0 0 0 1 0 0 0 0 0 0 0 0 0 0 1 0 0 0 0 0 0 0 0 0]\n",
      " [0 0 0 0 0 0 0 0 0 0 0 0 0 0 0 0 0 0 0 0 0 0 0 1 0 0 0 0 0 0 0 0 1 0 0 1 0 0 0 0 0 0]\n",
      " [0 0 0 0 0 0 0 0 0 0 0 0 0 0 0 0 0 0 0 0 0 1 0 0 0 0 0 0 0 0 0 1 0 0 0 0 0 1 0 0 0 0]\n",
      " [0 0 0 0 0 0 0 0 0 0 0 0 0 0 0 0 0 0 0 0 0 1 0 0 0 0 0 0 0 0 0 1 0 0 0 0 0 1 0 0 0 1]\n",
      " [0 0 0 0 0 0 0 0 0 0 0 0 0 0 0 0 0 0 0 0 0 1 0 0 0 0 0 0 0 0 0 0 1 0 0 0 0 0 0 1 0 1]\n",
      " [0 0 0 0 0 0 0 0 0 0 0 0 0 0 0 0 0 0 0 0 0 0 0 1 0 0 0 0 0 0 0 0 1 0 0 1 0 0 0 1 0 1]\n",
      " [0 0 0 0 0 0 0 0 0 0 0 0 0 0 0 0 0 0 0 0 0 0 0 1 0 0 0 0 0 0 0 0 1 0 0 1 1 0 0 1 0 1]\n",
      " [0 0 0 0 0 0 0 0 0 0 0 0 0 0 0 0 0 0 0 0 0 0 1 0 0 0 0 0 0 0 0 1 0 0 0 0 1 0 0 0 1 0]\n",
      " [0 0 0 0 0 0 0 0 0 0 0 0 0 0 0 0 0 0 0 0 0 1 0 0 0 0 0 0 0 0 0 1 0 0 0 0 0 0 0 0 0 0]\n",
      " [0 0 0 0 0 0 0 0 0 0 0 0 0 0 0 0 0 0 0 0 0 1 0 0 0 0 0 0 0 0 0 0 1 0 0 0 0 0 0 0 0 0]\n",
      " [0 0 0 0 0 0 0 0 0 0 0 0 0 0 0 0 0 0 0 0 0 0 0 1 0 0 0 0 0 0 0 0 1 0 0 1 0 0 0 0 0 0]\n",
      " [0 0 0 0 0 0 0 0 0 0 0 0 0 0 0 0 0 0 0 0 0 1 0 0 0 0 0 0 0 0 0 1 0 0 0 0 0 1 0 0 0 0]\n",
      " [0 0 0 0 0 0 0 0 0 0 0 0 0 0 0 0 0 0 0 0 0 1 0 0 0 0 0 0 0 0 0 1 0 0 0 0 0 1 0 0 0 0]\n",
      " [0 0 0 0 0 0 0 0 0 0 0 0 0 0 0 0 0 0 0 0 0 1 0 0 0 0 0 0 0 0 0 0 1 0 0 0 0 0 0 0 0 0]\n",
      " [0 0 0 0 0 0 0 0 0 0 0 0 0 0 0 0 0 0 0 0 0 0 0 1 0 0 0 0 0 0 0 0 1 0 0 1 0 0 0 0 0 0]\n",
      " [0 0 0 0 0 0 0 0 0 0 0 0 0 0 0 0 0 0 0 0 0 0 1 0 0 0 0 0 0 0 0 0 1 0 0 0 1 0 0 0 0 0]\n",
      " [0 0 0 0 0 0 0 0 0 0 0 0 0 0 0 0 0 0 0 0 0 0 1 0 0 0 0 0 0 0 0 1 0 0 0 0 1 0 0 0 1 0]\n",
      " [0 0 0 0 0 0 0 0 0 0 0 0 0 0 0 0 0 0 0 0 0 1 0 0 0 0 0 0 0 0 0 1 0 0 0 0 0 0 0 0 0 0]\n",
      " [0 0 0 0 0 0 0 0 0 0 0 0 0 0 0 0 0 0 0 0 0 1 0 0 0 0 0 0 0 0 0 0 1 0 0 0 0 0 0 0 0 0]\n",
      " [0 0 0 0 0 0 0 0 0 0 0 0 0 0 0 0 0 0 0 0 0 0 0 1 0 0 0 0 0 0 0 0 1 0 0 1 0 0 0 0 0 0]\n",
      " [0 0 0 0 0 0 0 0 0 0 0 0 0 0 0 0 0 0 0 0 0 1 0 0 0 0 0 0 0 0 0 1 0 0 0 0 0 1 0 0 0 0]\n",
      " [0 0 0 0 0 0 0 0 0 0 0 0 0 0 0 0 0 0 0 0 0 1 0 0 0 0 0 0 0 0 0 1 0 0 0 0 0 1 0 0 0 0]\n",
      " [0 0 0 0 0 0 0 0 0 0 0 0 0 0 0 0 0 0 0 0 0 0 0 0 0 0 1 0 0 0 0 1 0 0 0 0 0 0 0 0 0 0]\n",
      " [0 0 0 0 0 0 0 0 0 0 0 0 0 0 0 0 0 0 0 0 0 1 0 0 0 0 0 0 0 0 0 1 0 0 0 0 0 0 0 0 0 0]\n",
      " [0 0 0 0 0 0 0 0 0 0 0 0 0 0 0 0 0 0 0 0 0 0 1 0 0 0 0 0 0 0 0 0 1 0 0 0 1 0 0 0 0 0]\n",
      " [0 0 0 0 0 0 0 0 0 0 0 0 0 0 0 0 0 0 0 0 0 1 0 0 0 0 0 0 0 0 0 1 0 0 0 0 0 0 0 0 0 0]\n",
      " [0 0 0 0 0 0 0 0 0 0 0 0 0 0 0 0 0 0 0 0 0 1 0 0 0 0 0 0 0 0 0 0 1 0 0 0 0 0 0 0 0 0]\n",
      " [0 0 0 0 0 0 0 0 0 0 0 0 0 0 0 0 0 0 0 0 0 0 0 1 0 0 0 0 0 0 0 0 1 0 0 1 0 0 0 0 0 0]\n",
      " [0 0 0 0 0 0 0 0 0 0 0 0 0 0 0 0 0 0 0 0 0 1 0 0 0 0 0 0 0 0 0 1 0 0 0 0 0 0 0 0 0 0]]\n"
     ]
    }
   ],
   "source": [
    "with WidePrint():\n",
    "    print(data['H'])"
   ]
  },
  {
   "cell_type": "code",
   "execution_count": 6,
   "metadata": {},
   "outputs": [
    {
     "data": {
      "text/plain": [
       "{'H': array([[0, 0, 1, ..., 0, 0, 0],\n",
       "        [1, 0, 0, ..., 0, 0, 0],\n",
       "        [0, 1, 0, ..., 0, 0, 0],\n",
       "        ...,\n",
       "        [0, 0, 0, ..., 0, 0, 0],\n",
       "        [0, 0, 0, ..., 0, 0, 0],\n",
       "        [0, 0, 0, ..., 0, 0, 0]]),\n",
       " 'A1': array([[1, 1, 1, ..., 0, 0, 0],\n",
       "        [1, 1, 1, ..., 0, 0, 0],\n",
       "        [1, 1, 1, ..., 0, 0, 0],\n",
       "        ...,\n",
       "        [0, 0, 0, ..., 1, 1, 1],\n",
       "        [0, 0, 0, ..., 1, 1, 1],\n",
       "        [0, 0, 0, ..., 1, 1, 1]]),\n",
       " 'A2': array([[1, 1, 1, ..., 0, 0, 0],\n",
       "        [1, 1, 1, ..., 0, 0, 0],\n",
       "        [1, 1, 1, ..., 0, 0, 0],\n",
       "        ...,\n",
       "        [0, 0, 0, ..., 1, 1, 1],\n",
       "        [0, 0, 0, ..., 1, 1, 1],\n",
       "        [0, 0, 0, ..., 1, 1, 1]]),\n",
       " 'Y': 1.88,\n",
       " 'V': array([1, 1, 1, 1, 1, 1, 1, 1, 1, 1, 1, 1, 1, 1, 1, 1, 1, 1, 1, 1, 1, 1, 1, 0, 0, 0, 0, 0, 0, 0, 0, 0, 0, 0, 0, 0, 0,\n",
       "        0, 0, 0, 0, 0, 0, 0, 0, 0, 0, 0, 0, 0, 0, 0, 0, 0, 0, 0, 0, 0, 0, 0, 0, 0, 0, 0, 0, 0, 0, 0, 0, 0, 0, 0, 0, 0,\n",
       "        0, 0, 0, 0, 0, 0, 0, 0, 0, 0, 0, 0, 0, 0, 0, 0, 0, 0, 0, 0, 0, 0, 0, 0, 0, 0, 0, 0, 0, 0, 0, 0, 0, 0, 0, 0, 0,\n",
       "        0, 0, 0, 0, 0]),\n",
       " 'key': '1mwt'}"
      ]
     },
     "execution_count": 6,
     "metadata": {},
     "output_type": "execute_result"
    }
   ],
   "source": [
    "data"
   ]
  },
  {
   "cell_type": "markdown",
   "metadata": {},
   "source": [
    "<img src=\"lig_pocket.png\" width=\"400\" />"
   ]
  },
  {
   "cell_type": "markdown",
   "metadata": {},
   "source": [
    "<img src=\"lig_pocket_closer.png\" width=\"400\" />"
   ]
  },
  {
   "cell_type": "markdown",
   "metadata": {},
   "source": [
    "### 分子のペアを読み込む"
   ]
  },
  {
   "cell_type": "code",
   "execution_count": 7,
   "metadata": {},
   "outputs": [],
   "source": [
    "ligand = Chem.MolFromMolFile('cbidata/1mwt/PNM.sdf')"
   ]
  },
  {
   "cell_type": "code",
   "execution_count": 8,
   "metadata": {},
   "outputs": [],
   "source": [
    "pocket = Chem.MolFromPDBFile('cbidata/1mwt/1mwt_pocket.pdb')"
   ]
  },
  {
   "cell_type": "markdown",
   "metadata": {},
   "source": [
    "#### コードは0-スタート、上の表示は1-スタートなので、上の表示からは1減らしてアクセス"
   ]
  },
  {
   "cell_type": "code",
   "execution_count": 9,
   "metadata": {},
   "outputs": [
    {
     "name": "stdout",
     "output_type": "stream",
     "text": [
      "15 O\n"
     ]
    }
   ],
   "source": [
    "atom = ligand.GetAtomWithIdx(15)\n",
    "print(atom.GetIdx(), atom.GetSymbol())"
   ]
  },
  {
   "cell_type": "code",
   "execution_count": 10,
   "metadata": {},
   "outputs": [
    {
     "name": "stdout",
     "output_type": "stream",
     "text": [
      "33 C\n"
     ]
    }
   ],
   "source": [
    "atom = pocket.GetAtomWithIdx(33)\n",
    "print(atom.GetIdx(), atom.GetSymbol())"
   ]
  },
  {
   "cell_type": "markdown",
   "metadata": {},
   "source": [
    "#### リガンドは最大60の固定枠で格納されているので、ポケットにアクセスする場合はオフセットを指定"
   ]
  },
  {
   "cell_type": "code",
   "execution_count": 11,
   "metadata": {
    "scrolled": true
   },
   "outputs": [
    {
     "name": "stdout",
     "output_type": "stream",
     "text": [
      "[1 1 1 1 1 1 1 1 1 1 1 1 1 1 1 1 1 1 1 1 1 1 1 0 0 0 0 0 0 0 0 0 0 0 0 0 0 0 0 0 0 0 0 0 0 0 0 0 0 0 0 0 0 0 0 0 0 0 0\n",
      " 0 0 0 0 0 0 0 0 0 0 0 0 0 0 0 0 0 0 0 0 0 0 0 0 0 0 0 0 0 0 0 0 0 0 0 0 0 0 0 0 0 0 0 0 0 0 0 0 0 0 0 0 0 0 0 0 0]\n"
     ]
    }
   ],
   "source": [
    "with WidePrint():\n",
    "    print(data['V'])"
   ]
  },
  {
   "cell_type": "code",
   "execution_count": 12,
   "metadata": {},
   "outputs": [],
   "source": [
    "LIGAND_NATOMS = data['V'].sum()"
   ]
  },
  {
   "cell_type": "code",
   "execution_count": 13,
   "metadata": {
    "scrolled": false
   },
   "outputs": [
    {
     "name": "stdout",
     "output_type": "stream",
     "text": [
      "[[0 0 1 0 0 0 0 0 0 0 0 1 0 0 1 0 0 0 0 0 0 0 0 0 0 0 0 0 0 0 0 0 0 0 0 0 0 0 0 0 0 0]\n",
      " [1 0 0 0 0 0 0 0 0 0 0 1 0 0 0 0 0 0 0 0 0 0 0 0 0 0 0 0 0 0 0 0 0 0 0 0 0 0 0 0 0 0]\n",
      " [0 1 0 0 0 0 0 0 0 0 1 0 0 1 0 1 0 0 0 1 0 0 0 0 0 0 0 0 0 0 0 0 0 0 0 0 0 0 0 0 0 0]\n",
      " [1 0 0 0 0 0 0 0 0 0 1 0 0 1 0 0 0 0 0 0 1 0 0 0 0 0 0 0 0 0 0 0 0 0 0 0 0 0 0 0 0 0]\n",
      " [1 0 0 0 0 0 0 0 0 0 0 1 0 0 0 0 0 0 1 0 1 0 0 0 0 0 0 0 0 0 0 0 0 0 0 0 0 0 0 0 0 0]\n",
      " [0 0 1 0 0 0 0 0 0 0 0 1 0 0 1 0 0 0 1 0 1 0 0 0 0 0 0 0 0 0 0 0 0 0 0 0 0 0 0 0 0 0]\n",
      " [0 0 1 0 0 0 0 0 0 0 0 1 0 0 1 1 0 0 1 0 1 0 0 0 0 0 0 0 0 0 0 0 0 0 0 0 0 0 0 0 0 0]\n",
      " [1 0 0 0 0 0 0 0 0 0 1 0 0 1 0 0 1 0 0 0 0 0 0 0 0 0 0 0 0 0 0 0 0 0 0 0 0 0 0 0 0 0]\n",
      " [1 0 0 0 0 0 0 0 0 0 1 0 0 0 0 0 0 0 0 0 0 0 0 0 0 0 0 0 0 0 0 0 0 0 0 0 0 0 0 0 0 0]\n",
      " [1 0 0 0 0 0 0 0 0 0 1 0 0 0 0 0 0 0 0 0 0 0 0 0 0 0 0 0 0 0 0 0 0 0 0 0 0 0 0 0 0 0]\n",
      " [0 0 0 0 0 1 0 0 0 0 1 0 0 1 0 0 0 0 0 0 0 0 0 0 0 0 0 0 0 0 0 0 0 0 0 0 0 0 0 0 0 0]\n",
      " [1 0 0 0 0 0 0 0 0 0 1 0 0 1 0 0 0 0 0 0 0 0 0 0 0 0 0 0 0 0 0 0 0 0 0 0 0 0 0 0 0 0]\n",
      " [1 0 0 0 0 0 0 0 0 0 1 0 0 0 0 0 0 0 0 0 0 0 0 0 0 0 0 0 0 0 0 0 0 0 0 0 0 0 0 0 0 0]\n",
      " [0 1 0 0 0 0 0 0 0 0 0 1 0 0 0 1 0 0 0 0 0 0 0 0 0 0 0 0 0 0 0 0 0 0 0 0 0 0 0 0 0 0]\n",
      " [1 0 0 0 0 0 0 0 0 0 0 1 0 0 0 0 0 0 0 0 0 0 0 0 0 0 0 0 0 0 0 0 0 0 0 0 0 0 0 0 0 0]\n",
      " [0 0 1 0 0 0 0 0 0 0 0 1 0 0 1 0 0 0 0 0 0 0 0 0 0 0 0 0 0 0 0 0 0 0 0 0 0 0 0 0 0 0]\n",
      " [1 0 0 0 0 0 0 0 0 0 1 0 0 0 0 0 1 0 0 0 0 0 0 0 0 0 0 0 0 0 0 0 0 0 0 0 0 0 0 0 0 0]\n",
      " [1 0 0 0 0 0 0 0 0 1 0 1 0 1 0 0 1 1 0 0 0 0 0 0 0 0 0 0 0 0 0 0 0 0 0 0 0 0 0 0 0 0]\n",
      " [1 0 0 0 0 0 0 0 0 1 0 1 0 1 0 0 0 1 0 0 0 0 0 0 0 0 0 0 0 0 0 0 0 0 0 0 0 0 0 0 0 0]\n",
      " [1 0 0 0 0 0 0 0 0 1 0 1 0 1 0 0 0 1 0 0 0 0 0 0 0 0 0 0 0 0 0 0 0 0 0 0 0 0 0 0 0 0]\n",
      " [1 0 0 0 0 0 0 0 0 1 0 1 0 1 0 0 0 1 0 0 0 0 0 0 0 0 0 0 0 0 0 0 0 0 0 0 0 0 0 0 0 0]\n",
      " [1 0 0 0 0 0 0 0 0 1 0 1 0 1 0 0 0 1 0 0 0 0 0 0 0 0 0 0 0 0 0 0 0 0 0 0 0 0 0 0 0 0]\n",
      " [1 0 0 0 0 0 0 0 0 1 0 1 0 1 0 0 0 1 0 0 0 0 0 0 0 0 0 0 0 0 0 0 0 0 0 0 0 0 0 0 0 0]\n",
      " [0 0 0 0 0 0 0 0 0 0 0 0 0 0 0 0 0 0 0 0 0 0 1 0 0 0 0 0 0 0 0 1 0 0 0 0 1 0 0 0 1 0]\n",
      " [0 0 0 0 0 0 0 0 0 0 0 0 0 0 0 0 0 0 0 0 0 1 0 0 0 0 0 0 0 0 0 1 0 0 0 0 0 0 0 0 0 0]\n",
      " [0 0 0 0 0 0 0 0 0 0 0 0 0 0 0 0 0 0 0 0 0 1 0 0 0 0 0 0 0 0 0 0 1 0 0 0 0 0 0 0 0 0]\n",
      " [0 0 0 0 0 0 0 0 0 0 0 0 0 0 0 0 0 0 0 0 0 0 0 1 0 0 0 0 0 0 0 0 1 0 0 1 0 0 0 0 0 0]\n",
      " [0 0 0 0 0 0 0 0 0 0 0 0 0 0 0 0 0 0 0 0 0 0 1 0 0 0 0 0 0 0 0 0 1 0 0 0 1 0 0 0 0 0]\n",
      " [0 0 0 0 0 0 0 0 0 0 0 0 0 0 0 0 0 0 0 0 0 1 0 0 0 0 0 0 0 0 0 1 0 0 0 0 0 0 0 0 0 0]\n",
      " [0 0 0 0 0 0 0 0 0 0 0 0 0 0 0 0 0 0 0 0 0 1 0 0 0 0 0 0 0 0 0 0 1 0 0 0 0 0 0 0 0 0]\n",
      " [0 0 0 0 0 0 0 0 0 0 0 0 0 0 0 0 0 0 0 0 0 0 0 1 0 0 0 0 0 0 0 0 1 0 0 1 0 0 0 0 0 0]\n",
      " [0 0 0 0 0 0 0 0 0 0 0 0 0 0 0 0 0 0 0 0 0 1 0 0 0 0 0 0 0 0 0 1 0 0 0 0 0 0 0 0 0 0]\n",
      " [0 0 0 0 0 0 0 0 0 0 0 0 0 0 0 0 0 0 0 0 0 0 0 1 0 0 0 0 0 0 0 1 0 0 0 1 1 0 0 0 0 0]\n",
      " [0 0 0 0 0 0 0 0 0 0 0 0 0 0 0 0 0 0 0 0 0 0 1 0 0 0 0 0 0 0 0 1 0 0 0 0 1 0 0 0 1 0]\n",
      " [0 0 0 0 0 0 0 0 0 0 0 0 0 0 0 0 0 0 0 0 0 1 0 0 0 0 0 0 0 0 0 1 0 0 0 0 0 0 0 0 0 0]\n",
      " [0 0 0 0 0 0 0 0 0 0 0 0 0 0 0 0 0 0 0 0 0 1 0 0 0 0 0 0 0 0 0 0 1 0 0 0 0 0 0 0 0 0]\n",
      " [0 0 0 0 0 0 0 0 0 0 0 0 0 0 0 0 0 0 0 0 0 0 0 1 0 0 0 0 0 0 0 0 1 0 0 1 0 0 0 0 0 0]\n",
      " [0 0 0 0 0 0 0 0 0 0 0 0 0 0 0 0 0 0 0 0 0 1 0 0 0 0 0 0 0 0 0 1 0 0 0 0 0 1 0 0 0 0]\n",
      " [0 0 0 0 0 0 0 0 0 0 0 0 0 0 0 0 0 0 0 0 0 1 0 0 0 0 0 0 0 0 1 0 1 0 1 0 0 1 1 0 0 0]\n",
      " [0 0 0 0 0 0 0 0 0 0 0 0 0 0 0 0 0 0 0 0 0 1 0 0 0 0 0 0 0 0 1 0 1 0 1 0 0 0 1 0 0 0]\n",
      " [0 0 0 0 0 0 0 0 0 0 0 0 0 0 0 0 0 0 0 0 0 1 0 0 0 0 0 0 0 0 1 0 1 0 1 0 0 0 1 0 0 0]\n",
      " [0 0 0 0 0 0 0 0 0 0 0 0 0 0 0 0 0 0 0 0 0 1 0 0 0 0 0 0 0 0 1 0 1 0 1 0 0 0 1 0 0 0]\n",
      " [0 0 0 0 0 0 0 0 0 0 0 0 0 0 0 0 0 0 0 0 0 1 0 0 0 0 0 0 0 0 1 0 1 0 1 0 0 0 1 0 0 0]\n",
      " [0 0 0 0 0 0 0 0 0 0 0 0 0 0 0 0 0 0 0 0 0 1 0 0 0 0 0 0 0 0 1 0 1 0 1 0 0 0 1 0 0 0]\n",
      " [0 0 0 0 0 0 0 0 0 0 0 0 0 0 0 0 0 0 0 0 0 0 0 1 0 0 0 0 0 0 0 0 1 0 0 1 1 0 0 0 0 0]\n",
      " [0 0 0 0 0 0 0 0 0 0 0 0 0 0 0 0 0 0 0 0 0 0 1 0 0 0 0 0 0 0 0 1 0 0 0 0 1 0 0 0 1 0]\n",
      " [0 0 0 0 0 0 0 0 0 0 0 0 0 0 0 0 0 0 0 0 0 1 0 0 0 0 0 0 0 0 0 1 0 0 0 0 0 0 0 0 0 0]\n",
      " [0 0 0 0 0 0 0 0 0 0 0 0 0 0 0 0 0 0 0 0 0 1 0 0 0 0 0 0 0 0 0 0 1 0 0 0 0 0 0 0 0 0]\n",
      " [0 0 0 0 0 0 0 0 0 0 0 0 0 0 0 0 0 0 0 0 0 0 0 1 0 0 0 0 0 0 0 0 1 0 0 1 0 0 0 0 0 0]\n",
      " [0 0 0 0 0 0 0 0 0 0 0 0 0 0 0 0 0 0 0 0 0 1 0 0 0 0 0 0 0 0 0 1 0 0 0 0 0 0 0 0 0 0]\n",
      " [0 0 0 0 0 0 0 0 0 0 0 0 0 0 0 0 0 0 0 0 0 0 0 1 0 0 0 0 0 0 0 1 0 0 0 1 1 0 0 0 0 0]\n",
      " [0 0 0 0 0 0 0 0 0 0 0 0 0 0 0 0 0 0 0 0 0 0 1 0 0 0 0 0 0 0 0 1 0 0 0 0 1 0 0 0 1 0]\n",
      " [0 0 0 0 0 0 0 0 0 0 0 0 0 0 0 0 0 0 0 0 0 1 0 0 0 0 0 0 0 0 0 1 0 0 0 0 0 0 0 0 0 0]\n",
      " [0 0 0 0 0 0 0 0 0 0 0 0 0 0 0 0 0 0 0 0 0 1 0 0 0 0 0 0 0 0 0 0 1 0 0 0 0 0 0 0 0 0]\n",
      " [0 0 0 0 0 0 0 0 0 0 0 0 0 0 0 0 0 0 0 0 0 0 0 1 0 0 0 0 0 0 0 0 1 0 0 1 0 0 0 0 0 0]\n",
      " [0 0 0 0 0 0 0 0 0 0 0 0 0 0 0 0 0 0 0 0 0 1 0 0 0 0 0 0 0 0 0 1 0 0 0 0 0 1 0 0 0 0]\n",
      " [0 0 0 0 0 0 0 0 0 0 0 0 0 0 0 0 0 0 0 0 0 1 0 0 0 0 0 0 0 0 0 0 1 0 0 0 0 0 0 0 0 0]\n",
      " [0 0 0 0 0 0 0 0 0 0 0 0 0 0 0 0 0 0 0 0 0 0 0 1 0 0 0 0 0 0 0 0 1 0 0 1 0 0 0 0 0 0]\n",
      " [0 0 0 0 0 0 0 0 0 0 0 0 0 0 0 0 0 0 0 0 0 0 1 0 0 0 0 0 0 0 0 0 1 0 0 0 1 0 0 0 0 0]\n",
      " [0 0 0 0 0 0 0 0 0 0 0 0 0 0 0 0 0 0 0 0 0 0 1 0 0 0 0 0 0 0 0 1 0 0 0 0 1 0 0 0 1 0]\n",
      " [0 0 0 0 0 0 0 0 0 0 0 0 0 0 0 0 0 0 0 0 0 1 0 0 0 0 0 0 0 0 0 1 0 0 0 0 0 0 0 0 0 0]\n",
      " [0 0 0 0 0 0 0 0 0 0 0 0 0 0 0 0 0 0 0 0 0 1 0 0 0 0 0 0 0 0 0 0 1 0 0 0 0 0 0 0 0 0]\n",
      " [0 0 0 0 0 0 0 0 0 0 0 0 0 0 0 0 0 0 0 0 0 0 0 1 0 0 0 0 0 0 0 0 1 0 0 1 0 0 0 0 0 0]\n",
      " [0 0 0 0 0 0 0 0 0 0 0 0 0 0 0 0 0 0 0 0 0 1 0 0 0 0 0 0 0 0 0 1 0 0 0 0 0 1 0 0 0 0]\n",
      " [0 0 0 0 0 0 0 0 0 0 0 0 0 0 0 0 0 0 0 0 0 1 0 0 0 0 0 0 0 0 0 1 0 0 0 0 0 1 0 0 0 0]\n",
      " [0 0 0 0 0 0 0 0 0 0 0 0 0 0 0 0 0 0 0 0 0 1 0 0 0 0 0 0 0 0 0 0 1 0 0 0 0 0 0 0 0 0]\n",
      " [0 0 0 0 0 0 0 0 0 0 0 0 0 0 0 0 0 0 0 0 0 0 0 1 0 0 0 0 0 0 0 0 1 0 0 1 0 0 0 0 0 0]\n",
      " [0 0 0 0 0 0 0 0 0 0 0 0 0 0 0 0 0 0 0 0 0 0 1 0 0 0 0 0 0 0 0 0 1 0 0 0 1 0 0 0 0 0]\n",
      " [0 0 0 0 0 0 0 0 0 0 0 0 0 0 0 0 0 0 0 0 0 0 1 0 0 0 0 0 0 0 0 1 0 0 0 0 1 0 0 0 1 0]\n",
      " [0 0 0 0 0 0 0 0 0 0 0 0 0 0 0 0 0 0 0 0 0 1 0 0 0 0 0 0 0 0 0 1 0 0 0 0 0 0 0 0 0 0]\n",
      " [0 0 0 0 0 0 0 0 0 0 0 0 0 0 0 0 0 0 0 0 0 1 0 0 0 0 0 0 0 0 0 0 1 0 0 0 0 0 0 0 0 0]\n",
      " [0 0 0 0 0 0 0 0 0 0 0 0 0 0 0 0 0 0 0 0 0 0 0 1 0 0 0 0 0 0 0 0 1 0 0 1 0 0 0 0 0 0]\n",
      " [0 0 0 0 0 0 0 0 0 0 0 0 0 0 0 0 0 0 0 0 0 1 0 0 0 0 0 0 0 0 0 1 0 0 0 0 0 0 0 0 0 0]\n",
      " [0 0 0 0 0 0 0 0 0 0 0 0 0 0 0 0 0 0 0 0 0 0 0 1 0 0 0 0 0 0 0 1 0 0 0 1 1 0 0 0 0 0]\n",
      " [0 0 0 0 0 0 0 0 0 0 0 0 0 0 0 0 0 0 0 0 0 0 1 0 0 0 0 0 0 0 0 0 1 0 0 0 1 0 0 0 0 0]\n",
      " [0 0 0 0 0 0 0 0 0 0 0 0 0 0 0 0 0 0 0 0 0 1 0 0 0 0 0 0 0 0 0 1 0 0 0 0 0 0 0 0 0 0]\n",
      " [0 0 0 0 0 0 0 0 0 0 0 0 0 0 0 0 0 0 0 0 0 1 0 0 0 0 0 0 0 0 0 0 1 0 0 0 0 0 0 0 0 0]\n",
      " [0 0 0 0 0 0 0 0 0 0 0 0 0 0 0 0 0 0 0 0 0 0 0 1 0 0 0 0 0 0 0 0 1 0 0 1 0 0 0 0 0 0]\n",
      " [0 0 0 0 0 0 0 0 0 0 0 0 0 0 0 0 0 0 0 0 0 0 1 0 0 0 0 0 0 0 0 0 1 0 0 0 1 0 0 0 0 0]\n",
      " [0 0 0 0 0 0 0 0 0 0 0 0 0 0 0 0 0 0 0 0 0 1 0 0 0 0 0 0 0 0 0 1 0 0 0 0 0 0 0 0 0 0]\n",
      " [0 0 0 0 0 0 0 0 0 0 0 0 0 0 0 0 0 0 0 0 0 1 0 0 0 0 0 0 0 0 0 0 1 0 0 0 0 0 0 0 0 0]\n",
      " [0 0 0 0 0 0 0 0 0 0 0 0 0 0 0 0 0 0 0 0 0 0 0 1 0 0 0 0 0 0 0 0 1 0 0 1 0 0 0 0 0 0]\n",
      " [0 0 0 0 0 0 0 0 0 0 0 0 0 0 0 0 0 0 0 0 0 1 0 0 0 0 0 0 0 0 0 1 0 0 0 0 0 0 0 0 0 0]\n",
      " [0 0 0 0 0 0 0 0 0 0 0 0 0 0 0 0 0 0 0 0 0 0 0 1 0 0 0 0 0 0 0 1 0 0 0 1 1 0 0 0 0 0]\n",
      " [0 0 0 0 0 0 0 0 0 0 0 0 0 0 0 0 0 0 0 0 0 1 0 0 0 0 0 0 0 0 0 1 0 0 0 0 0 0 0 0 0 0]\n",
      " [0 0 0 0 0 0 0 0 0 0 0 0 0 0 0 0 0 0 0 0 0 0 1 0 0 0 0 0 0 0 0 1 0 0 0 0 1 0 0 0 1 0]\n",
      " [0 0 0 0 0 0 0 0 0 0 0 0 0 0 0 0 0 0 0 0 0 1 0 0 0 0 0 0 0 0 0 1 0 0 0 0 0 0 0 0 0 0]\n",
      " [0 0 0 0 0 0 0 0 0 0 0 0 0 0 0 0 0 0 0 0 0 1 0 0 0 0 0 0 0 0 0 0 1 0 0 0 0 0 0 0 0 0]\n",
      " [0 0 0 0 0 0 0 0 0 0 0 0 0 0 0 0 0 0 0 0 0 0 0 1 0 0 0 0 0 0 0 0 1 0 0 1 0 0 0 0 0 0]\n",
      " [0 0 0 0 0 0 0 0 0 0 0 0 0 0 0 0 0 0 0 0 0 1 0 0 0 0 0 0 0 0 0 1 0 0 0 0 0 1 0 0 0 0]\n",
      " [0 0 0 0 0 0 0 0 0 0 0 0 0 0 0 0 0 0 0 0 0 1 0 0 0 0 0 0 0 0 0 1 0 0 0 0 0 1 0 0 0 1]\n",
      " [0 0 0 0 0 0 0 0 0 0 0 0 0 0 0 0 0 0 0 0 0 1 0 0 0 0 0 0 0 0 0 0 1 0 0 0 0 0 0 1 0 1]\n",
      " [0 0 0 0 0 0 0 0 0 0 0 0 0 0 0 0 0 0 0 0 0 0 0 1 0 0 0 0 0 0 0 0 1 0 0 1 0 0 0 1 0 1]\n",
      " [0 0 0 0 0 0 0 0 0 0 0 0 0 0 0 0 0 0 0 0 0 0 0 1 0 0 0 0 0 0 0 0 1 0 0 1 1 0 0 1 0 1]\n",
      " [0 0 0 0 0 0 0 0 0 0 0 0 0 0 0 0 0 0 0 0 0 0 1 0 0 0 0 0 0 0 0 1 0 0 0 0 1 0 0 0 1 0]\n",
      " [0 0 0 0 0 0 0 0 0 0 0 0 0 0 0 0 0 0 0 0 0 1 0 0 0 0 0 0 0 0 0 1 0 0 0 0 0 0 0 0 0 0]\n",
      " [0 0 0 0 0 0 0 0 0 0 0 0 0 0 0 0 0 0 0 0 0 1 0 0 0 0 0 0 0 0 0 0 1 0 0 0 0 0 0 0 0 0]\n",
      " [0 0 0 0 0 0 0 0 0 0 0 0 0 0 0 0 0 0 0 0 0 0 0 1 0 0 0 0 0 0 0 0 1 0 0 1 0 0 0 0 0 0]\n",
      " [0 0 0 0 0 0 0 0 0 0 0 0 0 0 0 0 0 0 0 0 0 1 0 0 0 0 0 0 0 0 0 1 0 0 0 0 0 1 0 0 0 0]\n",
      " [0 0 0 0 0 0 0 0 0 0 0 0 0 0 0 0 0 0 0 0 0 1 0 0 0 0 0 0 0 0 0 1 0 0 0 0 0 1 0 0 0 0]\n",
      " [0 0 0 0 0 0 0 0 0 0 0 0 0 0 0 0 0 0 0 0 0 1 0 0 0 0 0 0 0 0 0 0 1 0 0 0 0 0 0 0 0 0]\n",
      " [0 0 0 0 0 0 0 0 0 0 0 0 0 0 0 0 0 0 0 0 0 0 0 1 0 0 0 0 0 0 0 0 1 0 0 1 0 0 0 0 0 0]\n",
      " [0 0 0 0 0 0 0 0 0 0 0 0 0 0 0 0 0 0 0 0 0 0 1 0 0 0 0 0 0 0 0 0 1 0 0 0 1 0 0 0 0 0]\n",
      " [0 0 0 0 0 0 0 0 0 0 0 0 0 0 0 0 0 0 0 0 0 0 1 0 0 0 0 0 0 0 0 1 0 0 0 0 1 0 0 0 1 0]\n",
      " [0 0 0 0 0 0 0 0 0 0 0 0 0 0 0 0 0 0 0 0 0 1 0 0 0 0 0 0 0 0 0 1 0 0 0 0 0 0 0 0 0 0]\n",
      " [0 0 0 0 0 0 0 0 0 0 0 0 0 0 0 0 0 0 0 0 0 1 0 0 0 0 0 0 0 0 0 0 1 0 0 0 0 0 0 0 0 0]\n",
      " [0 0 0 0 0 0 0 0 0 0 0 0 0 0 0 0 0 0 0 0 0 0 0 1 0 0 0 0 0 0 0 0 1 0 0 1 0 0 0 0 0 0]\n",
      " [0 0 0 0 0 0 0 0 0 0 0 0 0 0 0 0 0 0 0 0 0 1 0 0 0 0 0 0 0 0 0 1 0 0 0 0 0 1 0 0 0 0]\n",
      " [0 0 0 0 0 0 0 0 0 0 0 0 0 0 0 0 0 0 0 0 0 1 0 0 0 0 0 0 0 0 0 1 0 0 0 0 0 1 0 0 0 0]\n",
      " [0 0 0 0 0 0 0 0 0 0 0 0 0 0 0 0 0 0 0 0 0 0 0 0 0 0 1 0 0 0 0 1 0 0 0 0 0 0 0 0 0 0]\n",
      " [0 0 0 0 0 0 0 0 0 0 0 0 0 0 0 0 0 0 0 0 0 1 0 0 0 0 0 0 0 0 0 1 0 0 0 0 0 0 0 0 0 0]\n",
      " [0 0 0 0 0 0 0 0 0 0 0 0 0 0 0 0 0 0 0 0 0 0 1 0 0 0 0 0 0 0 0 0 1 0 0 0 1 0 0 0 0 0]\n",
      " [0 0 0 0 0 0 0 0 0 0 0 0 0 0 0 0 0 0 0 0 0 1 0 0 0 0 0 0 0 0 0 1 0 0 0 0 0 0 0 0 0 0]\n",
      " [0 0 0 0 0 0 0 0 0 0 0 0 0 0 0 0 0 0 0 0 0 1 0 0 0 0 0 0 0 0 0 0 1 0 0 0 0 0 0 0 0 0]\n",
      " [0 0 0 0 0 0 0 0 0 0 0 0 0 0 0 0 0 0 0 0 0 0 0 1 0 0 0 0 0 0 0 0 1 0 0 1 0 0 0 0 0 0]\n",
      " [0 0 0 0 0 0 0 0 0 0 0 0 0 0 0 0 0 0 0 0 0 1 0 0 0 0 0 0 0 0 0 1 0 0 0 0 0 0 0 0 0 0]]\n"
     ]
    }
   ],
   "source": [
    "with WidePrint():\n",
    "    print(data['H'])"
   ]
  },
  {
   "cell_type": "markdown",
   "metadata": {},
   "source": [
    "#### ligand side"
   ]
  },
  {
   "cell_type": "code",
   "execution_count": 14,
   "metadata": {},
   "outputs": [
    {
     "name": "stdout",
     "output_type": "stream",
     "text": [
      "[0 0 1 0 0 0 0 0 0 0 0 1 0 0 1 0 0 0 0 0 0 0 0 0 0 0 0 0 0 0 0 0 0 0 0 0 0 0 0 0 0 0]\n"
     ]
    }
   ],
   "source": [
    "with WidePrint():\n",
    "    print(data['H'][15])"
   ]
  },
  {
   "cell_type": "markdown",
   "metadata": {},
   "source": [
    "#### pocket side"
   ]
  },
  {
   "cell_type": "code",
   "execution_count": 15,
   "metadata": {},
   "outputs": [
    {
     "name": "stdout",
     "output_type": "stream",
     "text": [
      "[1 0 0 0 0 0 0 0 0 0 0 1 0 0 0 0 0 0 0 0 0]\n"
     ]
    }
   ],
   "source": [
    "with WidePrint():\n",
    "    print(data['H'][LIGAND_NATOMS+33][21:])"
   ]
  },
  {
   "cell_type": "markdown",
   "metadata": {},
   "source": [
    "#### intra-ligand"
   ]
  },
  {
   "cell_type": "code",
   "execution_count": 16,
   "metadata": {},
   "outputs": [
    {
     "name": "stdout",
     "output_type": "stream",
     "text": [
      "[0 0 0 0 0 0 0 0 0 0 1 1 1 1 1 1 1 1 1 0 0 0 0]\n"
     ]
    }
   ],
   "source": [
    "with WidePrint():\n",
    "    print(data['A2'][15][:LIGAND_NATOMS])"
   ]
  },
  {
   "cell_type": "markdown",
   "metadata": {},
   "source": [
    "#### ligand-pocket"
   ]
  },
  {
   "cell_type": "code",
   "execution_count": 17,
   "metadata": {},
   "outputs": [
    {
     "name": "stdout",
     "output_type": "stream",
     "text": [
      "[0 0 0 0 0 0 0 0 0 0 0 0 0 0 0 0 0 0 0 0 0 0 0 0 0 0 0 0 0 0 0 0 0 1 1 1 0 0 0 0 0 0 0 0 1 0 0 0 0 0 0 0 0 0 0 0 0 0 0\n",
      " 0 0 0 0 0 0 0 0 0 0 0 0 0 0 0 0 0 0 0 0 0 0 0 0 0 0 0 0 0 0 0 0 0 0]\n"
     ]
    }
   ],
   "source": [
    "with WidePrint():\n",
    "    print(data['A2'][15][LIGAND_NATOMS:])"
   ]
  },
  {
   "cell_type": "code",
   "execution_count": null,
   "metadata": {},
   "outputs": [],
   "source": []
  }
 ],
 "metadata": {
  "kernelspec": {
   "display_name": "Python 3",
   "language": "python",
   "name": "python3"
  },
  "language_info": {
   "codemirror_mode": {
    "name": "ipython",
    "version": 3
   },
   "file_extension": ".py",
   "mimetype": "text/x-python",
   "name": "python",
   "nbconvert_exporter": "python",
   "pygments_lexer": "ipython3",
   "version": "3.7.7"
  }
 },
 "nbformat": 4,
 "nbformat_minor": 4
}
